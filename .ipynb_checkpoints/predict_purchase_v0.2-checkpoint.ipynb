{
 "cells": [
  {
   "cell_type": "markdown",
   "metadata": {},
   "source": [
    "# Predict purchase "
   ]
  },
  {
   "cell_type": "markdown",
   "metadata": {},
   "source": [
    "## File structure\n",
    "**event_time**\n",
    "\n",
    "Time when event happened at (in UTC).\n",
    "\n",
    "**event_type**\n",
    "\n",
    "Events can be:\n",
    "\n",
    "* view - a user viewed a product\n",
    "* cart - a user added a product to shopping cart\n",
    "* removefromcart - a user removed a product from shopping cart\n",
    "* purchase - a user purchased a product\n",
    "Typical funnel: view => cart => purchase.\n",
    "\n",
    "**product_id**\n",
    "\n",
    "ID of a product\n",
    "\n",
    "**category_id**\n",
    "\n",
    "Product's category ID\n",
    "\n",
    "**category_code**\n",
    "\n",
    "Product's category taxonomy (code name) if it was possible to make it. Usually present for meaningful categories and skipped for different kinds of accessories.\n",
    "\n",
    "**brand**\n",
    "\n",
    "Downcased string of brand name. Can be missed.\n",
    "\n",
    "**price**\n",
    "\n",
    "Float price of a product. Present.\n",
    "\n",
    "**user_id**\n",
    "\n",
    "Permanent user ID.\n",
    "\n",
    "**user_session**\n",
    "\n",
    "Temporary user's session ID. Same for each user's session. Is changed every time user come back to online store from a long pause.\n",
    "\n",
    "## Multiple purchases per session\n",
    "A session can have multiple purchase events. It's ok, because it's a single order.\n",
    "\n",
    "\n",
    "data downloaded: https://www.kaggle.com/mkechinov/ecommerce-behavior-data-from-multi-category-store  \n",
    "data source: https://rees46.com/  "
   ]
  },
  {
   "cell_type": "markdown",
   "metadata": {},
   "source": [
    "## Import libraries and load data"
   ]
  },
  {
   "cell_type": "code",
   "execution_count": 2,
   "metadata": {},
   "outputs": [],
   "source": [
    "import pandas as pd\n",
    "import numpy as np\n",
    "import matplotlib.pyplot as plt\n",
    "import seaborn as sbn\n",
    "import os\n",
    "from datetime import datetime\n",
    "import random\n",
    "import gc\n",
    "import pickle"
   ]
  },
  {
   "cell_type": "code",
   "execution_count": 1,
   "metadata": {},
   "outputs": [],
   "source": [
    "import findspark\n",
    "findspark.init()\n",
    "from pyspark.sql import SparkSession\n",
    "from pyspark.sql.types import StructType,IntegerType,StringType,DateType,FloatType,StructField,TimestampType\n",
    "from pyspark.sql.functions import *\n",
    "import pyspark_jobs"
   ]
  },
  {
   "cell_type": "code",
   "execution_count": 3,
   "metadata": {},
   "outputs": [],
   "source": [
    "spark = SparkSession \\\n",
    "        .builder \\\n",
    "        .appName(\"Predict promo\") \\\n",
    "        .config(\"spark.driver.memory\", \"2g\") \\\n",
    "        .config(\"spark.executor.memory\",\"4g\") \\\n",
    "        .config(\"spark.ui.showConsoleProgress\",\"True\")\n",
    "        .getOrCreate()"
   ]
  },
  {
   "cell_type": "code",
   "execution_count": 4,
   "metadata": {},
   "outputs": [],
   "source": [
    "schema = StructType([\n",
    "   StructField(\"event_time\", StringType(), True),\n",
    "   StructField(\"event_type\", StringType(), True),\n",
    "   StructField(\"product_id\", IntegerType(), True),\n",
    "   StructField(\"category_id\", StringType(), True),\n",
    "   StructField(\"category_code\", StringType(), True),\n",
    "   StructField(\"brand\", StringType(), True),\n",
    "   StructField(\"price\", FloatType(), True),\n",
    "   StructField(\"user_id\", IntegerType(), True),\n",
    "   StructField(\"user_session\", StringType(), True)])"
   ]
  },
  {
   "cell_type": "code",
   "execution_count": 5,
   "metadata": {},
   "outputs": [],
   "source": [
    "df = spark.read.format('csv').load('Data/2019-Oct.csv',header=True,schema=schema)"
   ]
  },
  {
   "cell_type": "code",
   "execution_count": 6,
   "metadata": {},
   "outputs": [
    {
     "name": "stdout",
     "output_type": "stream",
     "text": [
      "+--------------------+----------+----------+-------------------+--------------------+--------+-------+---------+--------------------+\n",
      "|          event_time|event_type|product_id|        category_id|       category_code|   brand|  price|  user_id|        user_session|\n",
      "+--------------------+----------+----------+-------------------+--------------------+--------+-------+---------+--------------------+\n",
      "|2019-10-01 00:00:...|      view|  44600062|2103807459595387724|                null|shiseido|  35.79|541312140|72d76fde-8bb3-4e0...|\n",
      "|2019-10-01 00:00:...|      view|   3900821|2053013552326770905|appliances.enviro...|    aqua|   33.2|554748717|9333dfbd-b87a-470...|\n",
      "|2019-10-01 00:00:...|      view|  17200506|2053013559792632471|furniture.living_...|    null|  543.1|519107250|566511c2-e2e3-422...|\n",
      "|2019-10-01 00:00:...|      view|   1307067|2053013558920217191|  computers.notebook|  lenovo| 251.74|550050854|7c90fc70-0e80-459...|\n",
      "|2019-10-01 00:00:...|      view|   1004237|2053013555631882655|electronics.smart...|   apple|1081.98|535871217|c6bd7419-2748-4c5...|\n",
      "+--------------------+----------+----------+-------------------+--------------------+--------+-------+---------+--------------------+\n",
      "only showing top 5 rows\n",
      "\n"
     ]
    }
   ],
   "source": [
    "df.show(5)"
   ]
  },
  {
   "cell_type": "code",
   "execution_count": 7,
   "metadata": {},
   "outputs": [],
   "source": [
    "df = df.na.drop()"
   ]
  },
  {
   "cell_type": "code",
   "execution_count": 8,
   "metadata": {},
   "outputs": [],
   "source": [
    "df = df.withColumn('event_time',df.event_time.substr(1,19).cast(TimestampType()))"
   ]
  },
  {
   "cell_type": "code",
   "execution_count": 9,
   "metadata": {},
   "outputs": [],
   "source": [
    "df = df.withColumn('hour',hour(df.event_time))\\\n",
    "    .withColumn('day_of_week',dayofweek(df.event_time))\\\n",
    "    .withColumn('day_of_month',dayofmonth(df.event_time))\\\n",
    "    .withColumn('month',month(df.event_time))\\\n",
    "    .withColumn('year',year(df.event_time))\\\n",
    "    .withColumn('category',split(df.category_code,\"\\.\").getItem(0))\\\n",
    "    .withColumn('subcategory',split(df.category_code,\"\\.\").getItem(1))"
   ]
  },
  {
   "cell_type": "code",
   "execution_count": 10,
   "metadata": {},
   "outputs": [],
   "source": [
    "df = df.drop('category_code')"
   ]
  },
  {
   "cell_type": "code",
   "execution_count": 11,
   "metadata": {},
   "outputs": [
    {
     "name": "stdout",
     "output_type": "stream",
     "text": [
      "root\n",
      " |-- event_time: timestamp (nullable = true)\n",
      " |-- event_type: string (nullable = true)\n",
      " |-- product_id: integer (nullable = true)\n",
      " |-- category_id: string (nullable = true)\n",
      " |-- brand: string (nullable = true)\n",
      " |-- price: float (nullable = true)\n",
      " |-- user_id: integer (nullable = true)\n",
      " |-- user_session: string (nullable = true)\n",
      " |-- hour: integer (nullable = true)\n",
      " |-- day_of_week: integer (nullable = true)\n",
      " |-- day_of_month: integer (nullable = true)\n",
      " |-- month: integer (nullable = true)\n",
      " |-- year: integer (nullable = true)\n",
      " |-- category: string (nullable = true)\n",
      " |-- subcategory: string (nullable = true)\n",
      "\n"
     ]
    }
   ],
   "source": [
    "df.printSchema()"
   ]
  },
  {
   "cell_type": "code",
   "execution_count": 12,
   "metadata": {},
   "outputs": [],
   "source": [
    "# df.groupby(['user_session','user_id']).count().show(5)\n",
    "cnt = df.groupBy(['user_session','user_id']).count().select('user_session','user_id', col('count').alias('activity_count'))\n",
    "# df = df.join(cnt.select(,on=[df.user_session==cnt.user_session,df.user_id==df.user_id])\n",
    "# df.show(5)"
   ]
  },
  {
   "cell_type": "code",
   "execution_count": 15,
   "metadata": {},
   "outputs": [
    {
     "name": "stdout",
     "output_type": "stream",
     "text": [
      "+--------------------+---------+-------------------+----------+----------+-------------------+-------+------+----+-----------+------------+-----+----+----------+--------------+--------------+\n",
      "|        user_session|  user_id|         event_time|event_type|product_id|        category_id|  brand| price|hour|day_of_week|day_of_month|month|year|  category|   subcategory|activity_count|\n",
      "+--------------------+---------+-------------------+----------+----------+-------------------+-------+------+----+-----------+------------+-----+----+----------+--------------+--------------+\n",
      "|0003726c-81ad-49c...|515826621|2019-10-26 13:26:06|      view|   5000556|2053013566100866035|brother|780.53|  13|          7|          26|   10|2019|appliances|sewing_machine|             3|\n",
      "|0003726c-81ad-49c...|515826621|2019-10-26 13:27:02|  purchase|   5000556|2053013566100866035|brother|780.53|  13|          7|          26|   10|2019|appliances|sewing_machine|             3|\n",
      "|0003726c-81ad-49c...|515826621|2019-10-26 13:27:28|      view|   5000556|2053013566100866035|brother|780.53|  13|          7|          26|   10|2019|appliances|sewing_machine|             3|\n",
      "|00050a0a-8c43-4c3...|533688356|2019-10-22 07:13:42|      view|  28716983|2053013565069067197|respect| 71.82|   7|          3|          22|   10|2019|   apparel|         shoes|             4|\n",
      "|00050a0a-8c43-4c3...|533688356|2019-10-22 07:13:54|      view|  28716983|2053013565069067197|respect| 71.82|   7|          3|          22|   10|2019|   apparel|         shoes|             4|\n",
      "+--------------------+---------+-------------------+----------+----------+-------------------+-------+------+----+-----------+------------+-----+----+----------+--------------+--------------+\n",
      "only showing top 5 rows\n",
      "\n"
     ]
    }
   ],
   "source": [
    "df = df.join(cnt, ['user_session','user_id'])\n",
    "df.show(5)"
   ]
  },
  {
   "cell_type": "code",
   "execution_count": 18,
   "metadata": {},
   "outputs": [
    {
     "name": "stdout",
     "output_type": "stream",
     "text": [
      "+--------------------+---------+-------------------+----------+----------+-------------------+-------+------+----+-----------+------------+-----+----+----------+--------------+--------------+-------------+\n",
      "|        user_session|  user_id|         event_time|event_type|product_id|        category_id|  brand| price|hour|day_of_week|day_of_month|month|year|  category|   subcategory|activity_count|prev_activity|\n",
      "+--------------------+---------+-------------------+----------+----------+-------------------+-------+------+----+-----------+------------+-----+----+----------+--------------+--------------+-------------+\n",
      "|0003726c-81ad-49c...|515826621|2019-10-26 13:26:06|      view|   5000556|2053013566100866035|brother|780.53|  13|          7|          26|   10|2019|appliances|sewing_machine|             3|         null|\n",
      "|0003726c-81ad-49c...|515826621|2019-10-26 13:27:02|  purchase|   5000556|2053013566100866035|brother|780.53|  13|          7|          26|   10|2019|appliances|sewing_machine|             3|            3|\n",
      "|0003726c-81ad-49c...|515826621|2019-10-26 13:27:28|      view|   5000556|2053013566100866035|brother|780.53|  13|          7|          26|   10|2019|appliances|sewing_machine|             3|            3|\n",
      "|00050a0a-8c43-4c3...|533688356|2019-10-22 07:13:42|      view|  28716983|2053013565069067197|respect| 71.82|   7|          3|          22|   10|2019|   apparel|         shoes|             4|         null|\n",
      "|00050a0a-8c43-4c3...|533688356|2019-10-22 07:13:54|      view|  28716983|2053013565069067197|respect| 71.82|   7|          3|          22|   10|2019|   apparel|         shoes|             4|            4|\n",
      "+--------------------+---------+-------------------+----------+----------+-------------------+-------+------+----+-----------+------------+-----+----+----------+--------------+--------------+-------------+\n",
      "only showing top 5 rows\n",
      "\n"
     ]
    }
   ],
   "source": [
    "from pyspark.sql import Window\n",
    "window = Window.partitionBy('user_session','user_id').orderBy('event_time')\n",
    "df = df.withColumn('prev_activity',lag('activity_count',1).over(window))\n",
    "df.show(5)"
   ]
  },
  {
   "cell_type": "code",
   "execution_count": 20,
   "metadata": {},
   "outputs": [
    {
     "name": "stdout",
     "output_type": "stream",
     "text": [
      "+--------------------+---------+-------------------+----------+----------+-------------------+-------+------+----+-----------+------------+-----+----+----------+--------------+--------------+-------------+------------+\n",
      "|        user_session|  user_id|         event_time|event_type|product_id|        category_id|  brand| price|hour|day_of_week|day_of_month|month|year|  category|   subcategory|activity_count|prev_activity|is_purchased|\n",
      "+--------------------+---------+-------------------+----------+----------+-------------------+-------+------+----+-----------+------------+-----+----+----------+--------------+--------------+-------------+------------+\n",
      "|0003726c-81ad-49c...|515826621|2019-10-26 13:26:06|      view|   5000556|2053013566100866035|brother|780.53|  13|          7|          26|   10|2019|appliances|sewing_machine|             3|         null|           0|\n",
      "|0003726c-81ad-49c...|515826621|2019-10-26 13:27:02|  purchase|   5000556|2053013566100866035|brother|780.53|  13|          7|          26|   10|2019|appliances|sewing_machine|             3|            3|           1|\n",
      "|0003726c-81ad-49c...|515826621|2019-10-26 13:27:28|      view|   5000556|2053013566100866035|brother|780.53|  13|          7|          26|   10|2019|appliances|sewing_machine|             3|            3|           0|\n",
      "|00050a0a-8c43-4c3...|533688356|2019-10-22 07:13:42|      view|  28716983|2053013565069067197|respect| 71.82|   7|          3|          22|   10|2019|   apparel|         shoes|             4|         null|           0|\n",
      "|00050a0a-8c43-4c3...|533688356|2019-10-22 07:13:54|      view|  28716983|2053013565069067197|respect| 71.82|   7|          3|          22|   10|2019|   apparel|         shoes|             4|            4|           0|\n",
      "+--------------------+---------+-------------------+----------+----------+-------------------+-------+------+----+-----------+------------+-----+----+----------+--------------+--------------+-------------+------------+\n",
      "only showing top 5 rows\n",
      "\n"
     ]
    }
   ],
   "source": [
    "from itertools import chain\n",
    "d = {'purchase':1,'view':0,'cart':0}\n",
    "mapping = create_map([lit(x) for x in chain(*d.items())])\n",
    "df = df.withColumn('is_purchased',coalesce(mapping[df['event_type']],df['event_type']).alias('is_purchased'))\n",
    "df.show(5)"
   ]
  },
  {
   "cell_type": "code",
   "execution_count": 21,
   "metadata": {},
   "outputs": [
    {
     "name": "stdout",
     "output_type": "stream",
     "text": [
      "+--------------------+---------+-------------------+----------+----------+-------------------+-------+-------+----+-----------+------------+-----+----+-----------+--------------+--------------+-------------+------------+-------------+\n",
      "|        user_session|  user_id|         event_time|event_type|product_id|        category_id|  brand|  price|hour|day_of_week|day_of_month|month|year|   category|   subcategory|activity_count|prev_activity|is_purchased|prev_purchase|\n",
      "+--------------------+---------+-------------------+----------+----------+-------------------+-------+-------+----+-----------+------------+-----+----+-----------+--------------+--------------+-------------+------------+-------------+\n",
      "|0003726c-81ad-49c...|515826621|2019-10-26 13:26:06|      view|   5000556|2053013566100866035|brother| 780.53|  13|          7|          26|   10|2019| appliances|sewing_machine|             3|         null|           0|         null|\n",
      "|0003726c-81ad-49c...|515826621|2019-10-26 13:27:02|  purchase|   5000556|2053013566100866035|brother| 780.53|  13|          7|          26|   10|2019| appliances|sewing_machine|             3|            3|           1|            0|\n",
      "|0003726c-81ad-49c...|515826621|2019-10-26 13:27:28|      view|   5000556|2053013566100866035|brother| 780.53|  13|          7|          26|   10|2019| appliances|sewing_machine|             3|            3|           0|            1|\n",
      "|00050a0a-8c43-4c3...|533688356|2019-10-22 07:13:42|      view|  28716983|2053013565069067197|respect|  71.82|   7|          3|          22|   10|2019|    apparel|         shoes|             4|         null|           0|         null|\n",
      "|00050a0a-8c43-4c3...|533688356|2019-10-22 07:13:54|      view|  28716983|2053013565069067197|respect|  71.82|   7|          3|          22|   10|2019|    apparel|         shoes|             4|            4|           0|            0|\n",
      "|00050a0a-8c43-4c3...|533688356|2019-10-22 07:14:47|      view|  28716984|2053013565069067197|respect|  71.82|   7|          3|          22|   10|2019|    apparel|         shoes|             4|            4|           0|            0|\n",
      "|00050a0a-8c43-4c3...|533688356|2019-10-22 07:15:06|      view|  28717002|2053013565069067197|respect|  71.82|   7|          3|          22|   10|2019|    apparel|         shoes|             4|            4|           0|            0|\n",
      "|000729f8-7f6c-43f...|533784978|2019-10-12 18:16:54|      view|   5100719|2053013553341792533|samsung| 151.61|  18|          7|          12|   10|2019|electronics|        clocks|             1|         null|           0|         null|\n",
      "|0008e4f7-7dba-484...|515171279|2019-10-06 18:30:52|      view|   1005105|2053013555631882655|  apple|1415.48|  18|          1|           6|   10|2019|electronics|    smartphone|             1|         null|           0|         null|\n",
      "|00090265-b348-494...|534798873|2019-10-06 11:32:57|      view|  21401211|2053013561579406073|  casio|  78.71|  11|          1|           6|   10|2019|electronics|        clocks|             5|         null|           0|         null|\n",
      "|00090265-b348-494...|534798873|2019-10-06 11:33:45|      view|  21400934|2053013561579406073|  casio|   77.7|  11|          1|           6|   10|2019|electronics|        clocks|             5|            5|           0|            0|\n",
      "|00090265-b348-494...|534798873|2019-10-06 11:34:24|      view|  21400503|2053013561579406073|  casio|   76.7|  11|          1|           6|   10|2019|electronics|        clocks|             5|            5|           0|            0|\n",
      "|00090265-b348-494...|534798873|2019-10-06 11:34:44|      view|  21403660|2053013561579406073|  casio|  34.98|  11|          1|           6|   10|2019|electronics|        clocks|             5|            5|           0|            0|\n",
      "|00090265-b348-494...|534798873|2019-10-06 11:35:40|      view|  21400927|2053013561579406073|  casio|  57.66|  11|          1|           6|   10|2019|electronics|        clocks|             5|            5|           0|            0|\n",
      "|000a2486-d83b-4a1...|513286804|2019-10-06 04:55:50|      view|   1004858|2053013555631882655|samsung| 131.77|   4|          1|           6|   10|2019|electronics|    smartphone|             2|         null|           0|         null|\n",
      "|000a2486-d83b-4a1...|513286804|2019-10-06 04:59:01|      view|   1004857|2053013555631882655|samsung| 130.25|   4|          1|           6|   10|2019|electronics|    smartphone|             2|            2|           0|            0|\n",
      "|000b270e-c062-4d0...|547454003|2019-10-24 06:41:23|      view|   4803771|2053013554658804075|   sony| 409.02|   6|          5|          24|   10|2019|electronics|         audio|             2|         null|           0|         null|\n",
      "|000b270e-c062-4d0...|547454003|2019-10-24 06:51:50|      view|   4803396|2053013554658804075|    jbl|  33.21|   6|          5|          24|   10|2019|electronics|         audio|             2|            2|           0|            0|\n",
      "|001209b4-a881-481...|516124736|2019-10-13 12:13:07|      view|   1004787|2053013555631882655| xiaomi| 514.79|  12|          1|          13|   10|2019|electronics|    smartphone|             2|         null|           0|         null|\n",
      "|001209b4-a881-481...|516124736|2019-10-13 12:13:29|      view|   1004868|2053013555631882655| xiaomi| 514.79|  12|          1|          13|   10|2019|electronics|    smartphone|             2|            2|           0|            0|\n",
      "+--------------------+---------+-------------------+----------+----------+-------------------+-------+-------+----+-----------+------------+-----+----+-----------+--------------+--------------+-------------+------------+-------------+\n",
      "only showing top 20 rows\n",
      "\n"
     ]
    }
   ],
   "source": [
    "df = df.withColumn('prev_purchase',lag('is_purchased',1).over(window))\n",
    "df.show()"
   ]
  },
  {
   "cell_type": "code",
   "execution_count": 31,
   "metadata": {},
   "outputs": [
    {
     "name": "stdout",
     "output_type": "stream",
     "text": [
      "+--------------------+---------+-------------------+----------+----------+-------------------+-------+------+----+-----------+------------+-----+----+----------+--------------+--------------+-------------+------------+-------------+-------------+--------+-----------+--------------+\n",
      "|        user_session|  user_id|         event_time|event_type|product_id|        category_id|  brand| price|hour|day_of_week|day_of_month|month|year|  category|   subcategory|activity_count|prev_activity|is_purchased|prev_purchase|event_type_tr|brand_tr|category_tr|subcategory_tr|\n",
      "+--------------------+---------+-------------------+----------+----------+-------------------+-------+------+----+-----------+------------+-----+----+----------+--------------+--------------+-------------+------------+-------------+-------------+--------+-----------+--------------+\n",
      "|0003726c-81ad-49c...|515826621|2019-10-26 13:26:06|      view|   5000556|2053013566100866035|brother|780.53|  13|          7|          26|   10|2019|appliances|sewing_machine|             3|         null|           0|         null|          0.0|   186.0|        1.0|          20.0|\n",
      "|0003726c-81ad-49c...|515826621|2019-10-26 13:27:02|  purchase|   5000556|2053013566100866035|brother|780.53|  13|          7|          26|   10|2019|appliances|sewing_machine|             3|            3|           1|            0|          2.0|   186.0|        1.0|          20.0|\n",
      "|0003726c-81ad-49c...|515826621|2019-10-26 13:27:28|      view|   5000556|2053013566100866035|brother|780.53|  13|          7|          26|   10|2019|appliances|sewing_machine|             3|            3|           0|            1|          0.0|   186.0|        1.0|          20.0|\n",
      "|00050a0a-8c43-4c3...|533688356|2019-10-22 07:13:42|      view|  28716983|2053013565069067197|respect| 71.82|   7|          3|          22|   10|2019|   apparel|         shoes|             4|         null|           0|         null|          0.0|    11.0|        3.0|           7.0|\n",
      "|00050a0a-8c43-4c3...|533688356|2019-10-22 07:13:54|      view|  28716983|2053013565069067197|respect| 71.82|   7|          3|          22|   10|2019|   apparel|         shoes|             4|            4|           0|            0|          0.0|    11.0|        3.0|           7.0|\n",
      "+--------------------+---------+-------------------+----------+----------+-------------------+-------+------+----+-----------+------------+-----+----+----------+--------------+--------------+-------------+------------+-------------+-------------+--------+-----------+--------------+\n",
      "only showing top 5 rows\n",
      "\n"
     ]
    }
   ],
   "source": [
    "from pyspark.ml.feature import StringIndexer\n",
    "\n",
    "indexer = StringIndexer(inputCols=['event_type','brand','category','subcategory'],outputCols=['event_type_tr','brand_tr','category_tr','subcategory_tr'])\n",
    "indexed = indexer.fit(df).transform(df)\n",
    "indexed.show(5)"
   ]
  },
  {
   "cell_type": "code",
   "execution_count": 37,
   "metadata": {},
   "outputs": [
    {
     "name": "stdout",
     "output_type": "stream",
     "text": [
      "root\n",
      " |-- user_session: string (nullable = true)\n",
      " |-- user_id: integer (nullable = true)\n",
      " |-- event_time: timestamp (nullable = true)\n",
      " |-- product_id: integer (nullable = true)\n",
      " |-- category_id: string (nullable = true)\n",
      " |-- price: float (nullable = false)\n",
      " |-- hour: integer (nullable = true)\n",
      " |-- day_of_week: integer (nullable = true)\n",
      " |-- day_of_month: integer (nullable = true)\n",
      " |-- month: integer (nullable = true)\n",
      " |-- year: integer (nullable = true)\n",
      " |-- activity_count: long (nullable = false)\n",
      " |-- prev_activity: integer (nullable = true)\n",
      " |-- is_purchased: integer (nullable = true)\n",
      " |-- prev_purchase: integer (nullable = true)\n",
      " |-- event_type_tr: double (nullable = false)\n",
      " |-- brand_tr: double (nullable = false)\n",
      " |-- category_tr: double (nullable = false)\n",
      " |-- subcategory_tr: double (nullable = false)\n",
      "\n"
     ]
    }
   ],
   "source": [
    "import pyspark_jobs\n",
    "schema = {'prev_activity':'int','prev_purchase':'int','is_purchased':'int'}\n",
    "indexed = pyspark_jobs.change_col_type(indexed,schema)\n",
    "indexed.printSchema()"
   ]
  },
  {
   "cell_type": "code",
   "execution_count": 32,
   "metadata": {},
   "outputs": [
    {
     "name": "stdout",
     "output_type": "stream",
     "text": [
      "+--------------------+---------+-------------------+----------+-------------------+------+----+-----------+------------+-----+----+--------------+-------------+------------+-------------+-------------+--------+-----------+--------------+\n",
      "|        user_session|  user_id|         event_time|product_id|        category_id| price|hour|day_of_week|day_of_month|month|year|activity_count|prev_activity|is_purchased|prev_purchase|event_type_tr|brand_tr|category_tr|subcategory_tr|\n",
      "+--------------------+---------+-------------------+----------+-------------------+------+----+-----------+------------+-----+----+--------------+-------------+------------+-------------+-------------+--------+-----------+--------------+\n",
      "|0003726c-81ad-49c...|515826621|2019-10-26 13:26:06|   5000556|2053013566100866035|780.53|  13|          7|          26|   10|2019|             3|         null|           0|         null|          0.0|   186.0|        1.0|          20.0|\n",
      "|0003726c-81ad-49c...|515826621|2019-10-26 13:27:02|   5000556|2053013566100866035|780.53|  13|          7|          26|   10|2019|             3|            3|           1|            0|          2.0|   186.0|        1.0|          20.0|\n",
      "|0003726c-81ad-49c...|515826621|2019-10-26 13:27:28|   5000556|2053013566100866035|780.53|  13|          7|          26|   10|2019|             3|            3|           0|            1|          0.0|   186.0|        1.0|          20.0|\n",
      "|00050a0a-8c43-4c3...|533688356|2019-10-22 07:13:42|  28716983|2053013565069067197| 71.82|   7|          3|          22|   10|2019|             4|         null|           0|         null|          0.0|    11.0|        3.0|           7.0|\n",
      "|00050a0a-8c43-4c3...|533688356|2019-10-22 07:13:54|  28716983|2053013565069067197| 71.82|   7|          3|          22|   10|2019|             4|            4|           0|            0|          0.0|    11.0|        3.0|           7.0|\n",
      "+--------------------+---------+-------------------+----------+-------------------+------+----+-----------+------------+-----+----+--------------+-------------+------------+-------------+-------------+--------+-----------+--------------+\n",
      "only showing top 5 rows\n",
      "\n"
     ]
    }
   ],
   "source": [
    "indexed = indexed.drop('event_type','brand','category','subcategory')\n",
    "indexed.show(5)"
   ]
  },
  {
   "cell_type": "code",
   "execution_count": 38,
   "metadata": {},
   "outputs": [
    {
     "name": "stdout",
     "output_type": "stream",
     "text": [
      "+--------------------+---------+-------------------+----------+-------------------+------+----+-----------+------------+-----+----+--------------+-------------+------------+-------------+-------------+--------+-----------+--------------+\n",
      "|        user_session|  user_id|         event_time|product_id|        category_id| price|hour|day_of_week|day_of_month|month|year|activity_count|prev_activity|is_purchased|prev_purchase|event_type_tr|brand_tr|category_tr|subcategory_tr|\n",
      "+--------------------+---------+-------------------+----------+-------------------+------+----+-----------+------------+-----+----+--------------+-------------+------------+-------------+-------------+--------+-----------+--------------+\n",
      "|0003726c-81ad-49c...|515826621|2019-10-26 13:26:06|   5000556|2053013566100866035|780.53|  13|          7|          26|   10|2019|             3|            0|           0|            0|          0.0|   186.0|        1.0|          20.0|\n",
      "|0003726c-81ad-49c...|515826621|2019-10-26 13:27:02|   5000556|2053013566100866035|780.53|  13|          7|          26|   10|2019|             3|            3|           1|            0|          2.0|   186.0|        1.0|          20.0|\n",
      "|0003726c-81ad-49c...|515826621|2019-10-26 13:27:28|   5000556|2053013566100866035|780.53|  13|          7|          26|   10|2019|             3|            3|           0|            1|          0.0|   186.0|        1.0|          20.0|\n",
      "|00050a0a-8c43-4c3...|533688356|2019-10-22 07:13:42|  28716983|2053013565069067197| 71.82|   7|          3|          22|   10|2019|             4|            0|           0|            0|          0.0|    11.0|        3.0|           7.0|\n",
      "|00050a0a-8c43-4c3...|533688356|2019-10-22 07:13:54|  28716983|2053013565069067197| 71.82|   7|          3|          22|   10|2019|             4|            4|           0|            0|          0.0|    11.0|        3.0|           7.0|\n",
      "+--------------------+---------+-------------------+----------+-------------------+------+----+-----------+------------+-----+----+--------------+-------------+------------+-------------+-------------+--------+-----------+--------------+\n",
      "only showing top 5 rows\n",
      "\n"
     ]
    }
   ],
   "source": [
    "indexed = indexed.fillna(0)\n",
    "indexed.show(5)"
   ]
  },
  {
   "cell_type": "code",
   "execution_count": 48,
   "metadata": {},
   "outputs": [],
   "source": [
    "indexed.repartition(1).write.csv(\"Data/preprocessed.csv\", sep=',')"
   ]
  },
  {
   "cell_type": "code",
   "execution_count": 44,
   "metadata": {},
   "outputs": [
    {
     "name": "stderr",
     "output_type": "stream",
     "text": [
      "Exception ignored in: <function JavaWrapper.__del__ at 0x7fab7bfc7050>\n",
      "Traceback (most recent call last):\n",
      "  File \"/home/csvankhede/spark/python/pyspark/ml/wrapper.py\", line 42, in __del__\n",
      "    if SparkContext._active_spark_context and self._java_obj is not None:\n",
      "AttributeError: 'StandardScaler' object has no attribute '_java_obj'\n"
     ]
    },
    {
     "ename": "IllegalArgumentException",
     "evalue": "requirement failed: Column price must be of type struct<type:tinyint,size:int,indices:array<int>,values:array<double>> but was actually float.",
     "output_type": "error",
     "traceback": [
      "\u001b[0;31m---------------------------------------------------------------------------\u001b[0m",
      "\u001b[0;31mPy4JJavaError\u001b[0m                             Traceback (most recent call last)",
      "\u001b[0;32m~/spark/python/pyspark/sql/utils.py\u001b[0m in \u001b[0;36mdeco\u001b[0;34m(*a, **kw)\u001b[0m\n\u001b[1;32m     97\u001b[0m         \u001b[0;32mtry\u001b[0m\u001b[0;34m:\u001b[0m\u001b[0;34m\u001b[0m\u001b[0;34m\u001b[0m\u001b[0m\n\u001b[0;32m---> 98\u001b[0;31m             \u001b[0;32mreturn\u001b[0m \u001b[0mf\u001b[0m\u001b[0;34m(\u001b[0m\u001b[0;34m*\u001b[0m\u001b[0ma\u001b[0m\u001b[0;34m,\u001b[0m \u001b[0;34m**\u001b[0m\u001b[0mkw\u001b[0m\u001b[0;34m)\u001b[0m\u001b[0;34m\u001b[0m\u001b[0;34m\u001b[0m\u001b[0m\n\u001b[0m\u001b[1;32m     99\u001b[0m         \u001b[0;32mexcept\u001b[0m \u001b[0mpy4j\u001b[0m\u001b[0;34m.\u001b[0m\u001b[0mprotocol\u001b[0m\u001b[0;34m.\u001b[0m\u001b[0mPy4JJavaError\u001b[0m \u001b[0;32mas\u001b[0m \u001b[0me\u001b[0m\u001b[0;34m:\u001b[0m\u001b[0;34m\u001b[0m\u001b[0;34m\u001b[0m\u001b[0m\n",
      "\u001b[0;32m~/spark/python/lib/py4j-0.10.8.1-src.zip/py4j/protocol.py\u001b[0m in \u001b[0;36mget_return_value\u001b[0;34m(answer, gateway_client, target_id, name)\u001b[0m\n\u001b[1;32m    327\u001b[0m                     \u001b[0;34m\"An error occurred while calling {0}{1}{2}.\\n\"\u001b[0m\u001b[0;34m.\u001b[0m\u001b[0;34m\u001b[0m\u001b[0;34m\u001b[0m\u001b[0m\n\u001b[0;32m--> 328\u001b[0;31m                     format(target_id, \".\", name), value)\n\u001b[0m\u001b[1;32m    329\u001b[0m             \u001b[0;32melse\u001b[0m\u001b[0;34m:\u001b[0m\u001b[0;34m\u001b[0m\u001b[0;34m\u001b[0m\u001b[0m\n",
      "\u001b[0;31mPy4JJavaError\u001b[0m: An error occurred while calling o417.fit.\n: java.lang.IllegalArgumentException: requirement failed: Column price must be of type struct<type:tinyint,size:int,indices:array<int>,values:array<double>> but was actually float.\n\tat scala.Predef$.require(Predef.scala:281)\n\tat org.apache.spark.ml.util.SchemaUtils$.checkColumnType(SchemaUtils.scala:45)\n\tat org.apache.spark.ml.feature.StandardScalerParams.validateAndTransformSchema(StandardScaler.scala:64)\n\tat org.apache.spark.ml.feature.StandardScalerParams.validateAndTransformSchema$(StandardScaler.scala:63)\n\tat org.apache.spark.ml.feature.StandardScaler.validateAndTransformSchema(StandardScaler.scala:84)\n\tat org.apache.spark.ml.feature.StandardScaler.transformSchema(StandardScaler.scala:121)\n\tat org.apache.spark.ml.PipelineStage.transformSchema(Pipeline.scala:75)\n\tat org.apache.spark.ml.feature.StandardScaler.fit(StandardScaler.scala:109)\n\tat org.apache.spark.ml.feature.StandardScaler.fit(StandardScaler.scala:84)\n\tat sun.reflect.NativeMethodAccessorImpl.invoke0(Native Method)\n\tat sun.reflect.NativeMethodAccessorImpl.invoke(NativeMethodAccessorImpl.java:62)\n\tat sun.reflect.DelegatingMethodAccessorImpl.invoke(DelegatingMethodAccessorImpl.java:43)\n\tat java.lang.reflect.Method.invoke(Method.java:498)\n\tat py4j.reflection.MethodInvoker.invoke(MethodInvoker.java:244)\n\tat py4j.reflection.ReflectionEngine.invoke(ReflectionEngine.java:357)\n\tat py4j.Gateway.invoke(Gateway.java:282)\n\tat py4j.commands.AbstractCommand.invokeMethod(AbstractCommand.java:132)\n\tat py4j.commands.CallCommand.execute(CallCommand.java:79)\n\tat py4j.GatewayConnection.run(GatewayConnection.java:238)\n\tat java.lang.Thread.run(Thread.java:748)\n",
      "\nDuring handling of the above exception, another exception occurred:\n",
      "\u001b[0;31mIllegalArgumentException\u001b[0m                  Traceback (most recent call last)",
      "\u001b[0;32m<ipython-input-44-2f77694f9da6>\u001b[0m in \u001b[0;36m<module>\u001b[0;34m\u001b[0m\n\u001b[1;32m      5\u001b[0m \u001b[0;34m\u001b[0m\u001b[0m\n\u001b[1;32m      6\u001b[0m     \u001b[0mscaler\u001b[0m \u001b[0;34m=\u001b[0m \u001b[0mStandardScaler\u001b[0m\u001b[0;34m(\u001b[0m\u001b[0minputCol\u001b[0m\u001b[0;34m=\u001b[0m\u001b[0mi\u001b[0m\u001b[0;34m,\u001b[0m\u001b[0moutputCol\u001b[0m\u001b[0;34m=\u001b[0m\u001b[0mi\u001b[0m\u001b[0;34m+\u001b[0m\u001b[0;34m'_sc'\u001b[0m\u001b[0;34m)\u001b[0m\u001b[0;34m\u001b[0m\u001b[0;34m\u001b[0m\u001b[0m\n\u001b[0;32m----> 7\u001b[0;31m     \u001b[0mscaler\u001b[0m \u001b[0;34m=\u001b[0m \u001b[0mscaler\u001b[0m\u001b[0;34m.\u001b[0m\u001b[0mfit\u001b[0m\u001b[0;34m(\u001b[0m\u001b[0mdf\u001b[0m\u001b[0;34m)\u001b[0m\u001b[0;34m\u001b[0m\u001b[0;34m\u001b[0m\u001b[0m\n\u001b[0m\u001b[1;32m      8\u001b[0m     \u001b[0mpickle\u001b[0m\u001b[0;34m.\u001b[0m\u001b[0mdump\u001b[0m\u001b[0;34m(\u001b[0m\u001b[0mscaler\u001b[0m\u001b[0;34m,\u001b[0m\u001b[0mopen\u001b[0m\u001b[0;34m(\u001b[0m\u001b[0;34m'PickledObjects/scaler{}.pkl'\u001b[0m\u001b[0;34m.\u001b[0m\u001b[0mformat\u001b[0m\u001b[0;34m(\u001b[0m\u001b[0mi\u001b[0m\u001b[0;34m)\u001b[0m\u001b[0;34m,\u001b[0m\u001b[0;34m'wb'\u001b[0m\u001b[0;34m)\u001b[0m\u001b[0;34m)\u001b[0m\u001b[0;34m\u001b[0m\u001b[0;34m\u001b[0m\u001b[0m\n\u001b[1;32m      9\u001b[0m \u001b[0;34m\u001b[0m\u001b[0m\n",
      "\u001b[0;32m~/spark/python/pyspark/ml/base.py\u001b[0m in \u001b[0;36mfit\u001b[0;34m(self, dataset, params)\u001b[0m\n\u001b[1;32m    129\u001b[0m                 \u001b[0;32mreturn\u001b[0m \u001b[0mself\u001b[0m\u001b[0;34m.\u001b[0m\u001b[0mcopy\u001b[0m\u001b[0;34m(\u001b[0m\u001b[0mparams\u001b[0m\u001b[0;34m)\u001b[0m\u001b[0;34m.\u001b[0m\u001b[0m_fit\u001b[0m\u001b[0;34m(\u001b[0m\u001b[0mdataset\u001b[0m\u001b[0;34m)\u001b[0m\u001b[0;34m\u001b[0m\u001b[0;34m\u001b[0m\u001b[0m\n\u001b[1;32m    130\u001b[0m             \u001b[0;32melse\u001b[0m\u001b[0;34m:\u001b[0m\u001b[0;34m\u001b[0m\u001b[0;34m\u001b[0m\u001b[0m\n\u001b[0;32m--> 131\u001b[0;31m                 \u001b[0;32mreturn\u001b[0m \u001b[0mself\u001b[0m\u001b[0;34m.\u001b[0m\u001b[0m_fit\u001b[0m\u001b[0;34m(\u001b[0m\u001b[0mdataset\u001b[0m\u001b[0;34m)\u001b[0m\u001b[0;34m\u001b[0m\u001b[0;34m\u001b[0m\u001b[0m\n\u001b[0m\u001b[1;32m    132\u001b[0m         \u001b[0;32melse\u001b[0m\u001b[0;34m:\u001b[0m\u001b[0;34m\u001b[0m\u001b[0;34m\u001b[0m\u001b[0m\n\u001b[1;32m    133\u001b[0m             raise ValueError(\"Params must be either a param map or a list/tuple of param maps, \"\n",
      "\u001b[0;32m~/spark/python/pyspark/ml/wrapper.py\u001b[0m in \u001b[0;36m_fit\u001b[0;34m(self, dataset)\u001b[0m\n\u001b[1;32m    319\u001b[0m \u001b[0;34m\u001b[0m\u001b[0m\n\u001b[1;32m    320\u001b[0m     \u001b[0;32mdef\u001b[0m \u001b[0m_fit\u001b[0m\u001b[0;34m(\u001b[0m\u001b[0mself\u001b[0m\u001b[0;34m,\u001b[0m \u001b[0mdataset\u001b[0m\u001b[0;34m)\u001b[0m\u001b[0;34m:\u001b[0m\u001b[0;34m\u001b[0m\u001b[0;34m\u001b[0m\u001b[0m\n\u001b[0;32m--> 321\u001b[0;31m         \u001b[0mjava_model\u001b[0m \u001b[0;34m=\u001b[0m \u001b[0mself\u001b[0m\u001b[0;34m.\u001b[0m\u001b[0m_fit_java\u001b[0m\u001b[0;34m(\u001b[0m\u001b[0mdataset\u001b[0m\u001b[0;34m)\u001b[0m\u001b[0;34m\u001b[0m\u001b[0;34m\u001b[0m\u001b[0m\n\u001b[0m\u001b[1;32m    322\u001b[0m         \u001b[0mmodel\u001b[0m \u001b[0;34m=\u001b[0m \u001b[0mself\u001b[0m\u001b[0;34m.\u001b[0m\u001b[0m_create_model\u001b[0m\u001b[0;34m(\u001b[0m\u001b[0mjava_model\u001b[0m\u001b[0;34m)\u001b[0m\u001b[0;34m\u001b[0m\u001b[0;34m\u001b[0m\u001b[0m\n\u001b[1;32m    323\u001b[0m         \u001b[0;32mreturn\u001b[0m \u001b[0mself\u001b[0m\u001b[0;34m.\u001b[0m\u001b[0m_copyValues\u001b[0m\u001b[0;34m(\u001b[0m\u001b[0mmodel\u001b[0m\u001b[0;34m)\u001b[0m\u001b[0;34m\u001b[0m\u001b[0;34m\u001b[0m\u001b[0m\n",
      "\u001b[0;32m~/spark/python/pyspark/ml/wrapper.py\u001b[0m in \u001b[0;36m_fit_java\u001b[0;34m(self, dataset)\u001b[0m\n\u001b[1;32m    316\u001b[0m         \"\"\"\n\u001b[1;32m    317\u001b[0m         \u001b[0mself\u001b[0m\u001b[0;34m.\u001b[0m\u001b[0m_transfer_params_to_java\u001b[0m\u001b[0;34m(\u001b[0m\u001b[0;34m)\u001b[0m\u001b[0;34m\u001b[0m\u001b[0;34m\u001b[0m\u001b[0m\n\u001b[0;32m--> 318\u001b[0;31m         \u001b[0;32mreturn\u001b[0m \u001b[0mself\u001b[0m\u001b[0;34m.\u001b[0m\u001b[0m_java_obj\u001b[0m\u001b[0;34m.\u001b[0m\u001b[0mfit\u001b[0m\u001b[0;34m(\u001b[0m\u001b[0mdataset\u001b[0m\u001b[0;34m.\u001b[0m\u001b[0m_jdf\u001b[0m\u001b[0;34m)\u001b[0m\u001b[0;34m\u001b[0m\u001b[0;34m\u001b[0m\u001b[0m\n\u001b[0m\u001b[1;32m    319\u001b[0m \u001b[0;34m\u001b[0m\u001b[0m\n\u001b[1;32m    320\u001b[0m     \u001b[0;32mdef\u001b[0m \u001b[0m_fit\u001b[0m\u001b[0;34m(\u001b[0m\u001b[0mself\u001b[0m\u001b[0;34m,\u001b[0m \u001b[0mdataset\u001b[0m\u001b[0;34m)\u001b[0m\u001b[0;34m:\u001b[0m\u001b[0;34m\u001b[0m\u001b[0;34m\u001b[0m\u001b[0m\n",
      "\u001b[0;32m~/spark/python/lib/py4j-0.10.8.1-src.zip/py4j/java_gateway.py\u001b[0m in \u001b[0;36m__call__\u001b[0;34m(self, *args)\u001b[0m\n\u001b[1;32m   1284\u001b[0m         \u001b[0manswer\u001b[0m \u001b[0;34m=\u001b[0m \u001b[0mself\u001b[0m\u001b[0;34m.\u001b[0m\u001b[0mgateway_client\u001b[0m\u001b[0;34m.\u001b[0m\u001b[0msend_command\u001b[0m\u001b[0;34m(\u001b[0m\u001b[0mcommand\u001b[0m\u001b[0;34m)\u001b[0m\u001b[0;34m\u001b[0m\u001b[0;34m\u001b[0m\u001b[0m\n\u001b[1;32m   1285\u001b[0m         return_value = get_return_value(\n\u001b[0;32m-> 1286\u001b[0;31m             answer, self.gateway_client, self.target_id, self.name)\n\u001b[0m\u001b[1;32m   1287\u001b[0m \u001b[0;34m\u001b[0m\u001b[0m\n\u001b[1;32m   1288\u001b[0m         \u001b[0;32mfor\u001b[0m \u001b[0mtemp_arg\u001b[0m \u001b[0;32min\u001b[0m \u001b[0mtemp_args\u001b[0m\u001b[0;34m:\u001b[0m\u001b[0;34m\u001b[0m\u001b[0;34m\u001b[0m\u001b[0m\n",
      "\u001b[0;32m~/spark/python/pyspark/sql/utils.py\u001b[0m in \u001b[0;36mdeco\u001b[0;34m(*a, **kw)\u001b[0m\n\u001b[1;32m    100\u001b[0m             \u001b[0mconverted\u001b[0m \u001b[0;34m=\u001b[0m \u001b[0mconvert_exception\u001b[0m\u001b[0;34m(\u001b[0m\u001b[0me\u001b[0m\u001b[0;34m.\u001b[0m\u001b[0mjava_exception\u001b[0m\u001b[0;34m)\u001b[0m\u001b[0;34m\u001b[0m\u001b[0;34m\u001b[0m\u001b[0m\n\u001b[1;32m    101\u001b[0m             \u001b[0;32mif\u001b[0m \u001b[0;32mnot\u001b[0m \u001b[0misinstance\u001b[0m\u001b[0;34m(\u001b[0m\u001b[0mconverted\u001b[0m\u001b[0;34m,\u001b[0m \u001b[0mUnknownException\u001b[0m\u001b[0;34m)\u001b[0m\u001b[0;34m:\u001b[0m\u001b[0;34m\u001b[0m\u001b[0;34m\u001b[0m\u001b[0m\n\u001b[0;32m--> 102\u001b[0;31m                 \u001b[0;32mraise\u001b[0m \u001b[0mconverted\u001b[0m\u001b[0;34m\u001b[0m\u001b[0;34m\u001b[0m\u001b[0m\n\u001b[0m\u001b[1;32m    103\u001b[0m             \u001b[0;32melse\u001b[0m\u001b[0;34m:\u001b[0m\u001b[0;34m\u001b[0m\u001b[0;34m\u001b[0m\u001b[0m\n\u001b[1;32m    104\u001b[0m                 \u001b[0;32mraise\u001b[0m\u001b[0;34m\u001b[0m\u001b[0;34m\u001b[0m\u001b[0m\n",
      "\u001b[0;31mIllegalArgumentException\u001b[0m: requirement failed: Column price must be of type struct<type:tinyint,size:int,indices:array<int>,values:array<double>> but was actually float."
     ]
    }
   ],
   "source": [
    "from pyspark.ml.feature import StandardScaler\n",
    "import pickle\n",
    "for i in ['price','hour','day_of_week','day_of_month','month','year','activity_count','prev_activity','is_purchased',\\\n",
    "                                   'prev_purchase','event_type_tr','brand_tr','category_tr','subcategory_tr']:\n",
    "    \n",
    "    scaler = StandardScaler(inputCol=i,outputCol=i+'_sc')\n",
    "    scaler = scaler.fit(df)\n",
    "    pickle.dump(scaler,open('PickledObjects/scaler{}.pkl'.format(i),'wb'))\n",
    "    "
   ]
  },
  {
   "cell_type": "code",
   "execution_count": null,
   "metadata": {},
   "outputs": [],
   "source": []
  }
 ],
 "metadata": {
  "kernelspec": {
   "display_name": "Python 3.7.6 64-bit ('anaconda3': virtualenv)",
   "language": "python",
   "name": "python37664bitanaconda3virtualenvc1d28240486b4ea5b350e77ecdbe9c46"
  },
  "language_info": {
   "codemirror_mode": {
    "name": "ipython",
    "version": 3
   },
   "file_extension": ".py",
   "mimetype": "text/x-python",
   "name": "python",
   "nbconvert_exporter": "python",
   "pygments_lexer": "ipython3",
   "version": "3.7.6"
  }
 },
 "nbformat": 4,
 "nbformat_minor": 4
}
