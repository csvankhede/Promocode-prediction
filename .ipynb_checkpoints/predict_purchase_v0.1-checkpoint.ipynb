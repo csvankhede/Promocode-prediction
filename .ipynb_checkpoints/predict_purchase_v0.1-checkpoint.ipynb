{
 "cells": [
  {
   "cell_type": "markdown",
   "metadata": {},
   "source": [
    "# Predict purchase "
   ]
  },
  {
   "cell_type": "markdown",
   "metadata": {},
   "source": [
    "## File structure\n",
    "**event_time**\n",
    "\n",
    "Time when event happened at (in UTC).\n",
    "\n",
    "**event_type**\n",
    "\n",
    "Events can be:\n",
    "\n",
    "* view - a user viewed a product\n",
    "* cart - a user added a product to shopping cart\n",
    "* removefromcart - a user removed a product from shopping cart\n",
    "* purchase - a user purchased a product\n",
    "Typical funnel: view => cart => purchase.\n",
    "\n",
    "**product_id**\n",
    "\n",
    "ID of a product\n",
    "\n",
    "**category_id**\n",
    "\n",
    "Product's category ID\n",
    "\n",
    "**category_code**\n",
    "\n",
    "Product's category taxonomy (code name) if it was possible to make it. Usually present for meaningful categories and skipped for different kinds of accessories.\n",
    "\n",
    "**brand**\n",
    "\n",
    "Downcased string of brand name. Can be missed.\n",
    "\n",
    "**price**\n",
    "\n",
    "Float price of a product. Present.\n",
    "\n",
    "**user_id**\n",
    "\n",
    "Permanent user ID.\n",
    "\n",
    "**user_session**\n",
    "\n",
    "Temporary user's session ID. Same for each user's session. Is changed every time user come back to online store from a long pause.\n",
    "\n",
    "## Multiple purchases per session\n",
    "A session can have multiple purchase events. It's ok, because it's a single order.\n",
    "\n",
    "\n",
    "data downloaded: https://www.kaggle.com/mkechinov/ecommerce-behavior-data-from-multi-category-store  \n",
    "data source: https://rees46.com/  "
   ]
  },
  {
   "cell_type": "markdown",
   "metadata": {},
   "source": [
    "## Import libraries and load data"
   ]
  },
  {
   "cell_type": "code",
   "execution_count": 11,
   "metadata": {},
   "outputs": [],
   "source": [
    "import pandas as pd\n",
    "import numpy as np\n",
    "import matplotlib.pyplot as plt\n",
    "import seaborn as sbn\n",
    "import os\n",
    "from datetime import datetime\n",
    "import random\n",
    "import gc\n",
    "import pickle"
   ]
  },
  {
   "cell_type": "code",
   "execution_count": 46,
   "metadata": {},
   "outputs": [],
   "source": [
    "# load 20% of the data\n",
    "p=0.2\n",
    "data = pd.read_csv('2019-Oct.csv',header=0, skiprows=lambda i: i>0 and random.random() > p)"
   ]
  },
  {
   "cell_type": "code",
   "execution_count": 47,
   "metadata": {},
   "outputs": [
    {
     "data": {
      "text/html": [
       "<div>\n",
       "<style scoped>\n",
       "    .dataframe tbody tr th:only-of-type {\n",
       "        vertical-align: middle;\n",
       "    }\n",
       "\n",
       "    .dataframe tbody tr th {\n",
       "        vertical-align: top;\n",
       "    }\n",
       "\n",
       "    .dataframe thead th {\n",
       "        text-align: right;\n",
       "    }\n",
       "</style>\n",
       "<table border=\"1\" class=\"dataframe\">\n",
       "  <thead>\n",
       "    <tr style=\"text-align: right;\">\n",
       "      <th></th>\n",
       "      <th>event_time</th>\n",
       "      <th>event_type</th>\n",
       "      <th>product_id</th>\n",
       "      <th>category_id</th>\n",
       "      <th>category_code</th>\n",
       "      <th>brand</th>\n",
       "      <th>price</th>\n",
       "      <th>user_id</th>\n",
       "      <th>user_session</th>\n",
       "    </tr>\n",
       "  </thead>\n",
       "  <tbody>\n",
       "    <tr>\n",
       "      <th>0</th>\n",
       "      <td>2019-10-01 00:00:01 UTC</td>\n",
       "      <td>view</td>\n",
       "      <td>1307067</td>\n",
       "      <td>2053013558920217191</td>\n",
       "      <td>computers.notebook</td>\n",
       "      <td>lenovo</td>\n",
       "      <td>251.74</td>\n",
       "      <td>550050854</td>\n",
       "      <td>7c90fc70-0e80-4590-96f3-13c02c18c713</td>\n",
       "    </tr>\n",
       "    <tr>\n",
       "      <th>1</th>\n",
       "      <td>2019-10-01 00:00:08 UTC</td>\n",
       "      <td>view</td>\n",
       "      <td>31500053</td>\n",
       "      <td>2053013558031024687</td>\n",
       "      <td>NaN</td>\n",
       "      <td>luminarc</td>\n",
       "      <td>41.16</td>\n",
       "      <td>550978835</td>\n",
       "      <td>6280d577-25c8-4147-99a7-abc6048498d6</td>\n",
       "    </tr>\n",
       "    <tr>\n",
       "      <th>2</th>\n",
       "      <td>2019-10-01 00:00:10 UTC</td>\n",
       "      <td>view</td>\n",
       "      <td>28719074</td>\n",
       "      <td>2053013565480109009</td>\n",
       "      <td>apparel.shoes.keds</td>\n",
       "      <td>baden</td>\n",
       "      <td>102.71</td>\n",
       "      <td>520571932</td>\n",
       "      <td>ac1cd4e5-a3ce-4224-a2d7-ff660a105880</td>\n",
       "    </tr>\n",
       "    <tr>\n",
       "      <th>3</th>\n",
       "      <td>2019-10-01 00:00:20 UTC</td>\n",
       "      <td>view</td>\n",
       "      <td>4803399</td>\n",
       "      <td>2053013554658804075</td>\n",
       "      <td>electronics.audio.headphone</td>\n",
       "      <td>jbl</td>\n",
       "      <td>33.21</td>\n",
       "      <td>555428858</td>\n",
       "      <td>8a6afed4-77f8-40c9-8e76-e062b28216ce</td>\n",
       "    </tr>\n",
       "    <tr>\n",
       "      <th>4</th>\n",
       "      <td>2019-10-01 00:00:24 UTC</td>\n",
       "      <td>view</td>\n",
       "      <td>1003306</td>\n",
       "      <td>2053013555631882655</td>\n",
       "      <td>electronics.smartphone</td>\n",
       "      <td>apple</td>\n",
       "      <td>588.77</td>\n",
       "      <td>555446831</td>\n",
       "      <td>6ec635da-ea15-4a5d-96b4-c8ca9d38f89f</td>\n",
       "    </tr>\n",
       "  </tbody>\n",
       "</table>\n",
       "</div>"
      ],
      "text/plain": [
       "                event_time event_type  product_id          category_id  \\\n",
       "0  2019-10-01 00:00:01 UTC       view     1307067  2053013558920217191   \n",
       "1  2019-10-01 00:00:08 UTC       view    31500053  2053013558031024687   \n",
       "2  2019-10-01 00:00:10 UTC       view    28719074  2053013565480109009   \n",
       "3  2019-10-01 00:00:20 UTC       view     4803399  2053013554658804075   \n",
       "4  2019-10-01 00:00:24 UTC       view     1003306  2053013555631882655   \n",
       "\n",
       "                 category_code     brand   price    user_id  \\\n",
       "0           computers.notebook    lenovo  251.74  550050854   \n",
       "1                          NaN  luminarc   41.16  550978835   \n",
       "2           apparel.shoes.keds     baden  102.71  520571932   \n",
       "3  electronics.audio.headphone       jbl   33.21  555428858   \n",
       "4       electronics.smartphone     apple  588.77  555446831   \n",
       "\n",
       "                           user_session  \n",
       "0  7c90fc70-0e80-4590-96f3-13c02c18c713  \n",
       "1  6280d577-25c8-4147-99a7-abc6048498d6  \n",
       "2  ac1cd4e5-a3ce-4224-a2d7-ff660a105880  \n",
       "3  8a6afed4-77f8-40c9-8e76-e062b28216ce  \n",
       "4  6ec635da-ea15-4a5d-96b4-c8ca9d38f89f  "
      ]
     },
     "execution_count": 47,
     "metadata": {},
     "output_type": "execute_result"
    }
   ],
   "source": [
    "data.head()"
   ]
  },
  {
   "cell_type": "code",
   "execution_count": 48,
   "metadata": {},
   "outputs": [
    {
     "data": {
      "text/html": [
       "<div>\n",
       "<style scoped>\n",
       "    .dataframe tbody tr th:only-of-type {\n",
       "        vertical-align: middle;\n",
       "    }\n",
       "\n",
       "    .dataframe tbody tr th {\n",
       "        vertical-align: top;\n",
       "    }\n",
       "\n",
       "    .dataframe thead th {\n",
       "        text-align: right;\n",
       "    }\n",
       "</style>\n",
       "<table border=\"1\" class=\"dataframe\">\n",
       "  <thead>\n",
       "    <tr style=\"text-align: right;\">\n",
       "      <th></th>\n",
       "      <th>product_id</th>\n",
       "      <th>category_id</th>\n",
       "      <th>price</th>\n",
       "      <th>user_id</th>\n",
       "    </tr>\n",
       "  </thead>\n",
       "  <tbody>\n",
       "    <tr>\n",
       "      <th>count</th>\n",
       "      <td>8.489867e+06</td>\n",
       "      <td>8.489867e+06</td>\n",
       "      <td>8.489867e+06</td>\n",
       "      <td>8.489867e+06</td>\n",
       "    </tr>\n",
       "    <tr>\n",
       "      <th>mean</th>\n",
       "      <td>1.054860e+07</td>\n",
       "      <td>2.057409e+18</td>\n",
       "      <td>2.903460e+02</td>\n",
       "      <td>5.335427e+08</td>\n",
       "    </tr>\n",
       "    <tr>\n",
       "      <th>std</th>\n",
       "      <td>1.188518e+07</td>\n",
       "      <td>1.844714e+16</td>\n",
       "      <td>3.582575e+02</td>\n",
       "      <td>1.852531e+07</td>\n",
       "    </tr>\n",
       "    <tr>\n",
       "      <th>min</th>\n",
       "      <td>1.000978e+06</td>\n",
       "      <td>2.053014e+18</td>\n",
       "      <td>0.000000e+00</td>\n",
       "      <td>6.407836e+07</td>\n",
       "    </tr>\n",
       "    <tr>\n",
       "      <th>25%</th>\n",
       "      <td>1.005157e+06</td>\n",
       "      <td>2.053014e+18</td>\n",
       "      <td>6.605000e+01</td>\n",
       "      <td>5.159016e+08</td>\n",
       "    </tr>\n",
       "    <tr>\n",
       "      <th>50%</th>\n",
       "      <td>5.000357e+06</td>\n",
       "      <td>2.053014e+18</td>\n",
       "      <td>1.629400e+02</td>\n",
       "      <td>5.297014e+08</td>\n",
       "    </tr>\n",
       "    <tr>\n",
       "      <th>75%</th>\n",
       "      <td>1.600030e+07</td>\n",
       "      <td>2.053014e+18</td>\n",
       "      <td>3.585700e+02</td>\n",
       "      <td>5.516158e+08</td>\n",
       "    </tr>\n",
       "    <tr>\n",
       "      <th>max</th>\n",
       "      <td>6.050001e+07</td>\n",
       "      <td>2.175420e+18</td>\n",
       "      <td>2.574070e+03</td>\n",
       "      <td>5.662807e+08</td>\n",
       "    </tr>\n",
       "  </tbody>\n",
       "</table>\n",
       "</div>"
      ],
      "text/plain": [
       "         product_id   category_id         price       user_id\n",
       "count  8.489867e+06  8.489867e+06  8.489867e+06  8.489867e+06\n",
       "mean   1.054860e+07  2.057409e+18  2.903460e+02  5.335427e+08\n",
       "std    1.188518e+07  1.844714e+16  3.582575e+02  1.852531e+07\n",
       "min    1.000978e+06  2.053014e+18  0.000000e+00  6.407836e+07\n",
       "25%    1.005157e+06  2.053014e+18  6.605000e+01  5.159016e+08\n",
       "50%    5.000357e+06  2.053014e+18  1.629400e+02  5.297014e+08\n",
       "75%    1.600030e+07  2.053014e+18  3.585700e+02  5.516158e+08\n",
       "max    6.050001e+07  2.175420e+18  2.574070e+03  5.662807e+08"
      ]
     },
     "execution_count": 48,
     "metadata": {},
     "output_type": "execute_result"
    }
   ],
   "source": [
    "data.describe()"
   ]
  },
  {
   "cell_type": "code",
   "execution_count": 49,
   "metadata": {
    "collapsed": true,
    "jupyter": {
     "outputs_hidden": true
    }
   },
   "outputs": [
    {
     "data": {
      "text/plain": [
       "(8489867, 9)"
      ]
     },
     "execution_count": 49,
     "metadata": {},
     "output_type": "execute_result"
    }
   ],
   "source": [
    "data.shape"
   ]
  },
  {
   "cell_type": "code",
   "execution_count": 50,
   "metadata": {},
   "outputs": [
    {
     "data": {
      "text/plain": [
       "Index(['event_time', 'event_type', 'product_id', 'category_id',\n",
       "       'category_code', 'brand', 'price', 'user_id', 'user_session'],\n",
       "      dtype='object')"
      ]
     },
     "execution_count": 50,
     "metadata": {},
     "output_type": "execute_result"
    }
   ],
   "source": [
    "data.columns"
   ]
  },
  {
   "cell_type": "markdown",
   "metadata": {},
   "source": [
    "## No. of users"
   ]
  },
  {
   "cell_type": "code",
   "execution_count": 51,
   "metadata": {},
   "outputs": [
    {
     "name": "stdout",
     "output_type": "stream",
     "text": [
      "Visitor:  1867305\n"
     ]
    }
   ],
   "source": [
    "visitors = data.user_id.nunique()\n",
    "print('Visitor: ',visitors)"
   ]
  },
  {
   "cell_type": "markdown",
   "metadata": {},
   "source": [
    "## Daily visitors"
   ]
  },
  {
   "cell_type": "code",
   "execution_count": 52,
   "metadata": {},
   "outputs": [],
   "source": [
    "d = data.loc[:,['event_time','user_id']]\n",
    "d['event_time'] = d['event_time'].apply(lambda x: str(x)[:10])"
   ]
  },
  {
   "cell_type": "code",
   "execution_count": 53,
   "metadata": {},
   "outputs": [],
   "source": [
    "visitor_by_date = d.drop_duplicates().groupby(['event_time'])['user_id'].agg(['count']).sort_values(by=['event_time'], ascending=True)"
   ]
  },
  {
   "cell_type": "code",
   "execution_count": 55,
   "metadata": {},
   "outputs": [
    {
     "data": {
      "image/png": "[encoded data removed]",
      "text/plain": [
       "<Figure size 1440x576 with 1 Axes>"
      ]
     },
     "metadata": {
      "needs_background": "light"
     },
     "output_type": "display_data"
    }
   ],
   "source": [
    "x = pd.Series(visitor_by_date.index.values).apply(lambda x:datetime.strptime(x,'%Y-%m-%d').date())\n",
    "y = visitor_by_date['count']\n",
    "plt.figure(figsize=(20,8))\n",
    "plt.plot(x,y)\n",
    "plt.show()"
   ]
  },
  {
   "cell_type": "markdown",
   "metadata": {},
   "source": [
    "## Most interected product categories"
   ]
  },
  {
   "cell_type": "code",
   "execution_count": 56,
   "metadata": {},
   "outputs": [
    {
     "data": {
      "image/png": "[encoded data removed]",
      "text/plain": [
       "<Figure size 1080x1080 with 1 Axes>"
      ]
     },
     "metadata": {},
     "output_type": "display_data"
    }
   ],
   "source": [
    "cat_code = data.category_code.value_counts()[:30].sort_values(ascending=False)\n",
    "plt.figure(figsize=(15,15))\n",
    "plt.pie(cat_code,labels=cat_code.keys())\n",
    "plt.title('Most interected produt categories')\n",
    "plt.show()"
   ]
  },
  {
   "cell_type": "markdown",
   "metadata": {},
   "source": [
    "## Distribution of the event type "
   ]
  },
  {
   "cell_type": "code",
   "execution_count": 57,
   "metadata": {},
   "outputs": [
    {
     "data": {
      "image/png": "[encoded data removed]",
      "text/plain": [
       "<Figure size 1800x576 with 1 Axes>"
      ]
     },
     "metadata": {
      "needs_background": "light"
     },
     "output_type": "display_data"
    }
   ],
   "source": [
    "# https://datascience.stackexchange.com/a/48044/91657\n",
    "plt.figure(figsize=(25,8))\n",
    "l = data.event_type.value_counts().index\n",
    "ax = sbn.countplot(x='event_type',data=data,order=l)\n",
    "total = len(data)\n",
    "for p in ax.patches:\n",
    "        percentage = '{:.1f}%'.format(100 * p.get_height()/total)\n",
    "        x = p.get_x() + p.get_width()/2 -.1\n",
    "        y = p.get_y() + p.get_height()*1.015\n",
    "        ax.annotate(percentage, (x, y),fontsize=15)\n",
    "plt.xlabel('Event types',fontsize=25)\n",
    "plt.ylabel('Counts',fontsize=25)\n",
    "plt.title('Count of the event',fontsize=30)\n",
    "plt.xticks(fontsize=20)\n",
    "plt.yticks(fontsize=15)\n",
    "plt.grid()\n",
    "plt.show()\n",
    "\n",
    "# plt.figure(figsize=(25,8))\n",
    "# data[\"binned_week\"] = data.timestamp.dt.week\n",
    "# binned =data.groupby('binned_week')['event_type'].agg('count').values\n",
    "# ax = sbn.countplot(x='binned_week',hue='event_type',data=data,hue_order=l)\n",
    "# i =0\n",
    "# for p in ax.patches:\n",
    "#         percentage = '{:.1f}%'.format(100 * p.get_height()/binned[i//4])\n",
    "#         i+=1\n",
    "#         x = p.get_x() + p.get_width()/2 -.1\n",
    "#         y = p.get_y() + p.get_height()*1.015\n",
    "#         ax.annotate(percentage, (x, y),fontsize=15)\n",
    "# plt.xlabel('Event types',fontsize=25)\n",
    "# plt.ylabel('Counts',fontsize=25)\n",
    "# plt.title('Count of the event in each week',fontsize=30)\n",
    "# labels = ['week 1','week 2','week 3','week 4','week 5']\n",
    "# plt.xticks([0,1,2,3,4],labels,fontsize=20)\n",
    "# plt.yticks(fontsize=15)\n",
    "# plt.grid()\n",
    "# plt.legend(fontsize=16)\n",
    "# plt.show()"
   ]
  },
  {
   "cell_type": "markdown",
   "metadata": {},
   "source": [
    "## What kind of products are purchased?"
   ]
  },
  {
   "cell_type": "code",
   "execution_count": 58,
   "metadata": {},
   "outputs": [
    {
     "data": {
      "text/html": [
       "<div>\n",
       "<style scoped>\n",
       "    .dataframe tbody tr th:only-of-type {\n",
       "        vertical-align: middle;\n",
       "    }\n",
       "\n",
       "    .dataframe tbody tr th {\n",
       "        vertical-align: top;\n",
       "    }\n",
       "\n",
       "    .dataframe thead th {\n",
       "        text-align: right;\n",
       "    }\n",
       "</style>\n",
       "<table border=\"1\" class=\"dataframe\">\n",
       "  <thead>\n",
       "    <tr style=\"text-align: right;\">\n",
       "      <th></th>\n",
       "      <th>category_code</th>\n",
       "      <th>price</th>\n",
       "      <th>brand</th>\n",
       "    </tr>\n",
       "  </thead>\n",
       "  <tbody>\n",
       "    <tr>\n",
       "      <th>90</th>\n",
       "      <td>furniture.bathroom.toilet</td>\n",
       "      <td>54.42</td>\n",
       "      <td>santeri</td>\n",
       "    </tr>\n",
       "    <tr>\n",
       "      <th>123</th>\n",
       "      <td>electronics.audio.headphone</td>\n",
       "      <td>161.98</td>\n",
       "      <td>apple</td>\n",
       "    </tr>\n",
       "    <tr>\n",
       "      <th>149</th>\n",
       "      <td>electronics.audio.headphone</td>\n",
       "      <td>171.56</td>\n",
       "      <td>apple</td>\n",
       "    </tr>\n",
       "    <tr>\n",
       "      <th>489</th>\n",
       "      <td>computers.notebook</td>\n",
       "      <td>320.35</td>\n",
       "      <td>hp</td>\n",
       "    </tr>\n",
       "    <tr>\n",
       "      <th>538</th>\n",
       "      <td>electronics.smartphone</td>\n",
       "      <td>1747.79</td>\n",
       "      <td>apple</td>\n",
       "    </tr>\n",
       "    <tr>\n",
       "      <th>748</th>\n",
       "      <td>electronics.smartphone</td>\n",
       "      <td>197.43</td>\n",
       "      <td>samsung</td>\n",
       "    </tr>\n",
       "    <tr>\n",
       "      <th>1231</th>\n",
       "      <td>electronics.smartphone</td>\n",
       "      <td>223.43</td>\n",
       "      <td>samsung</td>\n",
       "    </tr>\n",
       "    <tr>\n",
       "      <th>1261</th>\n",
       "      <td>electronics.smartphone</td>\n",
       "      <td>1206.40</td>\n",
       "      <td>apple</td>\n",
       "    </tr>\n",
       "    <tr>\n",
       "      <th>1345</th>\n",
       "      <td>electronics.smartphone</td>\n",
       "      <td>1634.51</td>\n",
       "      <td>apple</td>\n",
       "    </tr>\n",
       "    <tr>\n",
       "      <th>1447</th>\n",
       "      <td>electronics.smartphone</td>\n",
       "      <td>1415.48</td>\n",
       "      <td>apple</td>\n",
       "    </tr>\n",
       "  </tbody>\n",
       "</table>\n",
       "</div>"
      ],
      "text/plain": [
       "                    category_code    price    brand\n",
       "90      furniture.bathroom.toilet    54.42  santeri\n",
       "123   electronics.audio.headphone   161.98    apple\n",
       "149   electronics.audio.headphone   171.56    apple\n",
       "489            computers.notebook   320.35       hp\n",
       "538        electronics.smartphone  1747.79    apple\n",
       "748        electronics.smartphone   197.43  samsung\n",
       "1231       electronics.smartphone   223.43  samsung\n",
       "1261       electronics.smartphone  1206.40    apple\n",
       "1345       electronics.smartphone  1634.51    apple\n",
       "1447       electronics.smartphone  1415.48    apple"
      ]
     },
     "execution_count": 58,
     "metadata": {},
     "output_type": "execute_result"
    }
   ],
   "source": [
    "purchase= data[data['event_type']=='purchase'][['category_code','price','brand']]\n",
    "purchase.dropna(inplace=True)\n",
    "purchase.head(10)"
   ]
  },
  {
   "cell_type": "markdown",
   "metadata": {},
   "source": [
    "## Top seller brands"
   ]
  },
  {
   "cell_type": "code",
   "execution_count": 59,
   "metadata": {},
   "outputs": [
    {
     "data": {
      "text/html": [
       "<div>\n",
       "<style scoped>\n",
       "    .dataframe tbody tr th:only-of-type {\n",
       "        vertical-align: middle;\n",
       "    }\n",
       "\n",
       "    .dataframe tbody tr th {\n",
       "        vertical-align: top;\n",
       "    }\n",
       "\n",
       "    .dataframe thead th {\n",
       "        text-align: right;\n",
       "    }\n",
       "</style>\n",
       "<table border=\"1\" class=\"dataframe\">\n",
       "  <thead>\n",
       "    <tr style=\"text-align: right;\">\n",
       "      <th></th>\n",
       "      <th>count</th>\n",
       "    </tr>\n",
       "    <tr>\n",
       "      <th>brand</th>\n",
       "      <th></th>\n",
       "    </tr>\n",
       "  </thead>\n",
       "  <tbody>\n",
       "    <tr>\n",
       "      <th>samsung</th>\n",
       "      <td>1055954</td>\n",
       "    </tr>\n",
       "    <tr>\n",
       "      <th>apple</th>\n",
       "      <td>824843</td>\n",
       "    </tr>\n",
       "    <tr>\n",
       "      <th>xiaomi</th>\n",
       "      <td>617062</td>\n",
       "    </tr>\n",
       "    <tr>\n",
       "      <th>huawei</th>\n",
       "      <td>222810</td>\n",
       "    </tr>\n",
       "    <tr>\n",
       "      <th>lucente</th>\n",
       "      <td>130310</td>\n",
       "    </tr>\n",
       "    <tr>\n",
       "      <th>lg</th>\n",
       "      <td>112453</td>\n",
       "    </tr>\n",
       "    <tr>\n",
       "      <th>bosch</th>\n",
       "      <td>111610</td>\n",
       "    </tr>\n",
       "    <tr>\n",
       "      <th>oppo</th>\n",
       "      <td>96402</td>\n",
       "    </tr>\n",
       "    <tr>\n",
       "      <th>sony</th>\n",
       "      <td>91015</td>\n",
       "    </tr>\n",
       "    <tr>\n",
       "      <th>acer</th>\n",
       "      <td>85309</td>\n",
       "    </tr>\n",
       "    <tr>\n",
       "      <th>cordiant</th>\n",
       "      <td>73417</td>\n",
       "    </tr>\n",
       "    <tr>\n",
       "      <th>artel</th>\n",
       "      <td>68095</td>\n",
       "    </tr>\n",
       "    <tr>\n",
       "      <th>lenovo</th>\n",
       "      <td>67831</td>\n",
       "    </tr>\n",
       "    <tr>\n",
       "      <th>hp</th>\n",
       "      <td>61083</td>\n",
       "    </tr>\n",
       "    <tr>\n",
       "      <th>dauscher</th>\n",
       "      <td>58225</td>\n",
       "    </tr>\n",
       "    <tr>\n",
       "      <th>indesit</th>\n",
       "      <td>57912</td>\n",
       "    </tr>\n",
       "    <tr>\n",
       "      <th>philips</th>\n",
       "      <td>56696</td>\n",
       "    </tr>\n",
       "    <tr>\n",
       "      <th>redmond</th>\n",
       "      <td>56062</td>\n",
       "    </tr>\n",
       "    <tr>\n",
       "      <th>respect</th>\n",
       "      <td>54179</td>\n",
       "    </tr>\n",
       "    <tr>\n",
       "      <th>casio</th>\n",
       "      <td>51944</td>\n",
       "    </tr>\n",
       "  </tbody>\n",
       "</table>\n",
       "</div>"
      ],
      "text/plain": [
       "            count\n",
       "brand            \n",
       "samsung   1055954\n",
       "apple      824843\n",
       "xiaomi     617062\n",
       "huawei     222810\n",
       "lucente    130310\n",
       "lg         112453\n",
       "bosch      111610\n",
       "oppo        96402\n",
       "sony        91015\n",
       "acer        85309\n",
       "cordiant    73417\n",
       "artel       68095\n",
       "lenovo      67831\n",
       "hp          61083\n",
       "dauscher    58225\n",
       "indesit     57912\n",
       "philips     56696\n",
       "redmond     56062\n",
       "respect     54179\n",
       "casio       51944"
      ]
     },
     "execution_count": 59,
     "metadata": {},
     "output_type": "execute_result"
    }
   ],
   "source": [
    "top_brands = data.groupby('brand')['brand'].agg(['count']).sort_values('count',ascending=False)\n",
    "top_brands.head(20)"
   ]
  },
  {
   "cell_type": "markdown",
   "metadata": {},
   "source": [
    "## Add new features\n",
    "* category_code_level1: category\n",
    "* category_code_level2: sub-category\n",
    "* event_weekday: weekday of the event\n",
    "* activity_count: number of activity in that session\n",
    "* is_purchased: whether the put in cart item is purchased"
   ]
  },
  {
   "cell_type": "code",
   "execution_count": 147,
   "metadata": {},
   "outputs": [
    {
     "data": {
      "text/html": [
       "<div>\n",
       "<style scoped>\n",
       "    .dataframe tbody tr th:only-of-type {\n",
       "        vertical-align: middle;\n",
       "    }\n",
       "\n",
       "    .dataframe tbody tr th {\n",
       "        vertical-align: top;\n",
       "    }\n",
       "\n",
       "    .dataframe thead th {\n",
       "        text-align: right;\n",
       "    }\n",
       "</style>\n",
       "<table border=\"1\" class=\"dataframe\">\n",
       "  <thead>\n",
       "    <tr style=\"text-align: right;\">\n",
       "      <th></th>\n",
       "      <th>event_time</th>\n",
       "      <th>event_type</th>\n",
       "      <th>product_id</th>\n",
       "      <th>category_id</th>\n",
       "      <th>category_code</th>\n",
       "      <th>brand</th>\n",
       "      <th>price</th>\n",
       "      <th>user_id</th>\n",
       "      <th>user_session</th>\n",
       "    </tr>\n",
       "  </thead>\n",
       "  <tbody>\n",
       "    <tr>\n",
       "      <th>90</th>\n",
       "      <td>2019-10-01 00:07:07 UTC</td>\n",
       "      <td>purchase</td>\n",
       "      <td>13800054</td>\n",
       "      <td>2053013557418656265</td>\n",
       "      <td>furniture.bathroom.toilet</td>\n",
       "      <td>santeri</td>\n",
       "      <td>54.42</td>\n",
       "      <td>555332717</td>\n",
       "      <td>1dea3ee2-2ded-42e8-8e7a-4e2ad6ae942f</td>\n",
       "    </tr>\n",
       "    <tr>\n",
       "      <th>123</th>\n",
       "      <td>2019-10-01 00:09:54 UTC</td>\n",
       "      <td>purchase</td>\n",
       "      <td>4804056</td>\n",
       "      <td>2053013554658804075</td>\n",
       "      <td>electronics.audio.headphone</td>\n",
       "      <td>apple</td>\n",
       "      <td>161.98</td>\n",
       "      <td>551377651</td>\n",
       "      <td>3c80f0d6-e9ec-4181-8c5c-837a30be2d68</td>\n",
       "    </tr>\n",
       "    <tr>\n",
       "      <th>149</th>\n",
       "      <td>2019-10-01 00:12:14 UTC</td>\n",
       "      <td>purchase</td>\n",
       "      <td>4802036</td>\n",
       "      <td>2053013554658804075</td>\n",
       "      <td>electronics.audio.headphone</td>\n",
       "      <td>apple</td>\n",
       "      <td>171.56</td>\n",
       "      <td>533624186</td>\n",
       "      <td>e5ac3caa-e6d5-4d6b-ae06-2c18cd9ca683</td>\n",
       "    </tr>\n",
       "    <tr>\n",
       "      <th>264</th>\n",
       "      <td>2019-10-01 02:17:59 UTC</td>\n",
       "      <td>cart</td>\n",
       "      <td>1004833</td>\n",
       "      <td>2053013555631882655</td>\n",
       "      <td>electronics.smartphone</td>\n",
       "      <td>samsung</td>\n",
       "      <td>174.76</td>\n",
       "      <td>536415846</td>\n",
       "      <td>685b5b42-f597-4a69-ab4c-ef96a30bc454</td>\n",
       "    </tr>\n",
       "    <tr>\n",
       "      <th>312</th>\n",
       "      <td>2019-10-01 02:19:12 UTC</td>\n",
       "      <td>purchase</td>\n",
       "      <td>13103842</td>\n",
       "      <td>2053013553526341921</td>\n",
       "      <td>NaN</td>\n",
       "      <td>pdw</td>\n",
       "      <td>391.26</td>\n",
       "      <td>516178643</td>\n",
       "      <td>4d74b49e-3838-43cc-ac2e-a0490942b464</td>\n",
       "    </tr>\n",
       "  </tbody>\n",
       "</table>\n",
       "</div>"
      ],
      "text/plain": [
       "                  event_time event_type  product_id          category_id  \\\n",
       "90   2019-10-01 00:07:07 UTC   purchase    13800054  2053013557418656265   \n",
       "123  2019-10-01 00:09:54 UTC   purchase     4804056  2053013554658804075   \n",
       "149  2019-10-01 00:12:14 UTC   purchase     4802036  2053013554658804075   \n",
       "264  2019-10-01 02:17:59 UTC       cart     1004833  2053013555631882655   \n",
       "312  2019-10-01 02:19:12 UTC   purchase    13103842  2053013553526341921   \n",
       "\n",
       "                   category_code    brand   price    user_id  \\\n",
       "90     furniture.bathroom.toilet  santeri   54.42  555332717   \n",
       "123  electronics.audio.headphone    apple  161.98  551377651   \n",
       "149  electronics.audio.headphone    apple  171.56  533624186   \n",
       "264       electronics.smartphone  samsung  174.76  536415846   \n",
       "312                          NaN      pdw  391.26  516178643   \n",
       "\n",
       "                             user_session  \n",
       "90   1dea3ee2-2ded-42e8-8e7a-4e2ad6ae942f  \n",
       "123  3c80f0d6-e9ec-4181-8c5c-837a30be2d68  \n",
       "149  e5ac3caa-e6d5-4d6b-ae06-2c18cd9ca683  \n",
       "264  685b5b42-f597-4a69-ab4c-ef96a30bc454  \n",
       "312  4d74b49e-3838-43cc-ac2e-a0490942b464  "
      ]
     },
     "execution_count": 147,
     "metadata": {},
     "output_type": "execute_result"
    }
   ],
   "source": [
    "df_targets = data.loc[data['event_type'].isin(['cart','purchase'])].drop_duplicates(subset=['event_type','product_id','price','user_id','user_session'])\n",
    "df_targets.head()"
   ]
  },
  {
   "cell_type": "code",
   "execution_count": 148,
   "metadata": {},
   "outputs": [],
   "source": [
    "df_targets['is_purchased'] = np.where(df_targets['event_type']=='purchase',1,0)\n",
    "\n",
    "# remove same product in same session by selecting only on record \n",
    "df_targets['is_purchased'] = df_targets.groupby(['user_session','product_id'])['is_purchased'].transform('max')\n",
    "\n",
    "# drop duplicate of 'cart' category\n",
    "df_targets = df_targets.loc[df_targets['event_type']=='cart'].drop_duplicates(['user_session','product_id','is_purchased'])\n",
    "\n",
    "# add week day of the record\n",
    "df_targets['event_weekday'] = df_targets['event_time'].apply(lambda x:str(datetime.strptime(str(x)[:10],'%Y-%m-%d').weekday()))\n",
    "\n",
    "# add level 1 and 2 category\n",
    "df_targets[\"category_code_level1\"] = df_targets[\"category_code\"].str.split(\".\",expand=True)[0].astype('category')\n",
    "df_targets[\"category_code_level2\"] = df_targets[\"category_code\"].str.split(\".\",expand=True)[1].astype('category')"
   ]
  },
  {
   "cell_type": "code",
   "execution_count": 149,
   "metadata": {},
   "outputs": [
    {
     "data": {
      "text/plain": [
       "0    145572\n",
       "1     18084\n",
       "Name: is_purchased, dtype: int64"
      ]
     },
     "execution_count": 149,
     "metadata": {},
     "output_type": "execute_result"
    }
   ],
   "source": [
    "df_targets['is_purchased'].value_counts()"
   ]
  },
  {
   "cell_type": "code",
   "execution_count": 150,
   "metadata": {},
   "outputs": [
    {
     "data": {
      "text/html": [
       "<div>\n",
       "<style scoped>\n",
       "    .dataframe tbody tr th:only-of-type {\n",
       "        vertical-align: middle;\n",
       "    }\n",
       "\n",
       "    .dataframe tbody tr th {\n",
       "        vertical-align: top;\n",
       "    }\n",
       "\n",
       "    .dataframe thead th {\n",
       "        text-align: right;\n",
       "    }\n",
       "</style>\n",
       "<table border=\"1\" class=\"dataframe\">\n",
       "  <thead>\n",
       "    <tr style=\"text-align: right;\">\n",
       "      <th></th>\n",
       "      <th>event_time</th>\n",
       "      <th>event_type</th>\n",
       "      <th>product_id</th>\n",
       "      <th>category_id</th>\n",
       "      <th>category_code</th>\n",
       "      <th>brand</th>\n",
       "      <th>price</th>\n",
       "      <th>user_id</th>\n",
       "      <th>user_session</th>\n",
       "      <th>is_purchased</th>\n",
       "      <th>event_weekday</th>\n",
       "      <th>category_code_level1</th>\n",
       "      <th>category_code_level2</th>\n",
       "    </tr>\n",
       "  </thead>\n",
       "  <tbody>\n",
       "    <tr>\n",
       "      <th>264</th>\n",
       "      <td>2019-10-01 02:17:59 UTC</td>\n",
       "      <td>cart</td>\n",
       "      <td>1004833</td>\n",
       "      <td>2053013555631882655</td>\n",
       "      <td>electronics.smartphone</td>\n",
       "      <td>samsung</td>\n",
       "      <td>174.76</td>\n",
       "      <td>536415846</td>\n",
       "      <td>685b5b42-f597-4a69-ab4c-ef96a30bc454</td>\n",
       "      <td>0</td>\n",
       "      <td>1</td>\n",
       "      <td>electronics</td>\n",
       "      <td>smartphone</td>\n",
       "    </tr>\n",
       "    <tr>\n",
       "      <th>397</th>\n",
       "      <td>2019-10-01 02:21:04 UTC</td>\n",
       "      <td>cart</td>\n",
       "      <td>1500021</td>\n",
       "      <td>2053013552955916539</td>\n",
       "      <td>computers.peripherals.printer</td>\n",
       "      <td>epson</td>\n",
       "      <td>116.73</td>\n",
       "      <td>513489079</td>\n",
       "      <td>63de1120-9d48-45d0-b024-500d1b95d71f</td>\n",
       "      <td>0</td>\n",
       "      <td>1</td>\n",
       "      <td>computers</td>\n",
       "      <td>peripherals</td>\n",
       "    </tr>\n",
       "    <tr>\n",
       "      <th>697</th>\n",
       "      <td>2019-10-01 02:25:34 UTC</td>\n",
       "      <td>cart</td>\n",
       "      <td>1005098</td>\n",
       "      <td>2053013555631882655</td>\n",
       "      <td>electronics.smartphone</td>\n",
       "      <td>samsung</td>\n",
       "      <td>154.42</td>\n",
       "      <td>514480286</td>\n",
       "      <td>176b4ba0-aac7-440a-944d-f5b08741bd73</td>\n",
       "      <td>0</td>\n",
       "      <td>1</td>\n",
       "      <td>electronics</td>\n",
       "      <td>smartphone</td>\n",
       "    </tr>\n",
       "    <tr>\n",
       "      <th>789</th>\n",
       "      <td>2019-10-01 02:26:26 UTC</td>\n",
       "      <td>cart</td>\n",
       "      <td>1004767</td>\n",
       "      <td>2053013555631882655</td>\n",
       "      <td>electronics.smartphone</td>\n",
       "      <td>samsung</td>\n",
       "      <td>254.82</td>\n",
       "      <td>523751849</td>\n",
       "      <td>6d302422-8cbc-45c1-9bf6-729b63c93393</td>\n",
       "      <td>0</td>\n",
       "      <td>1</td>\n",
       "      <td>electronics</td>\n",
       "      <td>smartphone</td>\n",
       "    </tr>\n",
       "    <tr>\n",
       "      <th>795</th>\n",
       "      <td>2019-10-01 02:26:30 UTC</td>\n",
       "      <td>cart</td>\n",
       "      <td>1005115</td>\n",
       "      <td>2053013555631882655</td>\n",
       "      <td>electronics.smartphone</td>\n",
       "      <td>apple</td>\n",
       "      <td>975.57</td>\n",
       "      <td>555462153</td>\n",
       "      <td>08a87442-0baa-4b91-a951-ac999ed03cdc</td>\n",
       "      <td>0</td>\n",
       "      <td>1</td>\n",
       "      <td>electronics</td>\n",
       "      <td>smartphone</td>\n",
       "    </tr>\n",
       "  </tbody>\n",
       "</table>\n",
       "</div>"
      ],
      "text/plain": [
       "                  event_time event_type  product_id          category_id  \\\n",
       "264  2019-10-01 02:17:59 UTC       cart     1004833  2053013555631882655   \n",
       "397  2019-10-01 02:21:04 UTC       cart     1500021  2053013552955916539   \n",
       "697  2019-10-01 02:25:34 UTC       cart     1005098  2053013555631882655   \n",
       "789  2019-10-01 02:26:26 UTC       cart     1004767  2053013555631882655   \n",
       "795  2019-10-01 02:26:30 UTC       cart     1005115  2053013555631882655   \n",
       "\n",
       "                     category_code    brand   price    user_id  \\\n",
       "264         electronics.smartphone  samsung  174.76  536415846   \n",
       "397  computers.peripherals.printer    epson  116.73  513489079   \n",
       "697         electronics.smartphone  samsung  154.42  514480286   \n",
       "789         electronics.smartphone  samsung  254.82  523751849   \n",
       "795         electronics.smartphone    apple  975.57  555462153   \n",
       "\n",
       "                             user_session  is_purchased event_weekday  \\\n",
       "264  685b5b42-f597-4a69-ab4c-ef96a30bc454             0             1   \n",
       "397  63de1120-9d48-45d0-b024-500d1b95d71f             0             1   \n",
       "697  176b4ba0-aac7-440a-944d-f5b08741bd73             0             1   \n",
       "789  6d302422-8cbc-45c1-9bf6-729b63c93393             0             1   \n",
       "795  08a87442-0baa-4b91-a951-ac999ed03cdc             0             1   \n",
       "\n",
       "    category_code_level1 category_code_level2  \n",
       "264          electronics           smartphone  \n",
       "397            computers          peripherals  \n",
       "697          electronics           smartphone  \n",
       "789          electronics           smartphone  \n",
       "795          electronics           smartphone  "
      ]
     },
     "execution_count": 150,
     "metadata": {},
     "output_type": "execute_result"
    }
   ],
   "source": [
    "df_targets.head()"
   ]
  },
  {
   "cell_type": "code",
   "execution_count": 151,
   "metadata": {},
   "outputs": [],
   "source": [
    "# select users who add item to cart or purchase\n",
    "users = data.loc[data['event_type'].isin(['cart','purchase'])].drop_duplicates(subset=['user_id'])\n",
    "users.dropna(how='any',inplace=True)\n",
    "users_activity = data.loc[data['user_id'].isin(users['user_id'])]"
   ]
  },
  {
   "cell_type": "code",
   "execution_count": 152,
   "metadata": {},
   "outputs": [],
   "source": [
    "activity_in_session = users_activity.groupby(['user_session'])['event_type'].count().reset_index()\n",
    "activity_in_session.rename(columns={'event_type':'activity_count'},inplace=True)"
   ]
  },
  {
   "cell_type": "code",
   "execution_count": 153,
   "metadata": {},
   "outputs": [
    {
     "data": {
      "text/html": [
       "<div>\n",
       "<style scoped>\n",
       "    .dataframe tbody tr th:only-of-type {\n",
       "        vertical-align: middle;\n",
       "    }\n",
       "\n",
       "    .dataframe tbody tr th {\n",
       "        vertical-align: top;\n",
       "    }\n",
       "\n",
       "    .dataframe thead th {\n",
       "        text-align: right;\n",
       "    }\n",
       "</style>\n",
       "<table border=\"1\" class=\"dataframe\">\n",
       "  <thead>\n",
       "    <tr style=\"text-align: right;\">\n",
       "      <th></th>\n",
       "      <th>user_session</th>\n",
       "      <th>activity_count</th>\n",
       "    </tr>\n",
       "  </thead>\n",
       "  <tbody>\n",
       "    <tr>\n",
       "      <th>0</th>\n",
       "      <td>00000083-8816-4d58-a9b8-f52f54186edc</td>\n",
       "      <td>4</td>\n",
       "    </tr>\n",
       "    <tr>\n",
       "      <th>1</th>\n",
       "      <td>000001fd-1f89-45e8-a3ce-fe3218cabfad</td>\n",
       "      <td>1</td>\n",
       "    </tr>\n",
       "    <tr>\n",
       "      <th>2</th>\n",
       "      <td>00000e7e-fd0d-4f9e-b13b-bec0cfd54a2e</td>\n",
       "      <td>1</td>\n",
       "    </tr>\n",
       "    <tr>\n",
       "      <th>3</th>\n",
       "      <td>00000f11-3c2e-4a22-b1b9-0a03276eb9cc</td>\n",
       "      <td>1</td>\n",
       "    </tr>\n",
       "    <tr>\n",
       "      <th>4</th>\n",
       "      <td>0000187f-5276-441c-a945-b8ffc2edcd28</td>\n",
       "      <td>1</td>\n",
       "    </tr>\n",
       "  </tbody>\n",
       "</table>\n",
       "</div>"
      ],
      "text/plain": [
       "                           user_session  activity_count\n",
       "0  00000083-8816-4d58-a9b8-f52f54186edc               4\n",
       "1  000001fd-1f89-45e8-a3ce-fe3218cabfad               1\n",
       "2  00000e7e-fd0d-4f9e-b13b-bec0cfd54a2e               1\n",
       "3  00000f11-3c2e-4a22-b1b9-0a03276eb9cc               1\n",
       "4  0000187f-5276-441c-a945-b8ffc2edcd28               1"
      ]
     },
     "execution_count": 153,
     "metadata": {},
     "output_type": "execute_result"
    }
   ],
   "source": [
    "activity_in_session.head()"
   ]
  },
  {
   "cell_type": "code",
   "execution_count": 154,
   "metadata": {},
   "outputs": [],
   "source": [
    "df_targets['hour'] = df_targets['event_time'].apply(lambda x:str(datetime.strptime(str(x)[:-4],'%Y-%m-%d %H:%M:%S').hour))"
   ]
  },
  {
   "cell_type": "code",
   "execution_count": 155,
   "metadata": {},
   "outputs": [
    {
     "data": {
      "text/html": [
       "<div>\n",
       "<style scoped>\n",
       "    .dataframe tbody tr th:only-of-type {\n",
       "        vertical-align: middle;\n",
       "    }\n",
       "\n",
       "    .dataframe tbody tr th {\n",
       "        vertical-align: top;\n",
       "    }\n",
       "\n",
       "    .dataframe thead th {\n",
       "        text-align: right;\n",
       "    }\n",
       "</style>\n",
       "<table border=\"1\" class=\"dataframe\">\n",
       "  <thead>\n",
       "    <tr style=\"text-align: right;\">\n",
       "      <th></th>\n",
       "      <th>event_time</th>\n",
       "      <th>event_type</th>\n",
       "      <th>product_id</th>\n",
       "      <th>category_id</th>\n",
       "      <th>category_code</th>\n",
       "      <th>brand</th>\n",
       "      <th>price</th>\n",
       "      <th>user_id</th>\n",
       "      <th>user_session</th>\n",
       "      <th>is_purchased</th>\n",
       "      <th>event_weekday</th>\n",
       "      <th>category_code_level1</th>\n",
       "      <th>category_code_level2</th>\n",
       "      <th>hour</th>\n",
       "      <th>activity_count</th>\n",
       "    </tr>\n",
       "  </thead>\n",
       "  <tbody>\n",
       "    <tr>\n",
       "      <th>0</th>\n",
       "      <td>2019-10-01 02:17:59 UTC</td>\n",
       "      <td>cart</td>\n",
       "      <td>1004833</td>\n",
       "      <td>2053013555631882655</td>\n",
       "      <td>electronics.smartphone</td>\n",
       "      <td>samsung</td>\n",
       "      <td>174.76</td>\n",
       "      <td>536415846</td>\n",
       "      <td>685b5b42-f597-4a69-ab4c-ef96a30bc454</td>\n",
       "      <td>0</td>\n",
       "      <td>1</td>\n",
       "      <td>electronics</td>\n",
       "      <td>smartphone</td>\n",
       "      <td>2</td>\n",
       "      <td>1.0</td>\n",
       "    </tr>\n",
       "    <tr>\n",
       "      <th>1</th>\n",
       "      <td>2019-10-01 02:21:04 UTC</td>\n",
       "      <td>cart</td>\n",
       "      <td>1500021</td>\n",
       "      <td>2053013552955916539</td>\n",
       "      <td>computers.peripherals.printer</td>\n",
       "      <td>epson</td>\n",
       "      <td>116.73</td>\n",
       "      <td>513489079</td>\n",
       "      <td>63de1120-9d48-45d0-b024-500d1b95d71f</td>\n",
       "      <td>0</td>\n",
       "      <td>1</td>\n",
       "      <td>computers</td>\n",
       "      <td>peripherals</td>\n",
       "      <td>2</td>\n",
       "      <td>3.0</td>\n",
       "    </tr>\n",
       "    <tr>\n",
       "      <th>2</th>\n",
       "      <td>2019-10-01 02:25:34 UTC</td>\n",
       "      <td>cart</td>\n",
       "      <td>1005098</td>\n",
       "      <td>2053013555631882655</td>\n",
       "      <td>electronics.smartphone</td>\n",
       "      <td>samsung</td>\n",
       "      <td>154.42</td>\n",
       "      <td>514480286</td>\n",
       "      <td>176b4ba0-aac7-440a-944d-f5b08741bd73</td>\n",
       "      <td>0</td>\n",
       "      <td>1</td>\n",
       "      <td>electronics</td>\n",
       "      <td>smartphone</td>\n",
       "      <td>2</td>\n",
       "      <td>2.0</td>\n",
       "    </tr>\n",
       "    <tr>\n",
       "      <th>3</th>\n",
       "      <td>2019-10-01 02:26:26 UTC</td>\n",
       "      <td>cart</td>\n",
       "      <td>1004767</td>\n",
       "      <td>2053013555631882655</td>\n",
       "      <td>electronics.smartphone</td>\n",
       "      <td>samsung</td>\n",
       "      <td>254.82</td>\n",
       "      <td>523751849</td>\n",
       "      <td>6d302422-8cbc-45c1-9bf6-729b63c93393</td>\n",
       "      <td>0</td>\n",
       "      <td>1</td>\n",
       "      <td>electronics</td>\n",
       "      <td>smartphone</td>\n",
       "      <td>2</td>\n",
       "      <td>1.0</td>\n",
       "    </tr>\n",
       "    <tr>\n",
       "      <th>4</th>\n",
       "      <td>2019-10-01 02:26:30 UTC</td>\n",
       "      <td>cart</td>\n",
       "      <td>1005115</td>\n",
       "      <td>2053013555631882655</td>\n",
       "      <td>electronics.smartphone</td>\n",
       "      <td>apple</td>\n",
       "      <td>975.57</td>\n",
       "      <td>555462153</td>\n",
       "      <td>08a87442-0baa-4b91-a951-ac999ed03cdc</td>\n",
       "      <td>0</td>\n",
       "      <td>1</td>\n",
       "      <td>electronics</td>\n",
       "      <td>smartphone</td>\n",
       "      <td>2</td>\n",
       "      <td>1.0</td>\n",
       "    </tr>\n",
       "  </tbody>\n",
       "</table>\n",
       "</div>"
      ],
      "text/plain": [
       "                event_time event_type  product_id          category_id  \\\n",
       "0  2019-10-01 02:17:59 UTC       cart     1004833  2053013555631882655   \n",
       "1  2019-10-01 02:21:04 UTC       cart     1500021  2053013552955916539   \n",
       "2  2019-10-01 02:25:34 UTC       cart     1005098  2053013555631882655   \n",
       "3  2019-10-01 02:26:26 UTC       cart     1004767  2053013555631882655   \n",
       "4  2019-10-01 02:26:30 UTC       cart     1005115  2053013555631882655   \n",
       "\n",
       "                   category_code    brand   price    user_id  \\\n",
       "0         electronics.smartphone  samsung  174.76  536415846   \n",
       "1  computers.peripherals.printer    epson  116.73  513489079   \n",
       "2         electronics.smartphone  samsung  154.42  514480286   \n",
       "3         electronics.smartphone  samsung  254.82  523751849   \n",
       "4         electronics.smartphone    apple  975.57  555462153   \n",
       "\n",
       "                           user_session  is_purchased event_weekday  \\\n",
       "0  685b5b42-f597-4a69-ab4c-ef96a30bc454             0             1   \n",
       "1  63de1120-9d48-45d0-b024-500d1b95d71f             0             1   \n",
       "2  176b4ba0-aac7-440a-944d-f5b08741bd73             0             1   \n",
       "3  6d302422-8cbc-45c1-9bf6-729b63c93393             0             1   \n",
       "4  08a87442-0baa-4b91-a951-ac999ed03cdc             0             1   \n",
       "\n",
       "  category_code_level1 category_code_level2 hour  activity_count  \n",
       "0          electronics           smartphone    2             1.0  \n",
       "1            computers          peripherals    2             3.0  \n",
       "2          electronics           smartphone    2             2.0  \n",
       "3          electronics           smartphone    2             1.0  \n",
       "4          electronics           smartphone    2             1.0  "
      ]
     },
     "execution_count": 155,
     "metadata": {},
     "output_type": "execute_result"
    }
   ],
   "source": [
    "df_targets = df_targets.merge(activity_in_session, on='user_session', how='left')\n",
    "df_targets['activity_count'] = df_targets['activity_count'].fillna(0)\n",
    "df_targets.head()"
   ]
  },
  {
   "cell_type": "code",
   "execution_count": 160,
   "metadata": {},
   "outputs": [],
   "source": [
    "del users,users_activity,d,top_brands,purchase,cat_code\n",
    "gc.collect()"
   ]
  },
  {
   "cell_type": "code",
   "execution_count": 161,
   "metadata": {},
   "outputs": [],
   "source": [
    "df_targets.to_csv('training_data.csv')"
   ]
  },
  {
   "cell_type": "code",
   "execution_count": 162,
   "metadata": {},
   "outputs": [
    {
     "name": "stdout",
     "output_type": "stream",
     "text": [
      "<class 'pandas.core.frame.DataFrame'>\n",
      "Int64Index: 163656 entries, 0 to 163655\n",
      "Data columns (total 15 columns):\n",
      " #   Column                Non-Null Count   Dtype   \n",
      "---  ------                --------------   -----   \n",
      " 0   event_time            163656 non-null  object  \n",
      " 1   event_type            163656 non-null  object  \n",
      " 2   product_id            163656 non-null  int64   \n",
      " 3   category_id           163656 non-null  int64   \n",
      " 4   category_code         144643 non-null  object  \n",
      " 5   brand                 160391 non-null  object  \n",
      " 6   price                 163656 non-null  float64 \n",
      " 7   user_id               163656 non-null  int64   \n",
      " 8   user_session          163656 non-null  object  \n",
      " 9   is_purchased          163656 non-null  int64   \n",
      " 10  event_weekday         163656 non-null  object  \n",
      " 11  category_code_level1  144643 non-null  category\n",
      " 12  category_code_level2  144643 non-null  category\n",
      " 13  hour                  163656 non-null  object  \n",
      " 14  activity_count        163656 non-null  float64 \n",
      "dtypes: category(2), float64(2), int64(4), object(7)\n",
      "memory usage: 17.8+ MB\n"
     ]
    }
   ],
   "source": [
    "df_targets.info()"
   ]
  },
  {
   "cell_type": "code",
   "execution_count": 163,
   "metadata": {},
   "outputs": [
    {
     "data": {
      "text/plain": [
       "(163656, 15)"
      ]
     },
     "execution_count": 163,
     "metadata": {},
     "output_type": "execute_result"
    }
   ],
   "source": [
    "df_targets.shape"
   ]
  },
  {
   "cell_type": "markdown",
   "metadata": {},
   "source": [
    "## Amount of users purchased(1) and not purchased(0)  "
   ]
  },
  {
   "cell_type": "code",
   "execution_count": 164,
   "metadata": {},
   "outputs": [
    {
     "data": {
      "text/plain": [
       "0    145572\n",
       "1     18084\n",
       "Name: is_purchased, dtype: int64"
      ]
     },
     "execution_count": 164,
     "metadata": {},
     "output_type": "execute_result"
    }
   ],
   "source": [
    "df_targets.is_purchased.value_counts()"
   ]
  },
  {
   "cell_type": "markdown",
   "metadata": {},
   "source": [
    "## Resample for balanced dataset"
   ]
  },
  {
   "cell_type": "code",
   "execution_count": 12,
   "metadata": {},
   "outputs": [],
   "source": [
    "from sklearn.preprocessing import LabelEncoder\n",
    "from sklearn.preprocessing import MinMaxScaler\n",
    "from sklearn.model_selection import train_test_split\n",
    "from xgboost import plot_importance\n",
    "from sklearn.utils import resample\n",
    "from sklearn import metrics"
   ]
  },
  {
   "cell_type": "code",
   "execution_count": 15,
   "metadata": {},
   "outputs": [],
   "source": [
    "df_targets = pd.read_csv('Data/training_data.csv')"
   ]
  },
  {
   "cell_type": "code",
   "execution_count": 16,
   "metadata": {},
   "outputs": [
    {
     "name": "stdout",
     "output_type": "stream",
     "text": [
      "18084\n",
      "145572\n"
     ]
    }
   ],
   "source": [
    "purchased = df_targets[df_targets['is_purchased']==1]\n",
    "print(purchased.shape[0])\n",
    "not_purchased = df_targets[df_targets['is_purchased']==0]\n",
    "print(not_purchased.shape[0])\n"
   ]
  },
  {
   "cell_type": "code",
   "execution_count": 17,
   "metadata": {},
   "outputs": [],
   "source": [
    "n = 18084\n",
    "purchased_downsample = resample(purchased,replace=False,n_samples=n,random_state=45)\n",
    "not_purchased_downsample = resample(not_purchased,replace=False,n_samples=n,random_state=45)"
   ]
  },
  {
   "cell_type": "code",
   "execution_count": 18,
   "metadata": {},
   "outputs": [
    {
     "data": {
      "text/plain": [
       "1    18084\n",
       "0    18084\n",
       "Name: is_purchased, dtype: int64"
      ]
     },
     "execution_count": 18,
     "metadata": {},
     "output_type": "execute_result"
    }
   ],
   "source": [
    "downsampled = pd.concat([purchased_downsample,not_purchased_downsample])\n",
    "downsampled['is_purchased'].value_counts()"
   ]
  },
  {
   "cell_type": "code",
   "execution_count": 19,
   "metadata": {},
   "outputs": [
    {
     "data": {
      "text/plain": [
       "Index(['Unnamed: 0', 'event_time', 'event_type', 'product_id', 'category_id',\n",
       "       'category_code', 'brand', 'price', 'user_id', 'user_session',\n",
       "       'is_purchased', 'event_weekday', 'category_code_level1',\n",
       "       'category_code_level2', 'hour', 'activity_count'],\n",
       "      dtype='object')"
      ]
     },
     "execution_count": 19,
     "metadata": {},
     "output_type": "execute_result"
    }
   ],
   "source": [
    "downsampled.columns"
   ]
  },
  {
   "cell_type": "code",
   "execution_count": 20,
   "metadata": {},
   "outputs": [],
   "source": [
    "features = downsampled.loc[:,['price','brand','event_weekday','category_code_level1','category_code_level2', 'activity_count','hour']]"
   ]
  },
  {
   "cell_type": "code",
   "execution_count": 21,
   "metadata": {},
   "outputs": [],
   "source": [
    "features['category_code_level1'] = features['category_code_level1'].astype('string')\n",
    "features['category_code_level2'] = features['category_code_level2'].astype('string')\n",
    "features['brand'].fillna('NaN',inplace=True)\n",
    "features['category_code_level1'].fillna('NaN',inplace=True)\n",
    "features['category_code_level2'].fillna('NaN',inplace=True)\n",
    "features['brand'] = features['brand'].astype('string')\n",
    "features['hour'] = features['hour'].astype('int')\n",
    "features['event_weekday'] = features['event_weekday'].astype('int')"
   ]
  },
  {
   "cell_type": "markdown",
   "metadata": {},
   "source": [
    "## Categorical encoding "
   ]
  },
  {
   "cell_type": "code",
   "execution_count": 22,
   "metadata": {},
   "outputs": [],
   "source": [
    "brand_lbl = LabelEncoder().fit(features['brand'])\n",
    "features['brand'] = brand_lbl.transform(features['brand'])\n",
    "cat1 = LabelEncoder().fit(features['category_code_level1'])\n",
    "features['category_code_level1'] = cat1.transform(features['category_code_level1'])\n",
    "cat2 = LabelEncoder().fit(features['category_code_level2'])\n",
    "features['category_code_level2'] = cat2.transform(features['category_code_level2'])"
   ]
  },
  {
   "cell_type": "code",
   "execution_count": 23,
   "metadata": {},
   "outputs": [
    {
     "data": {
      "text/plain": [
       "price                   0\n",
       "brand                   0\n",
       "event_weekday           0\n",
       "category_code_level1    0\n",
       "category_code_level2    0\n",
       "activity_count          0\n",
       "hour                    0\n",
       "dtype: int64"
      ]
     },
     "execution_count": 23,
     "metadata": {},
     "output_type": "execute_result"
    }
   ],
   "source": [
    "features.isna().sum()"
   ]
  },
  {
   "cell_type": "code",
   "execution_count": 24,
   "metadata": {},
   "outputs": [
    {
     "data": {
      "text/html": [
       "<div>\n",
       "<style scoped>\n",
       "    .dataframe tbody tr th:only-of-type {\n",
       "        vertical-align: middle;\n",
       "    }\n",
       "\n",
       "    .dataframe tbody tr th {\n",
       "        vertical-align: top;\n",
       "    }\n",
       "\n",
       "    .dataframe thead th {\n",
       "        text-align: right;\n",
       "    }\n",
       "</style>\n",
       "<table border=\"1\" class=\"dataframe\">\n",
       "  <thead>\n",
       "    <tr style=\"text-align: right;\">\n",
       "      <th></th>\n",
       "      <th>price</th>\n",
       "      <th>brand</th>\n",
       "      <th>event_weekday</th>\n",
       "      <th>category_code_level1</th>\n",
       "      <th>category_code_level2</th>\n",
       "      <th>activity_count</th>\n",
       "      <th>hour</th>\n",
       "    </tr>\n",
       "  </thead>\n",
       "  <tbody>\n",
       "    <tr>\n",
       "      <th>104495</th>\n",
       "      <td>283.12</td>\n",
       "      <td>1</td>\n",
       "      <td>6</td>\n",
       "      <td>5</td>\n",
       "      <td>21</td>\n",
       "      <td>3.0</td>\n",
       "      <td>13</td>\n",
       "    </tr>\n",
       "    <tr>\n",
       "      <th>3817</th>\n",
       "      <td>132.87</td>\n",
       "      <td>274</td>\n",
       "      <td>2</td>\n",
       "      <td>7</td>\n",
       "      <td>26</td>\n",
       "      <td>2.0</td>\n",
       "      <td>7</td>\n",
       "    </tr>\n",
       "    <tr>\n",
       "      <th>128352</th>\n",
       "      <td>229.83</td>\n",
       "      <td>331</td>\n",
       "      <td>3</td>\n",
       "      <td>7</td>\n",
       "      <td>26</td>\n",
       "      <td>9.0</td>\n",
       "      <td>8</td>\n",
       "    </tr>\n",
       "    <tr>\n",
       "      <th>100766</th>\n",
       "      <td>136.40</td>\n",
       "      <td>0</td>\n",
       "      <td>6</td>\n",
       "      <td>8</td>\n",
       "      <td>5</td>\n",
       "      <td>14.0</td>\n",
       "      <td>6</td>\n",
       "    </tr>\n",
       "    <tr>\n",
       "      <th>16238</th>\n",
       "      <td>975.57</td>\n",
       "      <td>15</td>\n",
       "      <td>4</td>\n",
       "      <td>7</td>\n",
       "      <td>26</td>\n",
       "      <td>4.0</td>\n",
       "      <td>17</td>\n",
       "    </tr>\n",
       "  </tbody>\n",
       "</table>\n",
       "</div>"
      ],
      "text/plain": [
       "         price  brand  event_weekday  category_code_level1  \\\n",
       "104495  283.12      1              6                     5   \n",
       "3817    132.87    274              2                     7   \n",
       "128352  229.83    331              3                     7   \n",
       "100766  136.40      0              6                     8   \n",
       "16238   975.57     15              4                     7   \n",
       "\n",
       "        category_code_level2  activity_count  hour  \n",
       "104495                    21             3.0    13  \n",
       "3817                      26             2.0     7  \n",
       "128352                    26             9.0     8  \n",
       "100766                     5            14.0     6  \n",
       "16238                     26             4.0    17  "
      ]
     },
     "execution_count": 24,
     "metadata": {},
     "output_type": "execute_result"
    }
   ],
   "source": [
    "purchase_enc = LabelEncoder().fit(downsampled['is_purchased'])\n",
    "is_purchased = purchase_enc.transform(downsampled['is_purchased'])\n",
    "features.head()"
   ]
  },
  {
   "cell_type": "code",
   "execution_count": 221,
   "metadata": {},
   "outputs": [],
   "source": [
    "pickle.dump(brand_lbl,open('brand_enc.pkl','wb'))\n",
    "pickle.dump(cat1,open('cat1_enc.pkl','wb'))\n",
    "pickle.dump(cat2,open('cat2_enc.pkl','wb'))\n",
    "pickle.dump(purchase_enc,open('purchase_enc.pkl','wb'))"
   ]
  },
  {
   "cell_type": "code",
   "execution_count": 28,
   "metadata": {},
   "outputs": [],
   "source": [
    "pickle.dump((features,is_purchased),open('PickledObjects/preprocessed_data.pkl','wb'))"
   ]
  },
  {
   "cell_type": "code",
   "execution_count": 29,
   "metadata": {},
   "outputs": [
    {
     "data": {
      "text/plain": [
       "Index(['price', 'brand', 'event_weekday', 'category_code_level1',\n",
       "       'category_code_level2', 'activity_count', 'hour'],\n",
       "      dtype='object')"
      ]
     },
     "execution_count": 29,
     "metadata": {},
     "output_type": "execute_result"
    }
   ],
   "source": [
    "features.columns"
   ]
  },
  {
   "cell_type": "markdown",
   "metadata": {},
   "source": [
    "## Split data into train and test sets "
   ]
  },
  {
   "cell_type": "code",
   "execution_count": 30,
   "metadata": {},
   "outputs": [],
   "source": [
    "x_train,x_test,y_train,y_test = train_test_split(features,is_purchased,test_size=0.3,random_state=0)"
   ]
  },
  {
   "cell_type": "markdown",
   "metadata": {},
   "source": [
    "## XGBoost Classifier"
   ]
  },
  {
   "cell_type": "code",
   "execution_count": 197,
   "metadata": {},
   "outputs": [],
   "source": [
    "from xgboost import XGBClassifier\n",
    "from sklearn.model_selection import GridSearchCV\n",
    "\n",
    "param = {\n",
    "    'n_estimators':[50,100],\n",
    "    'max_depth':[10,15],\n",
    "    'max_leaf_node':[5,10],\n",
    "    'min_child_weight':[2,3],\n",
    "    'subsample':[0.75],\n",
    "    'reg_alpha ':[1,2,3],\n",
    "    'learning_rate':[0.2,0.1]\n",
    "}\n",
    "\n",
    "model = XGBClassifier(n_jobs=-1,verbosity=1,eval_metric='auc')"
   ]
  },
  {
   "cell_type": "code",
   "execution_count": null,
   "metadata": {},
   "outputs": [],
   "source": [
    "clf = GridSearchCV(estimator=model,param_grid=param,n_jobs=-1,cv=5,verbose=1,return_train_score=True)\n",
    "clf.fit(x_train,y_train)"
   ]
  },
  {
   "cell_type": "code",
   "execution_count": null,
   "metadata": {},
   "outputs": [],
   "source": [
    "clf.best_score_,clf.best_params_"
   ]
  },
  {
   "cell_type": "code",
   "execution_count": 86,
   "metadata": {
    "collapsed": true,
    "jupyter": {
     "outputs_hidden": true
    }
   },
   "outputs": [
    {
     "data": {
      "text/plain": [
       "XGBClassifier(base_score=0.5, booster=None, colsample_bylevel=1,\n",
       "              colsample_bynode=1, colsample_bytree=1, gamma=0, gpu_id=-1,\n",
       "              importance_type='gain', interaction_constraints=None,\n",
       "              learning_rate=0.01, max_delta_step=0, max_depth=8,\n",
       "              max_leaf_node=3, min_child_weight=2, missing=nan,\n",
       "              monotone_constraints=None, n_estimators=50, n_jobs=0,\n",
       "              num_parallel_tree=1, objective='binary:logistic', random_state=0,\n",
       "              reg_alpha=0.93, reg_lambda=1, scale_pos_weight=1, subsample=0.75,\n",
       "              tree_method=None, validate_parameters=False, verbosity=None)"
      ]
     },
     "execution_count": 86,
     "metadata": {},
     "output_type": "execute_result"
    }
   ],
   "source": [
    "model = XGBClassifier(learning_rate=0.01,max_depth=8,max_leaf_node=3,min_child_weight=2,n_estimators=50,reg_alpha=0.93,subsample=0.75)\n",
    "model.fit(x_train,y_train)"
   ]
  },
  {
   "cell_type": "code",
   "execution_count": 88,
   "metadata": {},
   "outputs": [
    {
     "name": "stdout",
     "output_type": "stream",
     "text": [
      "Accuracy: 0.6669092894186153\n",
      "Precision: 0.6172644856129287\n",
      "Recall: 0.8626514873301506\n",
      "f1 score: 0.7196140001531746\n"
     ]
    }
   ],
   "source": [
    "y_pred = model.predict(x_test)\n",
    "print(\"Accuracy:\",metrics.accuracy_score(y_test, y_pred))\n",
    "print(\"Precision:\",metrics.precision_score(y_test, y_pred))\n",
    "print(\"Recall:\",metrics.recall_score(y_test, y_pred))\n",
    "print(\"f1 score:\",metrics.f1_score(y_test, y_pred))"
   ]
  },
  {
   "cell_type": "code",
   "execution_count": 267,
   "metadata": {},
   "outputs": [
    {
     "data": {
      "image/png": "[encoded data removed]",
      "text/plain": [
       "<Figure size 2880x720 with 1 Axes>"
      ]
     },
     "metadata": {
      "needs_background": "light"
     },
     "output_type": "display_data"
    }
   ],
   "source": [
    "plot_importance(model, max_num_features=10, importance_type ='gain',height=0.5)\n",
    "plt.rcParams['figure.figsize'] = (40, 10) \n",
    "plt.rcParams['font.size'] = 25\n",
    "plt.show()"
   ]
  },
  {
   "cell_type": "markdown",
   "metadata": {},
   "source": [
    "## XGBoost classifier on Normalize data"
   ]
  },
  {
   "cell_type": "code",
   "execution_count": 225,
   "metadata": {},
   "outputs": [],
   "source": [
    "scaler = MinMaxScaler()\n",
    "x_train_sc = scaler.fit_transform(x_train)\n",
    "x_test_sc = scaler.transform(x_test)"
   ]
  },
  {
   "cell_type": "code",
   "execution_count": 227,
   "metadata": {},
   "outputs": [],
   "source": [
    "pickle.dump(scaler,open('scaler.pkl','wb'))"
   ]
  },
  {
   "cell_type": "code",
   "execution_count": 235,
   "metadata": {},
   "outputs": [],
   "source": [
    "from xgboost import XGBClassifier\n",
    "from sklearn.model_selection import GridSearchCV\n",
    "\n",
    "param = {\n",
    "    'n_estimators':[25,50],\n",
    "    'max_depth':[5,8,10],\n",
    "    'max_leaf_node':[2,3],\n",
    "    'min_child_weight':[1.3,2],\n",
    "    'subsample':[0.75,0.56],\n",
    "    'reg_alpha ':[0.95,1],\n",
    "    'learning_rate':[0.01,0.02]\n",
    "}\n",
    "\n",
    "model = XGBClassifier(n_jobs=-1,verbosity=1,eval_metric='auc')"
   ]
  },
  {
   "cell_type": "code",
   "execution_count": 236,
   "metadata": {},
   "outputs": [
    {
     "name": "stdout",
     "output_type": "stream",
     "text": [
      "Fitting 5 folds for each of 192 candidates, totalling 960 fits\n"
     ]
    },
    {
     "name": "stderr",
     "output_type": "stream",
     "text": [
      "[Parallel(n_jobs=-1)]: Using backend LokyBackend with 8 concurrent workers.\n",
      "[Parallel(n_jobs=-1)]: Done  34 tasks      | elapsed:    9.3s\n",
      "[Parallel(n_jobs=-1)]: Done 184 tasks      | elapsed:   31.8s\n",
      "[Parallel(n_jobs=-1)]: Done 434 tasks      | elapsed:  1.7min\n",
      "[Parallel(n_jobs=-1)]: Done 784 tasks      | elapsed:  3.0min\n",
      "[Parallel(n_jobs=-1)]: Done 960 out of 960 | elapsed:  3.9min finished\n"
     ]
    },
    {
     "data": {
      "text/plain": [
       "GridSearchCV(cv=5, error_score=nan,\n",
       "             estimator=XGBClassifier(base_score=None, booster=None,\n",
       "                                     colsample_bylevel=None,\n",
       "                                     colsample_bynode=None,\n",
       "                                     colsample_bytree=None, eval_metric='auc',\n",
       "                                     gamma=None, gpu_id=None,\n",
       "                                     importance_type='gain',\n",
       "                                     interaction_constraints=None,\n",
       "                                     learning_rate=None, max_delta_step=None,\n",
       "                                     max_depth=None, min_child_weight=None,\n",
       "                                     missing=nan, monotone_constr...\n",
       "                                     subsample=None, tree_method=None,\n",
       "                                     validate_parameters=False, verbosity=1),\n",
       "             iid='deprecated', n_jobs=-1,\n",
       "             param_grid={'learning_rate': [0.01, 0.02], 'max_depth': [5, 8, 10],\n",
       "                         'max_leaf_node': [2, 3], 'min_child_weight': [1.3, 2],\n",
       "                         'n_estimators': [25, 50], 'reg_alpha ': [0.95, 1],\n",
       "                         'subsample': [0.75, 0.56]},\n",
       "             pre_dispatch='2*n_jobs', refit=True, return_train_score=True,\n",
       "             scoring=None, verbose=1)"
      ]
     },
     "execution_count": 236,
     "metadata": {},
     "output_type": "execute_result"
    }
   ],
   "source": [
    "clf = GridSearchCV(estimator=model,param_grid=param,n_jobs=-1,cv=5,verbose=1,return_train_score=True)\n",
    "clf.fit(x_train_sc,y_train)"
   ]
  },
  {
   "cell_type": "code",
   "execution_count": 237,
   "metadata": {},
   "outputs": [
    {
     "data": {
      "text/plain": [
       "(0.6712089910414715,\n",
       " {'learning_rate': 0.02,\n",
       "  'max_depth': 5,\n",
       "  'max_leaf_node': 2,\n",
       "  'min_child_weight': 2,\n",
       "  'n_estimators': 50,\n",
       "  'reg_alpha ': 0.95,\n",
       "  'subsample': 0.75})"
      ]
     },
     "execution_count": 237,
     "metadata": {},
     "output_type": "execute_result"
    }
   ],
   "source": [
    "clf.best_score_,clf.best_params_"
   ]
  },
  {
   "cell_type": "code",
   "execution_count": 238,
   "metadata": {
    "collapsed": true,
    "jupyter": {
     "outputs_hidden": true
    }
   },
   "outputs": [
    {
     "data": {
      "text/plain": [
       "XGBClassifier(base_score=0.5, booster=None, colsample_bylevel=1,\n",
       "              colsample_bynode=1, colsample_bytree=1, gamma=0, gpu_id=-1,\n",
       "              importance_type='gain', interaction_constraints=None,\n",
       "              learning_rate=0.02, max_delta_step=0, max_depth=5,\n",
       "              max_leaf_node=2, min_child_weight=2, missing=nan,\n",
       "              monotone_constraints=None, n_estimators=50, n_jobs=0,\n",
       "              num_parallel_tree=1, objective='binary:logistic', random_state=0,\n",
       "              reg_alpha=0.95, reg_lambda=1, scale_pos_weight=1, subsample=0.75,\n",
       "              tree_method=None, validate_parameters=False, verbosity=None)"
      ]
     },
     "execution_count": 238,
     "metadata": {},
     "output_type": "execute_result"
    }
   ],
   "source": [
    "model = XGBClassifier(learning_rate=0.02,max_depth=5,max_leaf_node=2,min_child_weight=2,n_estimators=50,reg_alpha=0.95,subsample=0.75)\n",
    "model.fit(x_train_sc,y_train)"
   ]
  },
  {
   "cell_type": "code",
   "execution_count": 239,
   "metadata": {},
   "outputs": [
    {
     "name": "stdout",
     "output_type": "stream",
     "text": [
      "Accuracy: 0.6695235462169385\n",
      "Precision: 0.6197295147175815\n",
      "Recall: 0.8668397626112759\n",
      "f1 score: 0.722746250193289\n"
     ]
    }
   ],
   "source": [
    "y_pred = model.predict(x_test_sc)\n",
    "print(\"Accuracy:\",metrics.accuracy_score(y_test, y_pred))\n",
    "print(\"Precision:\",metrics.precision_score(y_test, y_pred))\n",
    "print(\"Recall:\",metrics.recall_score(y_test, y_pred))\n",
    "print(\"f1 score:\",metrics.f1_score(y_test, y_pred))"
   ]
  },
  {
   "cell_type": "code",
   "execution_count": 240,
   "metadata": {},
   "outputs": [],
   "source": [
    "pickle.dump(model,open('model.pkl','wb'))"
   ]
  },
  {
   "cell_type": "code",
   "execution_count": 254,
   "metadata": {
    "collapsed": true,
    "jupyter": {
     "outputs_hidden": true
    }
   },
   "outputs": [
    {
     "data": {
      "text/plain": [
       "(array([[0.52906036, 0.4709396 ]], dtype=float32), 0)"
      ]
     },
     "execution_count": 254,
     "metadata": {},
     "output_type": "execute_result"
    }
   ],
   "source": [
    "model.predict_proba(x_test_sc[2].reshape(1,7)),y_test[2]"
   ]
  },
  {
   "cell_type": "markdown",
   "metadata": {},
   "source": [
    "## SGD Classifier"
   ]
  },
  {
   "cell_type": "code",
   "execution_count": 275,
   "metadata": {},
   "outputs": [
    {
     "name": "stdout",
     "output_type": "stream",
     "text": [
      "Fitting 3 folds for each of 12960 candidates, totalling 38880 fits\n"
     ]
    },
    {
     "name": "stderr",
     "output_type": "stream",
     "text": [
      "[Parallel(n_jobs=-1)]: Using backend LokyBackend with 8 concurrent workers.\n",
      "[Parallel(n_jobs=-1)]: Done  34 tasks      | elapsed:    1.5s\n",
      "[Parallel(n_jobs=-1)]: Done 404 tasks      | elapsed:    9.0s\n",
      "[Parallel(n_jobs=-1)]: Done 842 tasks      | elapsed:   18.2s\n",
      "[Parallel(n_jobs=-1)]: Done 1806 tasks      | elapsed:   40.1s\n",
      "[Parallel(n_jobs=-1)]: Done 2604 tasks      | elapsed:   59.6s\n",
      "[Parallel(n_jobs=-1)]: Done 3816 tasks      | elapsed:  1.4min\n",
      "[Parallel(n_jobs=-1)]: Done 5172 tasks      | elapsed:  1.9min\n",
      "[Parallel(n_jobs=-1)]: Done 6908 tasks      | elapsed:  2.5min\n",
      "[Parallel(n_jobs=-1)]: Done 8672 tasks      | elapsed:  3.1min\n",
      "[Parallel(n_jobs=-1)]: Done 10808 tasks      | elapsed:  4.0min\n",
      "[Parallel(n_jobs=-1)]: Done 13322 tasks      | elapsed:  4.9min\n",
      "[Parallel(n_jobs=-1)]: Done 16224 tasks      | elapsed:  5.7min\n",
      "[Parallel(n_jobs=-1)]: Done 19580 tasks      | elapsed:  6.7min\n",
      "[Parallel(n_jobs=-1)]: Done 23912 tasks      | elapsed:  8.0min\n",
      "[Parallel(n_jobs=-1)]: Done 28576 tasks      | elapsed:  9.1min\n",
      "[Parallel(n_jobs=-1)]: Done 34776 tasks      | elapsed: 10.5min\n",
      "[Parallel(n_jobs=-1)]: Done 38865 out of 38880 | elapsed: 11.4min remaining:    0.3s\n",
      "[Parallel(n_jobs=-1)]: Done 38880 out of 38880 | elapsed: 11.4min finished\n"
     ]
    },
    {
     "name": "stdout",
     "output_type": "stream",
     "text": [
      "-- Epoch 1\n",
      "Norm: 30.11, NNZs: 3, Bias: -0.523656, T: 25317, Avg. loss: 0.712257\n",
      "Total training time: 0.00 seconds.\n",
      "-- Epoch 2\n",
      "Norm: 30.38, NNZs: 3, Bias: -0.339394, T: 50634, Avg. loss: 0.676030\n",
      "Total training time: 0.01 seconds.\n",
      "-- Epoch 3\n",
      "Norm: 30.51, NNZs: 3, Bias: -0.371182, T: 75951, Avg. loss: 0.674991\n",
      "Total training time: 0.01 seconds.\n",
      "-- Epoch 4\n",
      "Norm: 30.59, NNZs: 3, Bias: -0.423653, T: 101268, Avg. loss: 0.674488\n",
      "Total training time: 0.02 seconds.\n",
      "-- Epoch 5\n",
      "Norm: 30.65, NNZs: 3, Bias: -0.348218, T: 126585, Avg. loss: 0.674159\n",
      "Total training time: 0.02 seconds.\n",
      "-- Epoch 6\n",
      "Norm: 30.70, NNZs: 3, Bias: -0.402008, T: 151902, Avg. loss: 0.674115\n",
      "Total training time: 0.02 seconds.\n",
      "-- Epoch 7\n",
      "Norm: 30.74, NNZs: 3, Bias: -0.336594, T: 177219, Avg. loss: 0.673887\n",
      "Total training time: 0.03 seconds.\n",
      "-- Epoch 8\n",
      "Norm: 30.77, NNZs: 3, Bias: -0.338771, T: 202536, Avg. loss: 0.673723\n",
      "Total training time: 0.03 seconds.\n",
      "Convergence after 8 epochs took 0.03 seconds\n"
     ]
    },
    {
     "data": {
      "text/plain": [
       "GridSearchCV(cv=3, error_score=nan,\n",
       "             estimator=SGDClassifier(alpha=0.0001, average=False,\n",
       "                                     class_weight=None, early_stopping=False,\n",
       "                                     epsilon=0.1, eta0=0.0, fit_intercept=True,\n",
       "                                     l1_ratio=0.15, learning_rate='optimal',\n",
       "                                     loss='hinge', max_iter=1000,\n",
       "                                     n_iter_no_change=5, n_jobs=None,\n",
       "                                     penalty='l2', power_t=0.5,\n",
       "                                     random_state=None, shuffle=True, tol=0.001,\n",
       "                                     validation_fraction=0.1,...\n",
       "                         'learning_rate': ['constant', 'optimal', 'invscaling',\n",
       "                                           'adaptive'],\n",
       "                         'loss': ['hinge', 'log', 'modified_huber',\n",
       "                                  'squared_hinge', 'perceptron'],\n",
       "                         'n_jobs': [-1], 'penalty': ['l2', 'l1', 'elasticnet'],\n",
       "                         'random_state': [45], 'shuffle': [True, False],\n",
       "                         'validation_fraction': [0.2, 0.3], 'verbose': [2]},\n",
       "             pre_dispatch='2*n_jobs', refit=True, return_train_score=True,\n",
       "             scoring=None, verbose=1)"
      ]
     },
     "execution_count": 275,
     "metadata": {},
     "output_type": "execute_result"
    }
   ],
   "source": [
    "from sklearn.linear_model import SGDClassifier\n",
    "param ={'loss':['hinge', 'log', 'modified_huber', 'squared_hinge', 'perceptron'],\n",
    "       'alpha':[0.001,0.00001,0.0001],\n",
    "       'fit_intercept':[True,False],\n",
    "        'class_weight':['balanced'],\n",
    "        'validation_fraction':[0.2,0.3],\n",
    "        'eta0':[0.01,0.02,0.001],\n",
    "        'learning_rate':['constant','optimal','invscaling','adaptive'],\n",
    "        'random_state': [45],\n",
    "        'n_jobs':[-1],\n",
    "        'epsilon':[0.1,0.5,0.01],\n",
    "        'verbose':[2],\n",
    "        'shuffle':[True,False],\n",
    "        'penalty':['l2', 'l1', 'elasticnet']\n",
    "       }\n",
    "\n",
    "model = SGDClassifier()\n",
    "clf = GridSearchCV(estimator=model,param_grid=param,n_jobs=-1,cv=3,verbose=1,return_train_score=True)\n",
    "clf.fit(x_train_sc,y_train)"
   ]
  },
  {
   "cell_type": "code",
   "execution_count": 276,
   "metadata": {},
   "outputs": [
    {
     "data": {
      "text/plain": [
       "(0.6421771931903464,\n",
       " {'alpha': 0.001,\n",
       "  'class_weight': 'balanced',\n",
       "  'epsilon': 0.1,\n",
       "  'eta0': 0.01,\n",
       "  'fit_intercept': True,\n",
       "  'learning_rate': 'optimal',\n",
       "  'loss': 'log',\n",
       "  'n_jobs': -1,\n",
       "  'penalty': 'l1',\n",
       "  'random_state': 45,\n",
       "  'shuffle': True,\n",
       "  'validation_fraction': 0.2,\n",
       "  'verbose': 2})"
      ]
     },
     "execution_count": 276,
     "metadata": {},
     "output_type": "execute_result"
    }
   ],
   "source": [
    "clf.best_score_,clf.best_params_"
   ]
  },
  {
   "cell_type": "code",
   "execution_count": 337,
   "metadata": {},
   "outputs": [
    {
     "name": "stdout",
     "output_type": "stream",
     "text": [
      "-- Epoch 1\n",
      "Norm: 30.11, NNZs: 3, Bias: -0.523656, T: 25317, Avg. loss: 0.712257\n",
      "Total training time: 0.01 seconds.\n",
      "-- Epoch 2\n",
      "Norm: 30.38, NNZs: 3, Bias: -0.339394, T: 50634, Avg. loss: 0.676030\n",
      "Total training time: 0.02 seconds.\n",
      "-- Epoch 3\n",
      "Norm: 30.51, NNZs: 3, Bias: -0.371182, T: 75951, Avg. loss: 0.674991\n",
      "Total training time: 0.03 seconds.\n",
      "-- Epoch 4\n",
      "Norm: 30.59, NNZs: 3, Bias: -0.423653, T: 101268, Avg. loss: 0.674488\n",
      "Total training time: 0.04 seconds.\n",
      "-- Epoch 5\n",
      "Norm: 30.65, NNZs: 3, Bias: -0.348218, T: 126585, Avg. loss: 0.674159\n",
      "Total training time: 0.05 seconds.\n",
      "-- Epoch 6\n",
      "Norm: 30.70, NNZs: 3, Bias: -0.402008, T: 151902, Avg. loss: 0.674115\n",
      "Total training time: 0.06 seconds.\n",
      "-- Epoch 7\n",
      "Norm: 30.74, NNZs: 3, Bias: -0.336594, T: 177219, Avg. loss: 0.673887\n",
      "Total training time: 0.07 seconds.\n",
      "-- Epoch 8\n",
      "Norm: 30.77, NNZs: 3, Bias: -0.338771, T: 202536, Avg. loss: 0.673723\n",
      "Total training time: 0.08 seconds.\n",
      "Convergence after 8 epochs took 0.08 seconds\n"
     ]
    },
    {
     "data": {
      "text/plain": [
       "SGDClassifier(alpha=0.001, average=False, class_weight='balanced',\n",
       "              early_stopping=False, epsilon=0.1, eta0=0.01, fit_intercept=True,\n",
       "              l1_ratio=0.15, learning_rate='optimal', loss='log', max_iter=1000,\n",
       "              n_iter_no_change=5, n_jobs=-1, penalty='l1', power_t=0.5,\n",
       "              random_state=45, shuffle=True, tol=0.001, validation_fraction=0.2,\n",
       "              verbose=2, warm_start=False)"
      ]
     },
     "execution_count": 337,
     "metadata": {},
     "output_type": "execute_result"
    }
   ],
   "source": [
    "model = SGDClassifier(alpha=0.001,class_weight='balanced',epsilon=0.1,eta0=0.01,fit_intercept=True,learning_rate='optimal',loss='log',\\\n",
    "                     n_jobs=-1,penalty='l1',random_state=45,shuffle=True,validation_fraction=0.2,max_iter=1000,verbose=2)\n",
    "model.fit(x_train_sc,y_train)"
   ]
  },
  {
   "cell_type": "code",
   "execution_count": 338,
   "metadata": {},
   "outputs": [
    {
     "name": "stdout",
     "output_type": "stream",
     "text": [
      "Accuracy: 0.6307252787761497\n",
      "Precision: 0.6460046384145056\n",
      "Recall: 0.5682492581602374\n",
      "f1 score: 0.6046373951652688\n"
     ]
    }
   ],
   "source": [
    "y_pred = model.predict(x_test_sc)\n",
    "print(\"Accuracy:\",metrics.accuracy_score(y_test, y_pred))\n",
    "print(\"Precision:\",metrics.precision_score(y_test, y_pred))\n",
    "print(\"Recall:\",metrics.recall_score(y_test, y_pred))\n",
    "print(\"f1 score:\",metrics.f1_score(y_test, y_pred))"
   ]
  },
  {
   "cell_type": "markdown",
   "metadata": {},
   "source": [
    "## Add new features using FeatureTools "
   ]
  },
  {
   "cell_type": "code",
   "execution_count": 171,
   "metadata": {},
   "outputs": [],
   "source": [
    "import featuretools as ft"
   ]
  },
  {
   "cell_type": "code",
   "execution_count": 172,
   "metadata": {},
   "outputs": [
    {
     "name": "stdout",
     "output_type": "stream",
     "text": [
      "18084\n",
      "145572\n"
     ]
    }
   ],
   "source": [
    "purchased = df_targets[df_targets['is_purchased']==1]\n",
    "print(purchased.shape[0])\n",
    "not_purchased = df_targets[df_targets['is_purchased']==0]\n",
    "print(not_purchased.shape[0])\n"
   ]
  },
  {
   "cell_type": "code",
   "execution_count": 173,
   "metadata": {},
   "outputs": [],
   "source": [
    "n = 18084\n",
    "purchased_downsample = resample(purchased,replace=False,n_samples=n,random_state=45)\n",
    "not_purchased_downsample = resample(not_purchased,replace=False,n_samples=n,random_state=45)"
   ]
  },
  {
   "cell_type": "code",
   "execution_count": 176,
   "metadata": {},
   "outputs": [
    {
     "data": {
      "text/plain": [
       "1    18084\n",
       "0    18084\n",
       "Name: is_purchased, dtype: int64"
      ]
     },
     "execution_count": 176,
     "metadata": {},
     "output_type": "execute_result"
    }
   ],
   "source": [
    "downsampled = pd.concat([purchased_downsample,not_purchased_downsample])\n",
    "downsampled['is_purchased'].value_counts()"
   ]
  },
  {
   "cell_type": "code",
   "execution_count": 177,
   "metadata": {},
   "outputs": [
    {
     "data": {
      "text/html": [
       "<div>\n",
       "<style scoped>\n",
       "    .dataframe tbody tr th:only-of-type {\n",
       "        vertical-align: middle;\n",
       "    }\n",
       "\n",
       "    .dataframe tbody tr th {\n",
       "        vertical-align: top;\n",
       "    }\n",
       "\n",
       "    .dataframe thead th {\n",
       "        text-align: right;\n",
       "    }\n",
       "</style>\n",
       "<table border=\"1\" class=\"dataframe\">\n",
       "  <thead>\n",
       "    <tr style=\"text-align: right;\">\n",
       "      <th></th>\n",
       "      <th>Unnamed: 0</th>\n",
       "      <th>event_time</th>\n",
       "      <th>brand</th>\n",
       "      <th>price</th>\n",
       "      <th>category_code_level1</th>\n",
       "      <th>category_code_level2</th>\n",
       "      <th>hour</th>\n",
       "      <th>activity_count</th>\n",
       "    </tr>\n",
       "  </thead>\n",
       "  <tbody>\n",
       "    <tr>\n",
       "      <th>104495</th>\n",
       "      <td>104495</td>\n",
       "      <td>2019-10-20 13:59:23</td>\n",
       "      <td>acer</td>\n",
       "      <td>283.12</td>\n",
       "      <td>computers</td>\n",
       "      <td>notebook</td>\n",
       "      <td>13</td>\n",
       "      <td>3.0</td>\n",
       "    </tr>\n",
       "    <tr>\n",
       "      <th>3817</th>\n",
       "      <td>3817</td>\n",
       "      <td>2019-10-02 07:56:38</td>\n",
       "      <td>samsung</td>\n",
       "      <td>132.87</td>\n",
       "      <td>electronics</td>\n",
       "      <td>smartphone</td>\n",
       "      <td>7</td>\n",
       "      <td>2.0</td>\n",
       "    </tr>\n",
       "    <tr>\n",
       "      <th>128352</th>\n",
       "      <td>128352</td>\n",
       "      <td>2019-10-24 08:04:00</td>\n",
       "      <td>xiaomi</td>\n",
       "      <td>229.83</td>\n",
       "      <td>electronics</td>\n",
       "      <td>smartphone</td>\n",
       "      <td>8</td>\n",
       "      <td>9.0</td>\n",
       "    </tr>\n",
       "    <tr>\n",
       "      <th>100766</th>\n",
       "      <td>100766</td>\n",
       "      <td>2019-10-20 06:01:40</td>\n",
       "      <td>NaN</td>\n",
       "      <td>136.40</td>\n",
       "      <td>furniture</td>\n",
       "      <td>bedroom</td>\n",
       "      <td>6</td>\n",
       "      <td>14.0</td>\n",
       "    </tr>\n",
       "    <tr>\n",
       "      <th>16238</th>\n",
       "      <td>16238</td>\n",
       "      <td>2019-10-04 17:45:56</td>\n",
       "      <td>apple</td>\n",
       "      <td>975.57</td>\n",
       "      <td>electronics</td>\n",
       "      <td>smartphone</td>\n",
       "      <td>17</td>\n",
       "      <td>4.0</td>\n",
       "    </tr>\n",
       "  </tbody>\n",
       "</table>\n",
       "</div>"
      ],
      "text/plain": [
       "        Unnamed: 0          event_time    brand   price category_code_level1  \\\n",
       "104495      104495 2019-10-20 13:59:23     acer  283.12            computers   \n",
       "3817          3817 2019-10-02 07:56:38  samsung  132.87          electronics   \n",
       "128352      128352 2019-10-24 08:04:00   xiaomi  229.83          electronics   \n",
       "100766      100766 2019-10-20 06:01:40      NaN  136.40            furniture   \n",
       "16238        16238 2019-10-04 17:45:56    apple  975.57          electronics   \n",
       "\n",
       "       category_code_level2  hour  activity_count  \n",
       "104495             notebook    13             3.0  \n",
       "3817             smartphone     7             2.0  \n",
       "128352           smartphone     8             9.0  \n",
       "100766              bedroom     6            14.0  \n",
       "16238            smartphone    17             4.0  "
      ]
     },
     "execution_count": 177,
     "metadata": {},
     "output_type": "execute_result"
    }
   ],
   "source": [
    "feat = downsampled[['Unnamed: 0', 'event_time','brand', 'price', 'category_code_level1',\n",
    "                       'category_code_level2', 'hour', 'activity_count']]\n",
    "feat.head()"
   ]
  },
  {
   "cell_type": "code",
   "execution_count": 179,
   "metadata": {},
   "outputs": [],
   "source": [
    "feat['category_code_level1'] = feat['category_code_level1'].astype('string')\n",
    "feat['category_code_level2'] = feat['category_code_level2'].astype('string')\n",
    "feat['brand'].fillna('NaN',inplace=True)\n",
    "feat['category_code_level1'].fillna('NaN',inplace=True)\n",
    "feat['category_code_level2'].fillna('NaN',inplace=True)\n",
    "feat['brand'] = feat['brand'].astype('string')\n",
    "feat['hour'] = feat['hour'].astype('int')\n",
    "# feat['event_weekday'] = feat['event_weekday'].astype('int')"
   ]
  },
  {
   "cell_type": "code",
   "execution_count": 182,
   "metadata": {},
   "outputs": [],
   "source": [
    "brand_lbl = LabelEncoder().fit(feat['brand'])\n",
    "feat['brand'] = brand_lbl.transform(feat['brand'])\n",
    "cat1 = LabelEncoder().fit(feat['category_code_level1'])\n",
    "feat['category_code_level1'] = cat1.transform(feat['category_code_level1'])\n",
    "cat2 = LabelEncoder().fit(feat['category_code_level2'])\n",
    "feat['category_code_level2'] = cat2.transform(feat['category_code_level2'])"
   ]
  },
  {
   "cell_type": "code",
   "execution_count": 183,
   "metadata": {},
   "outputs": [],
   "source": [
    "x_train,x_test,y_train,y_test = train_test_split(feat,downsampled['is_purchased'],test_size=0.3,random_state=0)"
   ]
  },
  {
   "cell_type": "code",
   "execution_count": 185,
   "metadata": {},
   "outputs": [
    {
     "data": {
      "text/plain": [
       "Entityset: test\n",
       "  Entities:\n",
       "    x_test [Rows: 10851, Columns: 8]\n",
       "  Relationships:\n",
       "    No relationships"
      ]
     },
     "execution_count": 185,
     "metadata": {},
     "output_type": "execute_result"
    }
   ],
   "source": [
    "es = ft.EntitySet(id='train')\n",
    "es.entity_from_dataframe(entity_id = 'x_train',dataframe = x_train,index='Unnamed: 0',time_index='event_time')\n",
    "\n",
    "es_test = ft.EntitySet(id='test')\n",
    "es_test.entity_from_dataframe(entity_id = 'x_test',dataframe = x_test,index='Unnamed: 0',time_index='event_time')"
   ]
  },
  {
   "cell_type": "code",
   "execution_count": 186,
   "metadata": {},
   "outputs": [
    {
     "data": {
      "text/plain": [
       "(Entity: x_train\n",
       "   Variables:\n",
       "     Unnamed: 0 (dtype: index)\n",
       "     event_time (dtype: datetime_time_index)\n",
       "     brand (dtype: numeric)\n",
       "     price (dtype: numeric)\n",
       "     category_code_level1 (dtype: numeric)\n",
       "     category_code_level2 (dtype: numeric)\n",
       "     hour (dtype: numeric)\n",
       "     activity_count (dtype: numeric)\n",
       "   Shape:\n",
       "     (Rows: 25317, Columns: 8),\n",
       " Entity: x_test\n",
       "   Variables:\n",
       "     Unnamed: 0 (dtype: index)\n",
       "     event_time (dtype: datetime_time_index)\n",
       "     brand (dtype: numeric)\n",
       "     price (dtype: numeric)\n",
       "     category_code_level1 (dtype: numeric)\n",
       "     category_code_level2 (dtype: numeric)\n",
       "     hour (dtype: numeric)\n",
       "     activity_count (dtype: numeric)\n",
       "   Shape:\n",
       "     (Rows: 10851, Columns: 8))"
      ]
     },
     "execution_count": 186,
     "metadata": {},
     "output_type": "execute_result"
    }
   ],
   "source": [
    "es['x_train'],es_test['x_test']"
   ]
  },
  {
   "cell_type": "code",
   "execution_count": 153,
   "metadata": {},
   "outputs": [
    {
     "data": {
      "text/html": [
       "<div>\n",
       "<style scoped>\n",
       "    .dataframe tbody tr th:only-of-type {\n",
       "        vertical-align: middle;\n",
       "    }\n",
       "\n",
       "    .dataframe tbody tr th {\n",
       "        vertical-align: top;\n",
       "    }\n",
       "\n",
       "    .dataframe thead th {\n",
       "        text-align: right;\n",
       "    }\n",
       "</style>\n",
       "<table border=\"1\" class=\"dataframe\">\n",
       "  <thead>\n",
       "    <tr style=\"text-align: right;\">\n",
       "      <th></th>\n",
       "      <th>name</th>\n",
       "      <th>type</th>\n",
       "      <th>description</th>\n",
       "    </tr>\n",
       "  </thead>\n",
       "  <tbody>\n",
       "    <tr>\n",
       "      <th>0</th>\n",
       "      <td>min</td>\n",
       "      <td>aggregation</td>\n",
       "      <td>Calculates the smallest value, ignoring `NaN` ...</td>\n",
       "    </tr>\n",
       "    <tr>\n",
       "      <th>1</th>\n",
       "      <td>first</td>\n",
       "      <td>aggregation</td>\n",
       "      <td>Determines the first value in a list.</td>\n",
       "    </tr>\n",
       "    <tr>\n",
       "      <th>2</th>\n",
       "      <td>mean</td>\n",
       "      <td>aggregation</td>\n",
       "      <td>Computes the average for a list of values.</td>\n",
       "    </tr>\n",
       "    <tr>\n",
       "      <th>3</th>\n",
       "      <td>skew</td>\n",
       "      <td>aggregation</td>\n",
       "      <td>Computes the extent to which a distribution di...</td>\n",
       "    </tr>\n",
       "    <tr>\n",
       "      <th>4</th>\n",
       "      <td>count</td>\n",
       "      <td>aggregation</td>\n",
       "      <td>Determines the total number of values, excludi...</td>\n",
       "    </tr>\n",
       "    <tr>\n",
       "      <th>...</th>\n",
       "      <td>...</td>\n",
       "      <td>...</td>\n",
       "      <td>...</td>\n",
       "    </tr>\n",
       "    <tr>\n",
       "      <th>73</th>\n",
       "      <td>month</td>\n",
       "      <td>transform</td>\n",
       "      <td>Determines the month value of a datetime.</td>\n",
       "    </tr>\n",
       "    <tr>\n",
       "      <th>74</th>\n",
       "      <td>weekday</td>\n",
       "      <td>transform</td>\n",
       "      <td>Determines the day of the week from a datetime.</td>\n",
       "    </tr>\n",
       "    <tr>\n",
       "      <th>75</th>\n",
       "      <td>divide_numeric_scalar</td>\n",
       "      <td>transform</td>\n",
       "      <td>Divide each element in the list by a scalar.</td>\n",
       "    </tr>\n",
       "    <tr>\n",
       "      <th>76</th>\n",
       "      <td>divide_by_feature</td>\n",
       "      <td>transform</td>\n",
       "      <td>Divide a scalar by each value in the list.</td>\n",
       "    </tr>\n",
       "    <tr>\n",
       "      <th>77</th>\n",
       "      <td>less_than</td>\n",
       "      <td>transform</td>\n",
       "      <td>Determines if values in one list are less than...</td>\n",
       "    </tr>\n",
       "  </tbody>\n",
       "</table>\n",
       "<p>78 rows × 3 columns</p>\n",
       "</div>"
      ],
      "text/plain": [
       "                     name         type  \\\n",
       "0                     min  aggregation   \n",
       "1                   first  aggregation   \n",
       "2                    mean  aggregation   \n",
       "3                    skew  aggregation   \n",
       "4                   count  aggregation   \n",
       "..                    ...          ...   \n",
       "73                  month    transform   \n",
       "74                weekday    transform   \n",
       "75  divide_numeric_scalar    transform   \n",
       "76      divide_by_feature    transform   \n",
       "77              less_than    transform   \n",
       "\n",
       "                                          description  \n",
       "0   Calculates the smallest value, ignoring `NaN` ...  \n",
       "1               Determines the first value in a list.  \n",
       "2          Computes the average for a list of values.  \n",
       "3   Computes the extent to which a distribution di...  \n",
       "4   Determines the total number of values, excludi...  \n",
       "..                                                ...  \n",
       "73          Determines the month value of a datetime.  \n",
       "74    Determines the day of the week from a datetime.  \n",
       "75       Divide each element in the list by a scalar.  \n",
       "76         Divide a scalar by each value in the list.  \n",
       "77  Determines if values in one list are less than...  \n",
       "\n",
       "[78 rows x 3 columns]"
      ]
     },
     "execution_count": 153,
     "metadata": {},
     "output_type": "execute_result"
    }
   ],
   "source": [
    "ft.primitives.list_primitives()"
   ]
  },
  {
   "cell_type": "code",
   "execution_count": 187,
   "metadata": {},
   "outputs": [
    {
     "name": "stdout",
     "output_type": "stream",
     "text": [
      "Built 10 features\n",
      "Elapsed: 00:00 | Progress: 100%|██████████\n",
      "Built 10 features\n",
      "Elapsed: 00:00 | Progress: 100%|██████████\n"
     ]
    }
   ],
   "source": [
    "feature_matrix_train, feature_names_train = ft.dfs(entityset=es, target_entity='x_train',max_depth=4,verbose=1)\n",
    "feature_matrix_test, feature_names_test = ft.dfs(entityset=es_test, target_entity='x_test',max_depth=4,verbose=1)"
   ]
  },
  {
   "cell_type": "code",
   "execution_count": 189,
   "metadata": {},
   "outputs": [
    {
     "data": {
      "text/plain": [
       "array([ True,  True,  True,  True,  True,  True,  True,  True,  True,\n",
       "        True])"
      ]
     },
     "execution_count": 189,
     "metadata": {},
     "output_type": "execute_result"
    }
   ],
   "source": [
    "feature_matrix_train.columns==feature_matrix_test.columns"
   ]
  },
  {
   "cell_type": "code",
   "execution_count": 190,
   "metadata": {},
   "outputs": [],
   "source": [
    "from sklearn.preprocessing import PolynomialFeatures\n",
    "\n",
    "pf = PolynomialFeatures(degree=2, interaction_only=True,  \n",
    "                        include_bias=False)\n",
    "pf.fit(feature_matrix_train)\n",
    "new_train = pf.transform(feature_matrix_train)\n",
    "new_test = pf.transform(feature_matrix_test)"
   ]
  },
  {
   "cell_type": "code",
   "execution_count": 191,
   "metadata": {},
   "outputs": [
    {
     "data": {
      "text/plain": [
       "(10, 55)"
      ]
     },
     "execution_count": 191,
     "metadata": {},
     "output_type": "execute_result"
    }
   ],
   "source": [
    "pf.n_input_features_,pf.n_output_features_"
   ]
  },
  {
   "cell_type": "code",
   "execution_count": 192,
   "metadata": {},
   "outputs": [
    {
     "data": {
      "text/plain": [
       "['brand',\n",
       " 'price',\n",
       " 'category_code_level1',\n",
       " 'category_code_level2',\n",
       " 'hour',\n",
       " 'activity_count',\n",
       " 'DAY(event_time)',\n",
       " 'YEAR(event_time)',\n",
       " 'MONTH(event_time)',\n",
       " 'WEEKDAY(event_time)',\n",
       " 'brand price',\n",
       " 'brand category_code_level1',\n",
       " 'brand category_code_level2',\n",
       " 'brand hour',\n",
       " 'brand activity_count',\n",
       " 'brand DAY(event_time)',\n",
       " 'brand YEAR(event_time)',\n",
       " 'brand MONTH(event_time)',\n",
       " 'brand WEEKDAY(event_time)',\n",
       " 'price category_code_level1',\n",
       " 'price category_code_level2',\n",
       " 'price hour',\n",
       " 'price activity_count',\n",
       " 'price DAY(event_time)',\n",
       " 'price YEAR(event_time)',\n",
       " 'price MONTH(event_time)',\n",
       " 'price WEEKDAY(event_time)',\n",
       " 'category_code_level1 category_code_level2',\n",
       " 'category_code_level1 hour',\n",
       " 'category_code_level1 activity_count',\n",
       " 'category_code_level1 DAY(event_time)',\n",
       " 'category_code_level1 YEAR(event_time)',\n",
       " 'category_code_level1 MONTH(event_time)',\n",
       " 'category_code_level1 WEEKDAY(event_time)',\n",
       " 'category_code_level2 hour',\n",
       " 'category_code_level2 activity_count',\n",
       " 'category_code_level2 DAY(event_time)',\n",
       " 'category_code_level2 YEAR(event_time)',\n",
       " 'category_code_level2 MONTH(event_time)',\n",
       " 'category_code_level2 WEEKDAY(event_time)',\n",
       " 'hour activity_count',\n",
       " 'hour DAY(event_time)',\n",
       " 'hour YEAR(event_time)',\n",
       " 'hour MONTH(event_time)',\n",
       " 'hour WEEKDAY(event_time)',\n",
       " 'activity_count DAY(event_time)',\n",
       " 'activity_count YEAR(event_time)',\n",
       " 'activity_count MONTH(event_time)',\n",
       " 'activity_count WEEKDAY(event_time)',\n",
       " 'DAY(event_time) YEAR(event_time)',\n",
       " 'DAY(event_time) MONTH(event_time)',\n",
       " 'DAY(event_time) WEEKDAY(event_time)',\n",
       " 'YEAR(event_time) MONTH(event_time)',\n",
       " 'YEAR(event_time) WEEKDAY(event_time)',\n",
       " 'MONTH(event_time) WEEKDAY(event_time)']"
      ]
     },
     "execution_count": 192,
     "metadata": {},
     "output_type": "execute_result"
    }
   ],
   "source": [
    "pf.get_feature_names(input_features=feature_matrix.columns)"
   ]
  },
  {
   "cell_type": "code",
   "execution_count": 194,
   "metadata": {},
   "outputs": [
    {
     "data": {
      "text/html": [
       "<div>\n",
       "<style scoped>\n",
       "    .dataframe tbody tr th:only-of-type {\n",
       "        vertical-align: middle;\n",
       "    }\n",
       "\n",
       "    .dataframe tbody tr th {\n",
       "        vertical-align: top;\n",
       "    }\n",
       "\n",
       "    .dataframe thead th {\n",
       "        text-align: right;\n",
       "    }\n",
       "</style>\n",
       "<table border=\"1\" class=\"dataframe\">\n",
       "  <thead>\n",
       "    <tr style=\"text-align: right;\">\n",
       "      <th></th>\n",
       "      <th>brand</th>\n",
       "      <th>price</th>\n",
       "      <th>category_code_level1</th>\n",
       "      <th>category_code_level2</th>\n",
       "      <th>hour</th>\n",
       "      <th>activity_count</th>\n",
       "      <th>DAY(event_time)</th>\n",
       "      <th>YEAR(event_time)</th>\n",
       "      <th>MONTH(event_time)</th>\n",
       "      <th>WEEKDAY(event_time)</th>\n",
       "      <th>...</th>\n",
       "      <th>activity_count DAY(event_time)</th>\n",
       "      <th>activity_count YEAR(event_time)</th>\n",
       "      <th>activity_count MONTH(event_time)</th>\n",
       "      <th>activity_count WEEKDAY(event_time)</th>\n",
       "      <th>DAY(event_time) YEAR(event_time)</th>\n",
       "      <th>DAY(event_time) MONTH(event_time)</th>\n",
       "      <th>DAY(event_time) WEEKDAY(event_time)</th>\n",
       "      <th>YEAR(event_time) MONTH(event_time)</th>\n",
       "      <th>YEAR(event_time) WEEKDAY(event_time)</th>\n",
       "      <th>MONTH(event_time) WEEKDAY(event_time)</th>\n",
       "    </tr>\n",
       "  </thead>\n",
       "  <tbody>\n",
       "    <tr>\n",
       "      <th>0</th>\n",
       "      <td>274.0</td>\n",
       "      <td>254.82</td>\n",
       "      <td>7.0</td>\n",
       "      <td>26.0</td>\n",
       "      <td>2.0</td>\n",
       "      <td>1.0</td>\n",
       "      <td>1.0</td>\n",
       "      <td>2019.0</td>\n",
       "      <td>10.0</td>\n",
       "      <td>1.0</td>\n",
       "      <td>...</td>\n",
       "      <td>1.0</td>\n",
       "      <td>2019.0</td>\n",
       "      <td>10.0</td>\n",
       "      <td>1.0</td>\n",
       "      <td>2019.0</td>\n",
       "      <td>10.0</td>\n",
       "      <td>1.0</td>\n",
       "      <td>20190.0</td>\n",
       "      <td>2019.0</td>\n",
       "      <td>10.0</td>\n",
       "    </tr>\n",
       "    <tr>\n",
       "      <th>1</th>\n",
       "      <td>182.0</td>\n",
       "      <td>189.26</td>\n",
       "      <td>3.0</td>\n",
       "      <td>15.0</td>\n",
       "      <td>2.0</td>\n",
       "      <td>3.0</td>\n",
       "      <td>1.0</td>\n",
       "      <td>2019.0</td>\n",
       "      <td>10.0</td>\n",
       "      <td>1.0</td>\n",
       "      <td>...</td>\n",
       "      <td>3.0</td>\n",
       "      <td>6057.0</td>\n",
       "      <td>30.0</td>\n",
       "      <td>3.0</td>\n",
       "      <td>2019.0</td>\n",
       "      <td>10.0</td>\n",
       "      <td>1.0</td>\n",
       "      <td>20190.0</td>\n",
       "      <td>2019.0</td>\n",
       "      <td>10.0</td>\n",
       "    </tr>\n",
       "    <tr>\n",
       "      <th>2</th>\n",
       "      <td>228.0</td>\n",
       "      <td>153.04</td>\n",
       "      <td>7.0</td>\n",
       "      <td>26.0</td>\n",
       "      <td>2.0</td>\n",
       "      <td>3.0</td>\n",
       "      <td>1.0</td>\n",
       "      <td>2019.0</td>\n",
       "      <td>10.0</td>\n",
       "      <td>1.0</td>\n",
       "      <td>...</td>\n",
       "      <td>3.0</td>\n",
       "      <td>6057.0</td>\n",
       "      <td>30.0</td>\n",
       "      <td>3.0</td>\n",
       "      <td>2019.0</td>\n",
       "      <td>10.0</td>\n",
       "      <td>1.0</td>\n",
       "      <td>20190.0</td>\n",
       "      <td>2019.0</td>\n",
       "      <td>10.0</td>\n",
       "    </tr>\n",
       "    <tr>\n",
       "      <th>3</th>\n",
       "      <td>199.0</td>\n",
       "      <td>101.65</td>\n",
       "      <td>7.0</td>\n",
       "      <td>26.0</td>\n",
       "      <td>2.0</td>\n",
       "      <td>3.0</td>\n",
       "      <td>1.0</td>\n",
       "      <td>2019.0</td>\n",
       "      <td>10.0</td>\n",
       "      <td>1.0</td>\n",
       "      <td>...</td>\n",
       "      <td>3.0</td>\n",
       "      <td>6057.0</td>\n",
       "      <td>30.0</td>\n",
       "      <td>3.0</td>\n",
       "      <td>2019.0</td>\n",
       "      <td>10.0</td>\n",
       "      <td>1.0</td>\n",
       "      <td>20190.0</td>\n",
       "      <td>2019.0</td>\n",
       "      <td>10.0</td>\n",
       "    </tr>\n",
       "    <tr>\n",
       "      <th>4</th>\n",
       "      <td>15.0</td>\n",
       "      <td>464.13</td>\n",
       "      <td>7.0</td>\n",
       "      <td>26.0</td>\n",
       "      <td>2.0</td>\n",
       "      <td>3.0</td>\n",
       "      <td>1.0</td>\n",
       "      <td>2019.0</td>\n",
       "      <td>10.0</td>\n",
       "      <td>1.0</td>\n",
       "      <td>...</td>\n",
       "      <td>3.0</td>\n",
       "      <td>6057.0</td>\n",
       "      <td>30.0</td>\n",
       "      <td>3.0</td>\n",
       "      <td>2019.0</td>\n",
       "      <td>10.0</td>\n",
       "      <td>1.0</td>\n",
       "      <td>20190.0</td>\n",
       "      <td>2019.0</td>\n",
       "      <td>10.0</td>\n",
       "    </tr>\n",
       "  </tbody>\n",
       "</table>\n",
       "<p>5 rows × 55 columns</p>\n",
       "</div>"
      ],
      "text/plain": [
       "   brand   price  category_code_level1  category_code_level2  hour  \\\n",
       "0  274.0  254.82                   7.0                  26.0   2.0   \n",
       "1  182.0  189.26                   3.0                  15.0   2.0   \n",
       "2  228.0  153.04                   7.0                  26.0   2.0   \n",
       "3  199.0  101.65                   7.0                  26.0   2.0   \n",
       "4   15.0  464.13                   7.0                  26.0   2.0   \n",
       "\n",
       "   activity_count  DAY(event_time)  YEAR(event_time)  MONTH(event_time)  \\\n",
       "0             1.0              1.0            2019.0               10.0   \n",
       "1             3.0              1.0            2019.0               10.0   \n",
       "2             3.0              1.0            2019.0               10.0   \n",
       "3             3.0              1.0            2019.0               10.0   \n",
       "4             3.0              1.0            2019.0               10.0   \n",
       "\n",
       "   WEEKDAY(event_time)  ...  activity_count DAY(event_time)  \\\n",
       "0                  1.0  ...                             1.0   \n",
       "1                  1.0  ...                             3.0   \n",
       "2                  1.0  ...                             3.0   \n",
       "3                  1.0  ...                             3.0   \n",
       "4                  1.0  ...                             3.0   \n",
       "\n",
       "   activity_count YEAR(event_time)  activity_count MONTH(event_time)  \\\n",
       "0                           2019.0                              10.0   \n",
       "1                           6057.0                              30.0   \n",
       "2                           6057.0                              30.0   \n",
       "3                           6057.0                              30.0   \n",
       "4                           6057.0                              30.0   \n",
       "\n",
       "   activity_count WEEKDAY(event_time)  DAY(event_time) YEAR(event_time)  \\\n",
       "0                                 1.0                            2019.0   \n",
       "1                                 3.0                            2019.0   \n",
       "2                                 3.0                            2019.0   \n",
       "3                                 3.0                            2019.0   \n",
       "4                                 3.0                            2019.0   \n",
       "\n",
       "   DAY(event_time) MONTH(event_time)  DAY(event_time) WEEKDAY(event_time)  \\\n",
       "0                               10.0                                  1.0   \n",
       "1                               10.0                                  1.0   \n",
       "2                               10.0                                  1.0   \n",
       "3                               10.0                                  1.0   \n",
       "4                               10.0                                  1.0   \n",
       "\n",
       "   YEAR(event_time) MONTH(event_time)  YEAR(event_time) WEEKDAY(event_time)  \\\n",
       "0                             20190.0                                2019.0   \n",
       "1                             20190.0                                2019.0   \n",
       "2                             20190.0                                2019.0   \n",
       "3                             20190.0                                2019.0   \n",
       "4                             20190.0                                2019.0   \n",
       "\n",
       "   MONTH(event_time) WEEKDAY(event_time)  \n",
       "0                                   10.0  \n",
       "1                                   10.0  \n",
       "2                                   10.0  \n",
       "3                                   10.0  \n",
       "4                                   10.0  \n",
       "\n",
       "[5 rows x 55 columns]"
      ]
     },
     "execution_count": 194,
     "metadata": {},
     "output_type": "execute_result"
    }
   ],
   "source": [
    "new_feat_train = pd.DataFrame(new_train,columns=pf.get_feature_names(input_features=feature_matrix_train.columns))\n",
    "new_feat_test = pd.DataFrame(new_test,columns=pf.get_feature_names(input_features=feature_matrix_test.columns))\n",
    "new_feat_train.head()"
   ]
  },
  {
   "cell_type": "code",
   "execution_count": 195,
   "metadata": {},
   "outputs": [
    {
     "data": {
      "text/html": [
       "<div>\n",
       "<style scoped>\n",
       "    .dataframe tbody tr th:only-of-type {\n",
       "        vertical-align: middle;\n",
       "    }\n",
       "\n",
       "    .dataframe tbody tr th {\n",
       "        vertical-align: top;\n",
       "    }\n",
       "\n",
       "    .dataframe thead th {\n",
       "        text-align: right;\n",
       "    }\n",
       "</style>\n",
       "<table border=\"1\" class=\"dataframe\">\n",
       "  <thead>\n",
       "    <tr style=\"text-align: right;\">\n",
       "      <th></th>\n",
       "      <th>brand</th>\n",
       "      <th>price</th>\n",
       "      <th>category_code_level1</th>\n",
       "      <th>category_code_level2</th>\n",
       "      <th>hour</th>\n",
       "      <th>activity_count</th>\n",
       "      <th>DAY(event_time)</th>\n",
       "      <th>YEAR(event_time)</th>\n",
       "      <th>MONTH(event_time)</th>\n",
       "      <th>WEEKDAY(event_time)</th>\n",
       "      <th>...</th>\n",
       "      <th>activity_count DAY(event_time)</th>\n",
       "      <th>activity_count YEAR(event_time)</th>\n",
       "      <th>activity_count MONTH(event_time)</th>\n",
       "      <th>activity_count WEEKDAY(event_time)</th>\n",
       "      <th>DAY(event_time) YEAR(event_time)</th>\n",
       "      <th>DAY(event_time) MONTH(event_time)</th>\n",
       "      <th>DAY(event_time) WEEKDAY(event_time)</th>\n",
       "      <th>YEAR(event_time) MONTH(event_time)</th>\n",
       "      <th>YEAR(event_time) WEEKDAY(event_time)</th>\n",
       "      <th>MONTH(event_time) WEEKDAY(event_time)</th>\n",
       "    </tr>\n",
       "  </thead>\n",
       "  <tbody>\n",
       "    <tr>\n",
       "      <th>0</th>\n",
       "      <td>232.0</td>\n",
       "      <td>22.63</td>\n",
       "      <td>3.0</td>\n",
       "      <td>17.0</td>\n",
       "      <td>2.0</td>\n",
       "      <td>4.0</td>\n",
       "      <td>1.0</td>\n",
       "      <td>2019.0</td>\n",
       "      <td>10.0</td>\n",
       "      <td>1.0</td>\n",
       "      <td>...</td>\n",
       "      <td>4.0</td>\n",
       "      <td>8076.0</td>\n",
       "      <td>40.0</td>\n",
       "      <td>4.0</td>\n",
       "      <td>2019.0</td>\n",
       "      <td>10.0</td>\n",
       "      <td>1.0</td>\n",
       "      <td>20190.0</td>\n",
       "      <td>2019.0</td>\n",
       "      <td>10.0</td>\n",
       "    </tr>\n",
       "    <tr>\n",
       "      <th>1</th>\n",
       "      <td>220.0</td>\n",
       "      <td>89.72</td>\n",
       "      <td>7.0</td>\n",
       "      <td>26.0</td>\n",
       "      <td>2.0</td>\n",
       "      <td>2.0</td>\n",
       "      <td>1.0</td>\n",
       "      <td>2019.0</td>\n",
       "      <td>10.0</td>\n",
       "      <td>1.0</td>\n",
       "      <td>...</td>\n",
       "      <td>2.0</td>\n",
       "      <td>4038.0</td>\n",
       "      <td>20.0</td>\n",
       "      <td>2.0</td>\n",
       "      <td>2019.0</td>\n",
       "      <td>10.0</td>\n",
       "      <td>1.0</td>\n",
       "      <td>20190.0</td>\n",
       "      <td>2019.0</td>\n",
       "      <td>10.0</td>\n",
       "    </tr>\n",
       "    <tr>\n",
       "      <th>2</th>\n",
       "      <td>274.0</td>\n",
       "      <td>130.76</td>\n",
       "      <td>7.0</td>\n",
       "      <td>26.0</td>\n",
       "      <td>2.0</td>\n",
       "      <td>2.0</td>\n",
       "      <td>1.0</td>\n",
       "      <td>2019.0</td>\n",
       "      <td>10.0</td>\n",
       "      <td>1.0</td>\n",
       "      <td>...</td>\n",
       "      <td>2.0</td>\n",
       "      <td>4038.0</td>\n",
       "      <td>20.0</td>\n",
       "      <td>2.0</td>\n",
       "      <td>2019.0</td>\n",
       "      <td>10.0</td>\n",
       "      <td>1.0</td>\n",
       "      <td>20190.0</td>\n",
       "      <td>2019.0</td>\n",
       "      <td>10.0</td>\n",
       "    </tr>\n",
       "    <tr>\n",
       "      <th>3</th>\n",
       "      <td>139.0</td>\n",
       "      <td>7.70</td>\n",
       "      <td>12.0</td>\n",
       "      <td>9.0</td>\n",
       "      <td>2.0</td>\n",
       "      <td>1.0</td>\n",
       "      <td>1.0</td>\n",
       "      <td>2019.0</td>\n",
       "      <td>10.0</td>\n",
       "      <td>1.0</td>\n",
       "      <td>...</td>\n",
       "      <td>1.0</td>\n",
       "      <td>2019.0</td>\n",
       "      <td>10.0</td>\n",
       "      <td>1.0</td>\n",
       "      <td>2019.0</td>\n",
       "      <td>10.0</td>\n",
       "      <td>1.0</td>\n",
       "      <td>20190.0</td>\n",
       "      <td>2019.0</td>\n",
       "      <td>10.0</td>\n",
       "    </tr>\n",
       "    <tr>\n",
       "      <th>4</th>\n",
       "      <td>331.0</td>\n",
       "      <td>29.51</td>\n",
       "      <td>0.0</td>\n",
       "      <td>0.0</td>\n",
       "      <td>2.0</td>\n",
       "      <td>0.0</td>\n",
       "      <td>1.0</td>\n",
       "      <td>2019.0</td>\n",
       "      <td>10.0</td>\n",
       "      <td>1.0</td>\n",
       "      <td>...</td>\n",
       "      <td>0.0</td>\n",
       "      <td>0.0</td>\n",
       "      <td>0.0</td>\n",
       "      <td>0.0</td>\n",
       "      <td>2019.0</td>\n",
       "      <td>10.0</td>\n",
       "      <td>1.0</td>\n",
       "      <td>20190.0</td>\n",
       "      <td>2019.0</td>\n",
       "      <td>10.0</td>\n",
       "    </tr>\n",
       "  </tbody>\n",
       "</table>\n",
       "<p>5 rows × 55 columns</p>\n",
       "</div>"
      ],
      "text/plain": [
       "   brand   price  category_code_level1  category_code_level2  hour  \\\n",
       "0  232.0   22.63                   3.0                  17.0   2.0   \n",
       "1  220.0   89.72                   7.0                  26.0   2.0   \n",
       "2  274.0  130.76                   7.0                  26.0   2.0   \n",
       "3  139.0    7.70                  12.0                   9.0   2.0   \n",
       "4  331.0   29.51                   0.0                   0.0   2.0   \n",
       "\n",
       "   activity_count  DAY(event_time)  YEAR(event_time)  MONTH(event_time)  \\\n",
       "0             4.0              1.0            2019.0               10.0   \n",
       "1             2.0              1.0            2019.0               10.0   \n",
       "2             2.0              1.0            2019.0               10.0   \n",
       "3             1.0              1.0            2019.0               10.0   \n",
       "4             0.0              1.0            2019.0               10.0   \n",
       "\n",
       "   WEEKDAY(event_time)  ...  activity_count DAY(event_time)  \\\n",
       "0                  1.0  ...                             4.0   \n",
       "1                  1.0  ...                             2.0   \n",
       "2                  1.0  ...                             2.0   \n",
       "3                  1.0  ...                             1.0   \n",
       "4                  1.0  ...                             0.0   \n",
       "\n",
       "   activity_count YEAR(event_time)  activity_count MONTH(event_time)  \\\n",
       "0                           8076.0                              40.0   \n",
       "1                           4038.0                              20.0   \n",
       "2                           4038.0                              20.0   \n",
       "3                           2019.0                              10.0   \n",
       "4                              0.0                               0.0   \n",
       "\n",
       "   activity_count WEEKDAY(event_time)  DAY(event_time) YEAR(event_time)  \\\n",
       "0                                 4.0                            2019.0   \n",
       "1                                 2.0                            2019.0   \n",
       "2                                 2.0                            2019.0   \n",
       "3                                 1.0                            2019.0   \n",
       "4                                 0.0                            2019.0   \n",
       "\n",
       "   DAY(event_time) MONTH(event_time)  DAY(event_time) WEEKDAY(event_time)  \\\n",
       "0                               10.0                                  1.0   \n",
       "1                               10.0                                  1.0   \n",
       "2                               10.0                                  1.0   \n",
       "3                               10.0                                  1.0   \n",
       "4                               10.0                                  1.0   \n",
       "\n",
       "   YEAR(event_time) MONTH(event_time)  YEAR(event_time) WEEKDAY(event_time)  \\\n",
       "0                             20190.0                                2019.0   \n",
       "1                             20190.0                                2019.0   \n",
       "2                             20190.0                                2019.0   \n",
       "3                             20190.0                                2019.0   \n",
       "4                             20190.0                                2019.0   \n",
       "\n",
       "   MONTH(event_time) WEEKDAY(event_time)  \n",
       "0                                   10.0  \n",
       "1                                   10.0  \n",
       "2                                   10.0  \n",
       "3                                   10.0  \n",
       "4                                   10.0  \n",
       "\n",
       "[5 rows x 55 columns]"
      ]
     },
     "execution_count": 195,
     "metadata": {},
     "output_type": "execute_result"
    }
   ],
   "source": [
    "new_feat_test.head()"
   ]
  },
  {
   "cell_type": "code",
   "execution_count": 197,
   "metadata": {},
   "outputs": [
    {
     "data": {
      "text/plain": [
       "Index(['brand', 'price', 'category_code_level1', 'category_code_level2',\n",
       "       'hour', 'activity_count', 'DAY(event_time)', 'YEAR(event_time)',\n",
       "       'MONTH(event_time)', 'WEEKDAY(event_time)', 'brand price',\n",
       "       'brand category_code_level1', 'brand category_code_level2',\n",
       "       'brand hour', 'brand activity_count', 'brand DAY(event_time)',\n",
       "       'brand YEAR(event_time)', 'brand MONTH(event_time)',\n",
       "       'brand WEEKDAY(event_time)', 'price category_code_level1',\n",
       "       'price category_code_level2', 'price hour', 'price activity_count',\n",
       "       'price DAY(event_time)', 'price YEAR(event_time)',\n",
       "       'price MONTH(event_time)', 'price WEEKDAY(event_time)',\n",
       "       'category_code_level1 category_code_level2',\n",
       "       'category_code_level1 hour', 'category_code_level1 activity_count',\n",
       "       'category_code_level1 DAY(event_time)',\n",
       "       'category_code_level1 YEAR(event_time)',\n",
       "       'category_code_level1 MONTH(event_time)',\n",
       "       'category_code_level1 WEEKDAY(event_time)', 'category_code_level2 hour',\n",
       "       'category_code_level2 activity_count',\n",
       "       'category_code_level2 DAY(event_time)',\n",
       "       'category_code_level2 YEAR(event_time)',\n",
       "       'category_code_level2 MONTH(event_time)',\n",
       "       'category_code_level2 WEEKDAY(event_time)', 'hour activity_count',\n",
       "       'hour DAY(event_time)', 'hour YEAR(event_time)',\n",
       "       'hour MONTH(event_time)', 'hour WEEKDAY(event_time)',\n",
       "       'activity_count DAY(event_time)', 'activity_count YEAR(event_time)',\n",
       "       'activity_count MONTH(event_time)',\n",
       "       'activity_count WEEKDAY(event_time)',\n",
       "       'DAY(event_time) YEAR(event_time)', 'DAY(event_time) MONTH(event_time)',\n",
       "       'DAY(event_time) WEEKDAY(event_time)',\n",
       "       'YEAR(event_time) MONTH(event_time)',\n",
       "       'YEAR(event_time) WEEKDAY(event_time)',\n",
       "       'MONTH(event_time) WEEKDAY(event_time)'],\n",
       "      dtype='object')"
      ]
     },
     "execution_count": 197,
     "metadata": {},
     "output_type": "execute_result"
    }
   ],
   "source": [
    "new_feat_train.columns"
   ]
  },
  {
   "cell_type": "code",
   "execution_count": 198,
   "metadata": {},
   "outputs": [],
   "source": [
    "scaler = MinMaxScaler()\n",
    "x_train_sc = scaler.fit_transform(new_feat_train)\n",
    "x_test_sc = scaler.transform(new_feat_test)"
   ]
  },
  {
   "cell_type": "markdown",
   "metadata": {},
   "source": [
    "## XGBoost with all features (all)"
   ]
  },
  {
   "cell_type": "code",
   "execution_count": 211,
   "metadata": {},
   "outputs": [],
   "source": [
    "from xgboost import XGBClassifier\n",
    "from sklearn.model_selection import GridSearchCV\n",
    "\n",
    "param = {\n",
    "    'n_estimators':[100,150],\n",
    "    'max_depth':[5,8,10],\n",
    "    'max_leaf_node':[2,3],\n",
    "    'min_child_weight':[1.3,2],\n",
    "    'subsample':[0.75,0.56],\n",
    "    'reg_alpha ':[0.95,1],\n",
    "    'learning_rate':[0.01,0.02]\n",
    "}\n",
    "\n",
    "model = XGBClassifier(n_jobs=-1,verbosity=1,eval_metric='auc')"
   ]
  },
  {
   "cell_type": "code",
   "execution_count": 212,
   "metadata": {},
   "outputs": [
    {
     "name": "stdout",
     "output_type": "stream",
     "text": [
      "Fitting 3 folds for each of 288 candidates, totalling 864 fits\n"
     ]
    },
    {
     "name": "stderr",
     "output_type": "stream",
     "text": [
      "[Parallel(n_jobs=-1)]: Using backend LokyBackend with 8 concurrent workers.\n",
      "[Parallel(n_jobs=-1)]: Done  34 tasks      | elapsed:   44.3s\n",
      "[Parallel(n_jobs=-1)]: Done 184 tasks      | elapsed:  8.3min\n",
      "[Parallel(n_jobs=-1)]: Done 434 tasks      | elapsed: 49.3min\n",
      "[Parallel(n_jobs=-1)]: Done 784 tasks      | elapsed: 75.5min\n",
      "[Parallel(n_jobs=-1)]: Done 864 out of 864 | elapsed: 84.9min finished\n"
     ]
    },
    {
     "data": {
      "text/plain": [
       "GridSearchCV(cv=3, error_score=nan,\n",
       "             estimator=XGBClassifier(base_score=None, booster=None,\n",
       "                                     colsample_bylevel=None,\n",
       "                                     colsample_bynode=None,\n",
       "                                     colsample_bytree=None, eval_metric='auc',\n",
       "                                     gamma=None, gpu_id=None,\n",
       "                                     importance_type='gain',\n",
       "                                     interaction_constraints=None,\n",
       "                                     learning_rate=None, max_delta_step=None,\n",
       "                                     max_depth=None, min_child_weight=None,\n",
       "                                     missing=nan, monotone_constr...\n",
       "                                     subsample=None, tree_method=None,\n",
       "                                     validate_parameters=False, verbosity=1),\n",
       "             iid='deprecated', n_jobs=-1,\n",
       "             param_grid={'learning_rate': [0.1, 0.0001],\n",
       "                         'max_depth': [3, 15, 20], 'max_leaf_node': [1, 5, 7],\n",
       "                         'min_child_weight': [3, 5], 'n_estimators': [100, 150],\n",
       "                         'reg_alpha ': [0.93, 0.85], 'subsample': [0.8, 0.95]},\n",
       "             pre_dispatch='2*n_jobs', refit=True, return_train_score=True,\n",
       "             scoring=None, verbose=1)"
      ]
     },
     "execution_count": 212,
     "metadata": {},
     "output_type": "execute_result"
    }
   ],
   "source": [
    "clf = GridSearchCV(estimator=model,param_grid=param,n_jobs=-1,cv=3,verbose=1,return_train_score=True)\n",
    "clf.fit(x_train_sc,y_train)"
   ]
  },
  {
   "cell_type": "code",
   "execution_count": 213,
   "metadata": {},
   "outputs": [
    {
     "data": {
      "text/plain": [
       "(0.502587194375321,\n",
       " {'learning_rate': 0.0001,\n",
       "  'max_depth': 3,\n",
       "  'max_leaf_node': 1,\n",
       "  'min_child_weight': 5,\n",
       "  'n_estimators': 100,\n",
       "  'reg_alpha ': 0.93,\n",
       "  'subsample': 0.8})"
      ]
     },
     "execution_count": 213,
     "metadata": {},
     "output_type": "execute_result"
    }
   ],
   "source": [
    "clf.best_score_,clf.best_params_"
   ]
  },
  {
   "cell_type": "code",
   "execution_count": 232,
   "metadata": {},
   "outputs": [],
   "source": [
    "x_tr = pd.DataFrame(x_train_sc,columns=new_feat_train.columns)\n",
    "x_te = pd.DataFrame(x_test_sc,columns=new_feat_test.columns)"
   ]
  },
  {
   "cell_type": "code",
   "execution_count": 363,
   "metadata": {},
   "outputs": [
    {
     "data": {
      "text/plain": [
       "XGBClassifier(base_score=0.5, booster=None, colsample_bylevel=1,\n",
       "              colsample_bynode=1, colsample_bytree=1, gamma=0, gpu_id=-1,\n",
       "              importance_type='gain', interaction_constraints=None,\n",
       "              learning_rate=0.001, max_delta_step=0, max_depth=3,\n",
       "              max_leaf_node=1, min_child_weight=5, missing=nan,\n",
       "              monotone_constraints=None, n_estimators=100, n_jobs=0,\n",
       "              num_parallel_tree=1, objective='binary:logistic', random_state=0,\n",
       "              reg_alpha=0.95, reg_lambda=1, scale_pos_weight=1, subsample=0.8,\n",
       "              tree_method=None, validate_parameters=False, verbosity=None)"
      ]
     },
     "execution_count": 363,
     "metadata": {},
     "output_type": "execute_result"
    }
   ],
   "source": [
    "model = XGBClassifier(learning_rate=0.001,max_depth=3,max_leaf_node=1,min_child_weight=5,n_estimators=100,reg_alpha=0.95,subsample=0.8)\n",
    "model.fit(x_train_sc,y_train)"
   ]
  },
  {
   "cell_type": "code",
   "execution_count": 342,
   "metadata": {},
   "outputs": [
    {
     "name": "stdout",
     "output_type": "stream",
     "text": [
      "Accuracy: 0.49700488434245693\n",
      "Precision: 0.4958553127354936\n",
      "Recall: 0.7321958456973294\n",
      "f1 score: 0.591283510558634\n"
     ]
    }
   ],
   "source": [
    "y_pred = model.predict(x_test_sc)\n",
    "print(\"Accuracy:\",metrics.accuracy_score(y_test, y_pred))\n",
    "print(\"Precision:\",metrics.precision_score(y_test, y_pred))\n",
    "print(\"Recall:\",metrics.recall_score(y_test, y_pred))\n",
    "print(\"f1 score:\",metrics.f1_score(y_test, y_pred))"
   ]
  },
  {
   "cell_type": "code",
   "execution_count": 236,
   "metadata": {},
   "outputs": [
    {
     "data": {
      "image/png": "[encoded data removed]",
      "text/plain": [
       "<Figure size 2880x720 with 1 Axes>"
      ]
     },
     "metadata": {
      "needs_background": "light"
     },
     "output_type": "display_data"
    }
   ],
   "source": [
    "plot_importance(model, max_num_features=10, importance_type ='gain',height=0.5)\n",
    "plt.rcParams['figure.figsize'] = (40, 10) \n",
    "plt.rcParams['font.size'] = 25\n",
    "plt.show()"
   ]
  },
  {
   "cell_type": "markdown",
   "metadata": {},
   "source": [
    "## XGBoost with selected features "
   ]
  },
  {
   "cell_type": "code",
   "execution_count": 294,
   "metadata": {},
   "outputs": [],
   "source": [
    "new_feat_list = []\n",
    "l = x_tr.columns\n",
    "for i in np.argsort(model.feature_importances_)[::-1][:20]:\n",
    "    if l[i] not in new_feat_list:\n",
    "        new_feat_list.append(l[i])"
   ]
  },
  {
   "cell_type": "code",
   "execution_count": 295,
   "metadata": {},
   "outputs": [
    {
     "data": {
      "text/plain": [
       "['DAY(event_time)',\n",
       " 'YEAR(event_time)',\n",
       " 'brand price',\n",
       " 'MONTH(event_time)',\n",
       " 'category_code_level1',\n",
       " 'WEEKDAY(event_time)',\n",
       " 'brand YEAR(event_time)',\n",
       " 'brand category_code_level1',\n",
       " 'brand category_code_level2',\n",
       " 'brand hour',\n",
       " 'price',\n",
       " 'brand activity_count',\n",
       " 'hour',\n",
       " 'price activity_count',\n",
       " 'price hour',\n",
       " 'category_code_level2',\n",
       " 'brand MONTH(event_time)',\n",
       " 'brand DAY(event_time)',\n",
       " 'price category_code_level2',\n",
       " 'price category_code_level1']"
      ]
     },
     "execution_count": 295,
     "metadata": {},
     "output_type": "execute_result"
    }
   ],
   "source": [
    "new_feat_list"
   ]
  },
  {
   "cell_type": "code",
   "execution_count": 302,
   "metadata": {},
   "outputs": [],
   "source": [
    "from xgboost import XGBClassifier\n",
    "from sklearn.model_selection import GridSearchCV\n",
    "\n",
    "param = {\n",
    "    'n_estimators':[100,150],\n",
    "    'max_depth':[5,8,10],\n",
    "    'max_leaf_node':[2,3],\n",
    "    'min_child_weight':[1,2],\n",
    "    'subsample':[0.75,0.56],\n",
    "    'reg_alpha ':[0.95,1],\n",
    "    'learning_rate':[0.01,0.02]\n",
    "}\n",
    "\n",
    "model = XGBClassifier(n_jobs=-1,verbosity=1,eval_metric='auc')"
   ]
  },
  {
   "cell_type": "code",
   "execution_count": 303,
   "metadata": {},
   "outputs": [
    {
     "name": "stdout",
     "output_type": "stream",
     "text": [
      "Fitting 2 folds for each of 192 candidates, totalling 384 fits\n"
     ]
    },
    {
     "name": "stderr",
     "output_type": "stream",
     "text": [
      "[Parallel(n_jobs=-1)]: Using backend LokyBackend with 8 concurrent workers.\n",
      "[Parallel(n_jobs=-1)]: Done  34 tasks      | elapsed:   40.5s\n",
      "[Parallel(n_jobs=-1)]: Done 184 tasks      | elapsed:  4.3min\n",
      "[Parallel(n_jobs=-1)]: Done 384 out of 384 | elapsed:  9.3min finished\n"
     ]
    },
    {
     "data": {
      "text/plain": [
       "GridSearchCV(cv=2, error_score=nan,\n",
       "             estimator=XGBClassifier(base_score=None, booster=None,\n",
       "                                     colsample_bylevel=None,\n",
       "                                     colsample_bynode=None,\n",
       "                                     colsample_bytree=None, eval_metric='auc',\n",
       "                                     gamma=None, gpu_id=None,\n",
       "                                     importance_type='gain',\n",
       "                                     interaction_constraints=None,\n",
       "                                     learning_rate=None, max_delta_step=None,\n",
       "                                     max_depth=None, min_child_weight=None,\n",
       "                                     missing=nan, monotone_constr...\n",
       "                                     subsample=None, tree_method=None,\n",
       "                                     validate_parameters=False, verbosity=1),\n",
       "             iid='deprecated', n_jobs=-1,\n",
       "             param_grid={'learning_rate': [0.01, 0.02], 'max_depth': [5, 8, 10],\n",
       "                         'max_leaf_node': [2, 3], 'min_child_weight': [1, 2],\n",
       "                         'n_estimators': [100, 150], 'reg_alpha ': [0.95, 1],\n",
       "                         'subsample': [0.75, 0.56]},\n",
       "             pre_dispatch='2*n_jobs', refit=True, return_train_score=True,\n",
       "             scoring=None, verbose=1)"
      ]
     },
     "execution_count": 303,
     "metadata": {},
     "output_type": "execute_result"
    }
   ],
   "source": [
    "clf = GridSearchCV(estimator=model,param_grid=param,n_jobs=-1,cv=2,verbose=1,return_train_score=True)\n",
    "clf.fit(x_tr[new_feat_list],y_train)"
   ]
  },
  {
   "cell_type": "code",
   "execution_count": 304,
   "metadata": {},
   "outputs": [
    {
     "data": {
      "text/plain": [
       "(0.5021132022291244,\n",
       " {'learning_rate': 0.02,\n",
       "  'max_depth': 5,\n",
       "  'max_leaf_node': 2,\n",
       "  'min_child_weight': 2,\n",
       "  'n_estimators': 150,\n",
       "  'reg_alpha ': 0.95,\n",
       "  'subsample': 0.56})"
      ]
     },
     "execution_count": 304,
     "metadata": {},
     "output_type": "execute_result"
    }
   ],
   "source": [
    "clf.best_score_,clf.best_params_"
   ]
  },
  {
   "cell_type": "code",
   "execution_count": 359,
   "metadata": {},
   "outputs": [
    {
     "data": {
      "text/plain": [
       "XGBClassifier(base_score=0.5, booster=None, colsample_bylevel=1,\n",
       "              colsample_bynode=1, colsample_bytree=1, gamma=0, gpu_id=-1,\n",
       "              importance_type='gain', interaction_constraints=None,\n",
       "              learning_rate=0.0001, max_delta_step=0, max_depth=5,\n",
       "              max_leaf_node=1, min_child_weight=5, missing=nan,\n",
       "              monotone_constraints=None, n_estimators=100, n_jobs=0,\n",
       "              num_parallel_tree=1, objective='binary:logistic', random_state=0,\n",
       "              reg_alpha=0.95, reg_lambda=1, scale_pos_weight=1, subsample=0.85,\n",
       "              tree_method=None, validate_parameters=False, verbosity=None)"
      ]
     },
     "execution_count": 359,
     "metadata": {},
     "output_type": "execute_result"
    }
   ],
   "source": [
    "model = XGBClassifier(learning_rate=0.0001,max_depth=5,max_leaf_node=1\n",
    "                ,min_child_weight=5,n_estimators=100,reg_alpha=0.95,subsample=0.85)\n",
    "\n",
    "model.fit(x_tr[new_feat_list],y_train)"
   ]
  },
  {
   "cell_type": "code",
   "execution_count": 360,
   "metadata": {},
   "outputs": [
    {
     "name": "stdout",
     "output_type": "stream",
     "text": [
      "Accuracy: 0.5009676527508985\n",
      "Precision: 0.4985477964389443\n",
      "Recall: 0.7321958456973294\n",
      "f1 score: 0.593193599278792\n"
     ]
    }
   ],
   "source": [
    "y_pred = model.predict(x_te[new_feat_list])\n",
    "print(\"Accuracy:\",metrics.accuracy_score(y_test, y_pred))\n",
    "print(\"Precision:\",metrics.precision_score(y_test, y_pred))\n",
    "print(\"Recall:\",metrics.recall_score(y_test, y_pred))\n",
    "print(\"f1 score:\",metrics.f1_score(y_test, y_pred))"
   ]
  },
  {
   "cell_type": "code",
   "execution_count": 331,
   "metadata": {},
   "outputs": [
    {
     "data": {
      "image/png": "[encoded data removed]",
      "text/plain": [
       "<Figure size 2880x1440 with 1 Axes>"
      ]
     },
     "metadata": {
      "needs_background": "light"
     },
     "output_type": "display_data"
    }
   ],
   "source": [
    "plot_importance(model, max_num_features=10, importance_type ='gain',height=0.5)\n",
    "plt.rcParams['figure.figsize'] = (40, 20) \n",
    "plt.rcParams['font.size'] = 25\n",
    "plt.show()"
   ]
  },
  {
   "cell_type": "markdown",
   "metadata": {},
   "source": [
    "## SGD Classifier with new features "
   ]
  },
  {
   "cell_type": "code",
   "execution_count": 436,
   "metadata": {},
   "outputs": [
    {
     "name": "stdout",
     "output_type": "stream",
     "text": [
      "Fitting 3 folds for each of 12960 candidates, totalling 38880 fits\n"
     ]
    },
    {
     "name": "stderr",
     "output_type": "stream",
     "text": [
      "[Parallel(n_jobs=-1)]: Using backend LokyBackend with 8 concurrent workers.\n",
      "[Parallel(n_jobs=-1)]: Done  34 tasks      | elapsed:    2.5s\n",
      "[Parallel(n_jobs=-1)]: Done 264 tasks      | elapsed:    6.6s\n",
      "[Parallel(n_jobs=-1)]: Done 543 tasks      | elapsed:   43.2s\n",
      "[Parallel(n_jobs=-1)]: Done 968 tasks      | elapsed:   56.3s\n",
      "[Parallel(n_jobs=-1)]: Done 1458 tasks      | elapsed:  1.7min\n",
      "[Parallel(n_jobs=-1)]: Done 2008 tasks      | elapsed:  2.4min\n",
      "[Parallel(n_jobs=-1)]: Done 2770 tasks      | elapsed:  3.3min\n",
      "[Parallel(n_jobs=-1)]: Done 3632 tasks      | elapsed:  4.2min\n",
      "[Parallel(n_jobs=-1)]: Done 4660 tasks      | elapsed:  5.6min\n",
      "[Parallel(n_jobs=-1)]: Done 5728 tasks      | elapsed:  6.7min\n",
      "[Parallel(n_jobs=-1)]: Done 6999 tasks      | elapsed:  8.2min\n",
      "[Parallel(n_jobs=-1)]: Done 8372 tasks      | elapsed:  9.8min\n",
      "[Parallel(n_jobs=-1)]: Done 9806 tasks      | elapsed: 11.4min\n",
      "[Parallel(n_jobs=-1)]: Done 11383 tasks      | elapsed: 13.1min\n",
      "[Parallel(n_jobs=-1)]: Done 13196 tasks      | elapsed: 14.6min\n",
      "[Parallel(n_jobs=-1)]: Done 15880 tasks      | elapsed: 16.5min\n",
      "[Parallel(n_jobs=-1)]: Done 18716 tasks      | elapsed: 18.5min\n",
      "[Parallel(n_jobs=-1)]: Done 21800 tasks      | elapsed: 20.5min\n",
      "[Parallel(n_jobs=-1)]: Done 24940 tasks      | elapsed: 22.9min\n",
      "[Parallel(n_jobs=-1)]: Done 27836 tasks      | elapsed: 25.3min\n",
      "[Parallel(n_jobs=-1)]: Done 30572 tasks      | elapsed: 27.9min\n",
      "[Parallel(n_jobs=-1)]: Done 33392 tasks      | elapsed: 30.2min\n",
      "[Parallel(n_jobs=-1)]: Done 36364 tasks      | elapsed: 33.3min\n",
      "[Parallel(n_jobs=-1)]: Done 38880 out of 38880 | elapsed: 35.5min finished\n"
     ]
    },
    {
     "name": "stdout",
     "output_type": "stream",
     "text": [
      "-- Epoch 1\n",
      "Norm: 0.03, NNZs: 8, Bias: 0.000000, T: 25317, Avg. loss: 0.693221\n",
      "Total training time: 0.01 seconds.\n",
      "-- Epoch 2\n",
      "Norm: 0.04, NNZs: 8, Bias: 0.000000, T: 50634, Avg. loss: 0.693143\n",
      "Total training time: 0.01 seconds.\n",
      "-- Epoch 3\n",
      "Norm: 0.04, NNZs: 8, Bias: 0.000000, T: 75951, Avg. loss: 0.693132\n",
      "Total training time: 0.02 seconds.\n",
      "-- Epoch 4\n",
      "Norm: 0.04, NNZs: 8, Bias: 0.000000, T: 101268, Avg. loss: 0.693126\n",
      "Total training time: 0.03 seconds.\n",
      "-- Epoch 5\n",
      "Norm: 0.04, NNZs: 7, Bias: 0.000000, T: 126585, Avg. loss: 0.693121\n",
      "Total training time: 0.03 seconds.\n",
      "-- Epoch 6\n",
      "Norm: 0.04, NNZs: 6, Bias: 0.000000, T: 151902, Avg. loss: 0.693118\n",
      "Total training time: 0.04 seconds.\n",
      "Convergence after 6 epochs took 0.04 seconds\n"
     ]
    },
    {
     "data": {
      "text/plain": [
       "GridSearchCV(cv=3, error_score=nan,\n",
       "             estimator=SGDClassifier(alpha=0.0001, average=False,\n",
       "                                     class_weight=None, early_stopping=False,\n",
       "                                     epsilon=0.1, eta0=0.0, fit_intercept=True,\n",
       "                                     l1_ratio=0.15, learning_rate='optimal',\n",
       "                                     loss='hinge', max_iter=1000,\n",
       "                                     n_iter_no_change=5, n_jobs=None,\n",
       "                                     penalty='l2', power_t=0.5,\n",
       "                                     random_state=None, shuffle=True, tol=0.001,\n",
       "                                     validation_fraction=0.1,...\n",
       "                         'learning_rate': ['constant', 'optimal', 'invscaling',\n",
       "                                           'adaptive'],\n",
       "                         'loss': ['hinge', 'log', 'modified_huber',\n",
       "                                  'squared_hinge', 'perceptron'],\n",
       "                         'n_jobs': [-1], 'penalty': ['l2', 'l1', 'elasticnet'],\n",
       "                         'random_state': [45], 'shuffle': [True, False],\n",
       "                         'validation_fraction': [0.2, 0.3], 'verbose': [2]},\n",
       "             pre_dispatch='2*n_jobs', refit=True, return_train_score=True,\n",
       "             scoring=None, verbose=1)"
      ]
     },
     "execution_count": 436,
     "metadata": {},
     "output_type": "execute_result"
    }
   ],
   "source": [
    "from sklearn.linear_model import SGDClassifier\n",
    "param ={'loss':['hinge', 'log', 'modified_huber', 'squared_hinge', 'perceptron'],\n",
    "       'alpha':[0.001,0.00001,0.0001],\n",
    "       'fit_intercept':[True,False],\n",
    "        'class_weight':['balanced'],\n",
    "        'validation_fraction':[0.2,0.3],\n",
    "        'eta0':[0.01,0.02,0.001],\n",
    "        'learning_rate':['constant','optimal','invscaling','adaptive'],\n",
    "        'random_state': [45],\n",
    "        'n_jobs':[-1],\n",
    "        'epsilon':[0.1,0.5,0.01],\n",
    "        'verbose':[2],\n",
    "        'shuffle':[True,False],\n",
    "        'penalty':['l2', 'l1', 'elasticnet']\n",
    "       }\n",
    "\n",
    "model = SGDClassifier()\n",
    "clf = GridSearchCV(estimator=model,param_grid=param,n_jobs=-1,cv=3,verbose=1,return_train_score=True)\n",
    "clf.fit(x_tr[new_feat_list],y_train)"
   ]
  },
  {
   "cell_type": "code",
   "execution_count": 437,
   "metadata": {},
   "outputs": [
    {
     "data": {
      "text/plain": [
       "(0.5081960737844136,\n",
       " {'alpha': 0.001,\n",
       "  'class_weight': 'balanced',\n",
       "  'epsilon': 0.1,\n",
       "  'eta0': 0.02,\n",
       "  'fit_intercept': False,\n",
       "  'learning_rate': 'invscaling',\n",
       "  'loss': 'log',\n",
       "  'n_jobs': -1,\n",
       "  'penalty': 'l1',\n",
       "  'random_state': 45,\n",
       "  'shuffle': False,\n",
       "  'validation_fraction': 0.2,\n",
       "  'verbose': 2})"
      ]
     },
     "execution_count": 437,
     "metadata": {},
     "output_type": "execute_result"
    }
   ],
   "source": [
    "clf.best_score_,clf.best_params_"
   ]
  },
  {
   "cell_type": "code",
   "execution_count": 457,
   "metadata": {},
   "outputs": [
    {
     "name": "stdout",
     "output_type": "stream",
     "text": [
      "-- Epoch 1\n",
      "Norm: 48.30, NNZs: 0, Bias: -0.145559, T: 25317, Avg. loss: 0.743601\n",
      "Total training time: 0.01 seconds.\n",
      "-- Epoch 2\n",
      "Norm: 48.45, NNZs: 1, Bias: -0.015367, T: 50634, Avg. loss: 0.695266\n",
      "Total training time: 0.02 seconds.\n",
      "-- Epoch 3\n",
      "Norm: 48.50, NNZs: 1, Bias: 0.010454, T: 75951, Avg. loss: 0.694518\n",
      "Total training time: 0.03 seconds.\n",
      "-- Epoch 4\n",
      "Norm: 48.53, NNZs: 1, Bias: -0.075088, T: 101268, Avg. loss: 0.694019\n",
      "Total training time: 0.04 seconds.\n",
      "-- Epoch 5\n",
      "Norm: 48.54, NNZs: 1, Bias: 0.045773, T: 126585, Avg. loss: 0.693944\n",
      "Total training time: 0.05 seconds.\n",
      "-- Epoch 6\n",
      "Norm: 48.55, NNZs: 1, Bias: -0.025119, T: 151902, Avg. loss: 0.693830\n",
      "Total training time: 0.06 seconds.\n",
      "-- Epoch 7\n",
      "Norm: 48.56, NNZs: 3, Bias: 0.037813, T: 177219, Avg. loss: 0.693611\n",
      "Total training time: 0.07 seconds.\n",
      "Convergence after 7 epochs took 0.07 seconds\n"
     ]
    },
    {
     "data": {
      "text/plain": [
       "SGDClassifier(alpha=0.001, average=False, class_weight='balanced',\n",
       "              early_stopping=False, epsilon=0.1, eta0=0.01, fit_intercept=True,\n",
       "              l1_ratio=0.15, learning_rate='optimal', loss='log', max_iter=1000,\n",
       "              n_iter_no_change=5, n_jobs=-1, penalty='l1', power_t=0.5,\n",
       "              random_state=45, shuffle=True, tol=0.001, validation_fraction=0.2,\n",
       "              verbose=2, warm_start=False)"
      ]
     },
     "execution_count": 457,
     "metadata": {},
     "output_type": "execute_result"
    }
   ],
   "source": [
    "model = SGDClassifier(alpha=0.001,class_weight='balanced',epsilon=0.1,eta0=0.01,fit_intercept=True,learning_rate='optimal',loss='log',\\\n",
    "                     n_jobs=-1,penalty='l1',random_state=45,shuffle=True,validation_fraction=0.2,max_iter=1000,verbose=2)\n",
    "model.fit(x_tr[new_feat_list],y_train)"
   ]
  },
  {
   "cell_type": "code",
   "execution_count": 458,
   "metadata": {},
   "outputs": [
    {
     "name": "stdout",
     "output_type": "stream",
     "text": [
      "Accuracy: 0.49691272693760946\n",
      "Precision: 0.49691272693760946\n",
      "Recall: 1.0\n",
      "f1 score: 0.6639167641445546\n"
     ]
    }
   ],
   "source": [
    "y_pred = model.predict(x_te[new_feat_list])\n",
    "print(\"Accuracy:\",metrics.accuracy_score(y_test, y_pred))\n",
    "print(\"Precision:\",metrics.precision_score(y_test, y_pred))\n",
    "print(\"Recall:\",metrics.recall_score(y_test, y_pred))\n",
    "print(\"f1 score:\",metrics.f1_score(y_test, y_pred))"
   ]
  },
  {
   "cell_type": "markdown",
   "metadata": {},
   "source": [
    "## Conclusion"
   ]
  },
  {
   "cell_type": "code",
   "execution_count": 442,
   "metadata": {},
   "outputs": [
    {
     "name": "stdout",
     "output_type": "stream",
     "text": [
      "+--------------------------------------+---------------------+---------------------+--------------------+--------------------+\n",
      "|              Classifier              |       Accuracy      |      Precision      |       Recall       |      F1 score      |\n",
      "+--------------------------------------+---------------------+---------------------+--------------------+--------------------+\n",
      "| XGBoost classifier on Normalize data |  0.6695235462169385 |  0.6197295147175815 | 0.8668397626112759 | 0.722746250193289  |\n",
      "|          XGBoost Classifier          |  0.6669092894186153 |  0.6172644856129287 | 0.8626514873301506 | 0.7196140001531746 |\n",
      "|     SGD Classifier with log loss     |  0.6307252787761497 |  0.6460046384145056 | 0.5682492581602374 | 0.6046373951652688 |\n",
      "|    XGBoost with selected features    |  0.5009676527508985 |  0.4985477964389443 | 0.7321958456973294 | 0.593193599278792  |\n",
      "|   XGBoost with all features (all)    | 0.49700488434245693 |  0.4958553127354936 | 0.7321958456973294 | 0.591283510558634  |\n",
      "|   SGD Classifier with new features   | 0.49691272693760946 | 0.49691272693760946 |        1.0         | 0.6639167641445546 |\n",
      "+--------------------------------------+---------------------+---------------------+--------------------+--------------------+\n"
     ]
    }
   ],
   "source": [
    "x = prettytable.PrettyTable()\n",
    "x.field_names = ['Classifier','Accuracy','Precision','Recall','F1 score']\n",
    "x.add_row([\"XGBoost Classifier\",0.6669092894186153,0.6172644856129287,0.8626514873301506,0.7196140001531746])\n",
    "x.add_row([\"XGBoost classifier on Normalize data\",0.6695235462169385,0.6197295147175815,0.8668397626112759,0.722746250193289])\n",
    "x.add_row([\"SGD Classifier with log loss\",0.6307252787761497,0.6460046384145056,0.5682492581602374,0.6046373951652688])\n",
    "x.add_row([\"XGBoost with all features (all)\",0.49700488434245693,0.4958553127354936,0.7321958456973294,0.591283510558634])\n",
    "x.add_row([\"XGBoost with selected features\",0.5009676527508985,0.4985477964389443,0.7321958456973294,0.593193599278792])\n",
    "x.add_row([\"SGD Classifier with new features\",0.49691272693760946,0.49691272693760946,1.0,0.6639167641445546])\n",
    "x.sortby = 'Accuracy'\n",
    "x.reversesort = True\n",
    "print(x)"
   ]
  },
  {
   "cell_type": "markdown",
   "metadata": {},
   "source": [
    "**XGBoost with normalized data performed better than other models.**"
   ]
  }
 ],
 "metadata": {
  "kernelspec": {
   "display_name": "Python 3.7.6 64-bit ('anaconda3': virtualenv)",
   "language": "python",
   "name": "python37664bitanaconda3virtualenvc1d28240486b4ea5b350e77ecdbe9c46"
  },
  "language_info": {
   "codemirror_mode": {
    "name": "ipython",
    "version": 3
   },
   "file_extension": ".py",
   "mimetype": "text/x-python",
   "name": "python",
   "nbconvert_exporter": "python",
   "pygments_lexer": "ipython3",
   "version": "3.7.6"
  }
 },
 "nbformat": 4,
 "nbformat_minor": 4
}
