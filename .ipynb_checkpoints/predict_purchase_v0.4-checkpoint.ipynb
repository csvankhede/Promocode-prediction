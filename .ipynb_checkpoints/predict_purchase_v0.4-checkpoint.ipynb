{
 "cells": [
  {
   "cell_type": "code",
   "execution_count": null,
   "metadata": {},
   "outputs": [],
   "source": []
  },
  {
   "cell_type": "code",
   "execution_count": 2,
   "metadata": {},
   "outputs": [],
   "source": [
    "import pandas as pd\n",
    "import numpy as np\n",
    "import matplotlib.pyplot as plt\n",
    "import seaborn as sbn\n",
    "import os\n",
    "from datetime import datetime\n",
    "import random\n",
    "from scipy import stats\n",
    "import gc\n",
    "import pickle"
   ]
  },
  {
   "cell_type": "code",
   "execution_count": 3,
   "metadata": {},
   "outputs": [],
   "source": [
    "data = pd.read_csv('Data/balanced/balanced_data.csv',names=['event_time','event_type','product_id','category_id','category_code','brand','price','user_id','user_session'])"
   ]
  },
  {
   "cell_type": "code",
   "execution_count": 4,
   "metadata": {},
   "outputs": [
    {
     "data": {
      "text/html": [
       "<div>\n",
       "<style scoped>\n",
       "    .dataframe tbody tr th:only-of-type {\n",
       "        vertical-align: middle;\n",
       "    }\n",
       "\n",
       "    .dataframe tbody tr th {\n",
       "        vertical-align: top;\n",
       "    }\n",
       "\n",
       "    .dataframe thead th {\n",
       "        text-align: right;\n",
       "    }\n",
       "</style>\n",
       "<table border=\"1\" class=\"dataframe\">\n",
       "  <thead>\n",
       "    <tr style=\"text-align: right;\">\n",
       "      <th></th>\n",
       "      <th>event_time</th>\n",
       "      <th>event_type</th>\n",
       "      <th>product_id</th>\n",
       "      <th>category_id</th>\n",
       "      <th>category_code</th>\n",
       "      <th>brand</th>\n",
       "      <th>price</th>\n",
       "      <th>user_id</th>\n",
       "      <th>user_session</th>\n",
       "    </tr>\n",
       "  </thead>\n",
       "  <tbody>\n",
       "    <tr>\n",
       "      <th>0</th>\n",
       "      <td>2019-10-01 00:09:33 UTC</td>\n",
       "      <td>cart</td>\n",
       "      <td>1002524</td>\n",
       "      <td>2053013555631882655</td>\n",
       "      <td>electronics.smartphone</td>\n",
       "      <td>apple</td>\n",
       "      <td>515.669983</td>\n",
       "      <td>524325294</td>\n",
       "      <td>0b74a829-f9d7-4654-b5b0-35bc9822c238</td>\n",
       "    </tr>\n",
       "    <tr>\n",
       "      <th>1</th>\n",
       "      <td>2019-10-01 00:11:00 UTC</td>\n",
       "      <td>cart</td>\n",
       "      <td>4804056</td>\n",
       "      <td>2053013554658804075</td>\n",
       "      <td>electronics.audio.headphone</td>\n",
       "      <td>apple</td>\n",
       "      <td>161.979996</td>\n",
       "      <td>533624186</td>\n",
       "      <td>e5ac3caa-e6d5-4d6b-ae06-2c18cd9ca683</td>\n",
       "    </tr>\n",
       "    <tr>\n",
       "      <th>2</th>\n",
       "      <td>2019-10-01 02:17:59 UTC</td>\n",
       "      <td>cart</td>\n",
       "      <td>1004833</td>\n",
       "      <td>2053013555631882655</td>\n",
       "      <td>electronics.smartphone</td>\n",
       "      <td>samsung</td>\n",
       "      <td>174.759995</td>\n",
       "      <td>536415846</td>\n",
       "      <td>685b5b42-f597-4a69-ab4c-ef96a30bc454</td>\n",
       "    </tr>\n",
       "    <tr>\n",
       "      <th>3</th>\n",
       "      <td>2019-10-01 02:19:36 UTC</td>\n",
       "      <td>cart</td>\n",
       "      <td>1005003</td>\n",
       "      <td>2053013555631882655</td>\n",
       "      <td>electronics.smartphone</td>\n",
       "      <td>huawei</td>\n",
       "      <td>258.209991</td>\n",
       "      <td>513632293</td>\n",
       "      <td>f2cc68f7-39d1-4a50-9dcf-f2a0921bdfda</td>\n",
       "    </tr>\n",
       "    <tr>\n",
       "      <th>4</th>\n",
       "      <td>2019-10-01 02:19:43 UTC</td>\n",
       "      <td>cart</td>\n",
       "      <td>1004750</td>\n",
       "      <td>2053013555631882655</td>\n",
       "      <td>electronics.smartphone</td>\n",
       "      <td>samsung</td>\n",
       "      <td>197.429993</td>\n",
       "      <td>555110488</td>\n",
       "      <td>ce885079-4d92-4fe6-92a3-377c5a2d8291</td>\n",
       "    </tr>\n",
       "  </tbody>\n",
       "</table>\n",
       "</div>"
      ],
      "text/plain": [
       "                event_time event_type  product_id          category_id  \\\n",
       "0  2019-10-01 00:09:33 UTC       cart     1002524  2053013555631882655   \n",
       "1  2019-10-01 00:11:00 UTC       cart     4804056  2053013554658804075   \n",
       "2  2019-10-01 02:17:59 UTC       cart     1004833  2053013555631882655   \n",
       "3  2019-10-01 02:19:36 UTC       cart     1005003  2053013555631882655   \n",
       "4  2019-10-01 02:19:43 UTC       cart     1004750  2053013555631882655   \n",
       "\n",
       "                 category_code    brand       price    user_id  \\\n",
       "0       electronics.smartphone    apple  515.669983  524325294   \n",
       "1  electronics.audio.headphone    apple  161.979996  533624186   \n",
       "2       electronics.smartphone  samsung  174.759995  536415846   \n",
       "3       electronics.smartphone   huawei  258.209991  513632293   \n",
       "4       electronics.smartphone  samsung  197.429993  555110488   \n",
       "\n",
       "                           user_session  \n",
       "0  0b74a829-f9d7-4654-b5b0-35bc9822c238  \n",
       "1  e5ac3caa-e6d5-4d6b-ae06-2c18cd9ca683  \n",
       "2  685b5b42-f597-4a69-ab4c-ef96a30bc454  \n",
       "3  f2cc68f7-39d1-4a50-9dcf-f2a0921bdfda  \n",
       "4  ce885079-4d92-4fe6-92a3-377c5a2d8291  "
      ]
     },
     "execution_count": 4,
     "metadata": {},
     "output_type": "execute_result"
    }
   ],
   "source": [
    "data.head()"
   ]
  },
  {
   "cell_type": "code",
   "execution_count": 5,
   "metadata": {},
   "outputs": [
    {
     "data": {
      "text/plain": [
       "purchase    549507\n",
       "cart        549507\n",
       "Name: event_type, dtype: int64"
      ]
     },
     "execution_count": 5,
     "metadata": {},
     "output_type": "execute_result"
    }
   ],
   "source": [
    "data.event_type.value_counts()"
   ]
  },
  {
   "cell_type": "code",
   "execution_count": 91,
   "metadata": {},
   "outputs": [
    {
     "data": {
      "text/html": [
       "<div>\n",
       "<style scoped>\n",
       "    .dataframe tbody tr th:only-of-type {\n",
       "        vertical-align: middle;\n",
       "    }\n",
       "\n",
       "    .dataframe tbody tr th {\n",
       "        vertical-align: top;\n",
       "    }\n",
       "\n",
       "    .dataframe thead th {\n",
       "        text-align: right;\n",
       "    }\n",
       "</style>\n",
       "<table border=\"1\" class=\"dataframe\">\n",
       "  <thead>\n",
       "    <tr style=\"text-align: right;\">\n",
       "      <th></th>\n",
       "      <th>product_id</th>\n",
       "      <th>category_id</th>\n",
       "      <th>price</th>\n",
       "      <th>user_id</th>\n",
       "    </tr>\n",
       "  </thead>\n",
       "  <tbody>\n",
       "    <tr>\n",
       "      <th>count</th>\n",
       "      <td>1.099014e+06</td>\n",
       "      <td>1.099014e+06</td>\n",
       "      <td>1.099014e+06</td>\n",
       "      <td>1.099014e+06</td>\n",
       "    </tr>\n",
       "    <tr>\n",
       "      <th>mean</th>\n",
       "      <td>2.599067e+06</td>\n",
       "      <td>2.054444e+18</td>\n",
       "      <td>3.690082e+02</td>\n",
       "      <td>5.356363e+08</td>\n",
       "    </tr>\n",
       "    <tr>\n",
       "      <th>std</th>\n",
       "      <td>4.145813e+06</td>\n",
       "      <td>1.249888e+16</td>\n",
       "      <td>3.647197e+02</td>\n",
       "      <td>1.811378e+07</td>\n",
       "    </tr>\n",
       "    <tr>\n",
       "      <th>min</th>\n",
       "      <td>1.000978e+06</td>\n",
       "      <td>2.053014e+18</td>\n",
       "      <td>8.800000e-01</td>\n",
       "      <td>2.843448e+08</td>\n",
       "    </tr>\n",
       "    <tr>\n",
       "      <th>25%</th>\n",
       "      <td>1.004767e+06</td>\n",
       "      <td>2.053014e+18</td>\n",
       "      <td>1.320500e+02</td>\n",
       "      <td>5.168388e+08</td>\n",
       "    </tr>\n",
       "    <tr>\n",
       "      <th>50%</th>\n",
       "      <td>1.004990e+06</td>\n",
       "      <td>2.053014e+18</td>\n",
       "      <td>2.307900e+02</td>\n",
       "      <td>5.355225e+08</td>\n",
       "    </tr>\n",
       "    <tr>\n",
       "      <th>75%</th>\n",
       "      <td>2.800433e+06</td>\n",
       "      <td>2.053014e+18</td>\n",
       "      <td>4.606300e+02</td>\n",
       "      <td>5.537484e+08</td>\n",
       "    </tr>\n",
       "    <tr>\n",
       "      <th>max</th>\n",
       "      <td>6.050000e+07</td>\n",
       "      <td>2.173217e+18</td>\n",
       "      <td>2.574040e+03</td>\n",
       "      <td>5.662783e+08</td>\n",
       "    </tr>\n",
       "  </tbody>\n",
       "</table>\n",
       "</div>"
      ],
      "text/plain": [
       "         product_id   category_id         price       user_id\n",
       "count  1.099014e+06  1.099014e+06  1.099014e+06  1.099014e+06\n",
       "mean   2.599067e+06  2.054444e+18  3.690082e+02  5.356363e+08\n",
       "std    4.145813e+06  1.249888e+16  3.647197e+02  1.811378e+07\n",
       "min    1.000978e+06  2.053014e+18  8.800000e-01  2.843448e+08\n",
       "25%    1.004767e+06  2.053014e+18  1.320500e+02  5.168388e+08\n",
       "50%    1.004990e+06  2.053014e+18  2.307900e+02  5.355225e+08\n",
       "75%    2.800433e+06  2.053014e+18  4.606300e+02  5.537484e+08\n",
       "max    6.050000e+07  2.173217e+18  2.574040e+03  5.662783e+08"
      ]
     },
     "execution_count": 91,
     "metadata": {},
     "output_type": "execute_result"
    }
   ],
   "source": [
    "data.describe()"
   ]
  },
  {
   "cell_type": "code",
   "execution_count": 92,
   "metadata": {},
   "outputs": [
    {
     "data": {
      "text/plain": [
       "(1099014, 9)"
      ]
     },
     "execution_count": 92,
     "metadata": {},
     "output_type": "execute_result"
    }
   ],
   "source": [
    "data.shape"
   ]
  },
  {
   "cell_type": "code",
   "execution_count": 93,
   "metadata": {},
   "outputs": [
    {
     "data": {
      "text/plain": [
       "Index(['event_time', 'event_type', 'product_id', 'category_id',\n",
       "       'category_code', 'brand', 'price', 'user_id', 'user_session'],\n",
       "      dtype='object')"
      ]
     },
     "execution_count": 93,
     "metadata": {},
     "output_type": "execute_result"
    }
   ],
   "source": [
    "data.columns"
   ]
  },
  {
   "cell_type": "markdown",
   "metadata": {},
   "source": [
    "## No. of users"
   ]
  },
  {
   "cell_type": "code",
   "execution_count": 94,
   "metadata": {},
   "outputs": [
    {
     "name": "stdout",
     "output_type": "stream",
     "text": [
      "Visitor:  343007\n"
     ]
    }
   ],
   "source": [
    "visitors = data.user_id.nunique()\n",
    "print('Visitor: ',visitors)"
   ]
  },
  {
   "cell_type": "markdown",
   "metadata": {},
   "source": [
    "## Daily visitors"
   ]
  },
  {
   "cell_type": "code",
   "execution_count": 95,
   "metadata": {},
   "outputs": [],
   "source": [
    "d = data.loc[:,['event_time','user_id']]\n",
    "d['event_time'] = d['event_time'].apply(lambda x: str(x)[:10])"
   ]
  },
  {
   "cell_type": "code",
   "execution_count": 96,
   "metadata": {},
   "outputs": [],
   "source": [
    "visitor_by_date = d.drop_duplicates().groupby(['event_time'])['user_id'].agg(['count']).sort_values(by=['event_time'], ascending=True)"
   ]
  },
  {
   "cell_type": "code",
   "execution_count": 97,
   "metadata": {},
   "outputs": [
    {
     "data": {
      "image/png": "[encoded data removed]",
      "text/plain": [
       "<Figure size 1440x576 with 1 Axes>"
      ]
     },
     "metadata": {
      "needs_background": "light"
     },
     "output_type": "display_data"
    }
   ],
   "source": [
    "x = pd.Series(visitor_by_date.index.values).apply(lambda x:datetime.strptime(x,'%Y-%m-%d').date())\n",
    "y = visitor_by_date['count']\n",
    "plt.figure(figsize=(20,8))\n",
    "plt.plot(x,y)\n",
    "plt.show()"
   ]
  },
  {
   "cell_type": "markdown",
   "metadata": {},
   "source": [
    "## Most interected product categories"
   ]
  },
  {
   "cell_type": "code",
   "execution_count": 98,
   "metadata": {},
   "outputs": [
    {
     "data": {
      "image/png": "[encoded data removed]",
      "text/plain": [
       "<Figure size 1080x1080 with 1 Axes>"
      ]
     },
     "metadata": {},
     "output_type": "display_data"
    }
   ],
   "source": [
    "cat_code = data.category_code.value_counts()[:30].sort_values(ascending=False)\n",
    "plt.figure(figsize=(15,15))\n",
    "plt.pie(cat_code,labels=cat_code.keys())\n",
    "plt.title('Most interected produt categories')\n",
    "plt.show()"
   ]
  },
  {
   "cell_type": "markdown",
   "metadata": {},
   "source": [
    "## Distribution of the event type "
   ]
  },
  {
   "cell_type": "code",
   "execution_count": 3,
   "metadata": {},
   "outputs": [
    {
     "data": {
      "image/png": "[encoded data removed]",
      "text/plain": [
       "<Figure size 1800x576 with 1 Axes>"
      ]
     },
     "metadata": {
      "needs_background": "light"
     },
     "output_type": "display_data"
    }
   ],
   "source": [
    "# https://datascience.stackexchange.com/a/48044/91657\n",
    "plt.figure(figsize=(25,8))\n",
    "l = data.event_type.value_counts().index\n",
    "ax = sbn.countplot(x='event_type',data=data,order=l)\n",
    "total = len(data)\n",
    "for p in ax.patches:\n",
    "        percentage = '{:.1f}%'.format(100 * p.get_height()/total)\n",
    "        x = p.get_x() + p.get_width()/2 -.1\n",
    "        y = p.get_y() + p.get_height()*1.015\n",
    "        ax.annotate(percentage, (x, y),fontsize=15)\n",
    "plt.xlabel('Event types',fontsize=25)\n",
    "plt.ylabel('Counts',fontsize=25)\n",
    "plt.title('Count of the event',fontsize=30)\n",
    "plt.xticks(fontsize=20)\n",
    "plt.yticks(fontsize=15)\n",
    "plt.grid()\n",
    "plt.show()\n",
    "\n",
    "# plt.figure(figsize=(25,8))\n",
    "# data[\"binned_week\"] = data.timestamp.dt.week\n",
    "# binned =data.groupby('binned_week')['event_type'].agg('count').values\n",
    "# ax = sbn.countplot(x='binned_week',hue='event_type',data=data,hue_order=l)\n",
    "# i =0\n",
    "# for p in ax.patches:\n",
    "#         percentage = '{:.1f}%'.format(100 * p.get_height()/binned[i//4])\n",
    "#         i+=1\n",
    "#         x = p.get_x() + p.get_width()/2 -.1\n",
    "#         y = p.get_y() + p.get_height()*1.015\n",
    "#         ax.annotate(percentage, (x, y),fontsize=15)\n",
    "# plt.xlabel('Event types',fontsize=25)\n",
    "# plt.ylabel('Counts',fontsize=25)\n",
    "# plt.title('Count of the event in each week',fontsize=30)\n",
    "# labels = ['week 1','week 2','week 3','week 4','week 5']\n",
    "# plt.xticks([0,1,2,3,4],labels,fontsize=20)\n",
    "# plt.yticks(fontsize=15)\n",
    "# plt.grid()\n",
    "# plt.legend(fontsize=16)\n",
    "# plt.show()"
   ]
  },
  {
   "cell_type": "markdown",
   "metadata": {},
   "source": [
    "## What kind of products are purchased?"
   ]
  },
  {
   "cell_type": "code",
   "execution_count": 100,
   "metadata": {},
   "outputs": [
    {
     "data": {
      "text/html": [
       "<div>\n",
       "<style scoped>\n",
       "    .dataframe tbody tr th:only-of-type {\n",
       "        vertical-align: middle;\n",
       "    }\n",
       "\n",
       "    .dataframe tbody tr th {\n",
       "        vertical-align: top;\n",
       "    }\n",
       "\n",
       "    .dataframe thead th {\n",
       "        text-align: right;\n",
       "    }\n",
       "</style>\n",
       "<table border=\"1\" class=\"dataframe\">\n",
       "  <thead>\n",
       "    <tr style=\"text-align: right;\">\n",
       "      <th></th>\n",
       "      <th>category_code</th>\n",
       "      <th>price</th>\n",
       "      <th>brand</th>\n",
       "    </tr>\n",
       "  </thead>\n",
       "  <tbody>\n",
       "    <tr>\n",
       "      <th>549507</th>\n",
       "      <td>electronics.smartphone</td>\n",
       "      <td>130.759995</td>\n",
       "      <td>samsung</td>\n",
       "    </tr>\n",
       "    <tr>\n",
       "      <th>549508</th>\n",
       "      <td>electronics.smartphone</td>\n",
       "      <td>642.690002</td>\n",
       "      <td>apple</td>\n",
       "    </tr>\n",
       "    <tr>\n",
       "      <th>549509</th>\n",
       "      <td>furniture.bathroom.toilet</td>\n",
       "      <td>54.419998</td>\n",
       "      <td>santeri</td>\n",
       "    </tr>\n",
       "    <tr>\n",
       "      <th>549510</th>\n",
       "      <td>electronics.audio.headphone</td>\n",
       "      <td>189.910004</td>\n",
       "      <td>apple</td>\n",
       "    </tr>\n",
       "    <tr>\n",
       "      <th>549511</th>\n",
       "      <td>electronics.audio.headphone</td>\n",
       "      <td>161.979996</td>\n",
       "      <td>apple</td>\n",
       "    </tr>\n",
       "    <tr>\n",
       "      <th>549512</th>\n",
       "      <td>electronics.smartphone</td>\n",
       "      <td>515.669983</td>\n",
       "      <td>apple</td>\n",
       "    </tr>\n",
       "    <tr>\n",
       "      <th>549513</th>\n",
       "      <td>appliances.environment.air_heater</td>\n",
       "      <td>28.030001</td>\n",
       "      <td>oasis</td>\n",
       "    </tr>\n",
       "    <tr>\n",
       "      <th>549514</th>\n",
       "      <td>electronics.audio.headphone</td>\n",
       "      <td>171.559998</td>\n",
       "      <td>apple</td>\n",
       "    </tr>\n",
       "    <tr>\n",
       "      <th>549515</th>\n",
       "      <td>electronics.smartphone</td>\n",
       "      <td>463.309998</td>\n",
       "      <td>vivo</td>\n",
       "    </tr>\n",
       "    <tr>\n",
       "      <th>549516</th>\n",
       "      <td>electronics.smartphone</td>\n",
       "      <td>736.179993</td>\n",
       "      <td>apple</td>\n",
       "    </tr>\n",
       "  </tbody>\n",
       "</table>\n",
       "</div>"
      ],
      "text/plain": [
       "                            category_code       price    brand\n",
       "549507             electronics.smartphone  130.759995  samsung\n",
       "549508             electronics.smartphone  642.690002    apple\n",
       "549509          furniture.bathroom.toilet   54.419998  santeri\n",
       "549510        electronics.audio.headphone  189.910004    apple\n",
       "549511        electronics.audio.headphone  161.979996    apple\n",
       "549512             electronics.smartphone  515.669983    apple\n",
       "549513  appliances.environment.air_heater   28.030001    oasis\n",
       "549514        electronics.audio.headphone  171.559998    apple\n",
       "549515             electronics.smartphone  463.309998     vivo\n",
       "549516             electronics.smartphone  736.179993    apple"
      ]
     },
     "execution_count": 100,
     "metadata": {},
     "output_type": "execute_result"
    }
   ],
   "source": [
    "purchase= data[data['event_type']=='purchase'][['category_code','price','brand']]\n",
    "purchase.dropna(inplace=True)\n",
    "purchase.head(10)"
   ]
  },
  {
   "cell_type": "markdown",
   "metadata": {},
   "source": [
    "## Top seller brands"
   ]
  },
  {
   "cell_type": "code",
   "execution_count": 101,
   "metadata": {},
   "outputs": [
    {
     "data": {
      "text/html": [
       "<div>\n",
       "<style scoped>\n",
       "    .dataframe tbody tr th:only-of-type {\n",
       "        vertical-align: middle;\n",
       "    }\n",
       "\n",
       "    .dataframe tbody tr th {\n",
       "        vertical-align: top;\n",
       "    }\n",
       "\n",
       "    .dataframe thead th {\n",
       "        text-align: right;\n",
       "    }\n",
       "</style>\n",
       "<table border=\"1\" class=\"dataframe\">\n",
       "  <thead>\n",
       "    <tr style=\"text-align: right;\">\n",
       "      <th></th>\n",
       "      <th>count</th>\n",
       "    </tr>\n",
       "    <tr>\n",
       "      <th>brand</th>\n",
       "      <th></th>\n",
       "    </tr>\n",
       "  </thead>\n",
       "  <tbody>\n",
       "    <tr>\n",
       "      <th>samsung</th>\n",
       "      <td>376473</td>\n",
       "    </tr>\n",
       "    <tr>\n",
       "      <th>apple</th>\n",
       "      <td>285782</td>\n",
       "    </tr>\n",
       "    <tr>\n",
       "      <th>xiaomi</th>\n",
       "      <td>103832</td>\n",
       "    </tr>\n",
       "    <tr>\n",
       "      <th>huawei</th>\n",
       "      <td>52209</td>\n",
       "    </tr>\n",
       "    <tr>\n",
       "      <th>oppo</th>\n",
       "      <td>23954</td>\n",
       "    </tr>\n",
       "    <tr>\n",
       "      <th>lg</th>\n",
       "      <td>16072</td>\n",
       "    </tr>\n",
       "    <tr>\n",
       "      <th>acer</th>\n",
       "      <td>13017</td>\n",
       "    </tr>\n",
       "    <tr>\n",
       "      <th>elenberg</th>\n",
       "      <td>9938</td>\n",
       "    </tr>\n",
       "    <tr>\n",
       "      <th>indesit</th>\n",
       "      <td>9561</td>\n",
       "    </tr>\n",
       "    <tr>\n",
       "      <th>artel</th>\n",
       "      <td>8437</td>\n",
       "    </tr>\n",
       "    <tr>\n",
       "      <th>bosch</th>\n",
       "      <td>7665</td>\n",
       "    </tr>\n",
       "    <tr>\n",
       "      <th>beko</th>\n",
       "      <td>7131</td>\n",
       "    </tr>\n",
       "    <tr>\n",
       "      <th>lenovo</th>\n",
       "      <td>6854</td>\n",
       "    </tr>\n",
       "    <tr>\n",
       "      <th>haier</th>\n",
       "      <td>6202</td>\n",
       "    </tr>\n",
       "    <tr>\n",
       "      <th>hp</th>\n",
       "      <td>5449</td>\n",
       "    </tr>\n",
       "    <tr>\n",
       "      <th>tefal</th>\n",
       "      <td>4800</td>\n",
       "    </tr>\n",
       "    <tr>\n",
       "      <th>starline</th>\n",
       "      <td>4700</td>\n",
       "    </tr>\n",
       "    <tr>\n",
       "      <th>nokia</th>\n",
       "      <td>4683</td>\n",
       "    </tr>\n",
       "    <tr>\n",
       "      <th>vivo</th>\n",
       "      <td>4336</td>\n",
       "    </tr>\n",
       "    <tr>\n",
       "      <th>sony</th>\n",
       "      <td>4321</td>\n",
       "    </tr>\n",
       "  </tbody>\n",
       "</table>\n",
       "</div>"
      ],
      "text/plain": [
       "           count\n",
       "brand           \n",
       "samsung   376473\n",
       "apple     285782\n",
       "xiaomi    103832\n",
       "huawei     52209\n",
       "oppo       23954\n",
       "lg         16072\n",
       "acer       13017\n",
       "elenberg    9938\n",
       "indesit     9561\n",
       "artel       8437\n",
       "bosch       7665\n",
       "beko        7131\n",
       "lenovo      6854\n",
       "haier       6202\n",
       "hp          5449\n",
       "tefal       4800\n",
       "starline    4700\n",
       "nokia       4683\n",
       "vivo        4336\n",
       "sony        4321"
      ]
     },
     "execution_count": 101,
     "metadata": {},
     "output_type": "execute_result"
    }
   ],
   "source": [
    "top_brands = data.groupby('brand')['brand'].agg(['count']).sort_values('count',ascending=False)\n",
    "top_brands.head(20)"
   ]
  },
  {
   "cell_type": "markdown",
   "metadata": {},
   "source": [
    "## Add new features\n",
    "* category_code_level1: category\n",
    "* category_code_level2: sub-category\n",
    "* event_weekday: weekday of the event\n",
    "* activity_count: number of activity in that session\n",
    "* is_purchased: whether the put in cart item is purchased"
   ]
  },
  {
   "cell_type": "code",
   "execution_count": 6,
   "metadata": {},
   "outputs": [
    {
     "data": {
      "text/html": [
       "<div>\n",
       "<style scoped>\n",
       "    .dataframe tbody tr th:only-of-type {\n",
       "        vertical-align: middle;\n",
       "    }\n",
       "\n",
       "    .dataframe tbody tr th {\n",
       "        vertical-align: top;\n",
       "    }\n",
       "\n",
       "    .dataframe thead th {\n",
       "        text-align: right;\n",
       "    }\n",
       "</style>\n",
       "<table border=\"1\" class=\"dataframe\">\n",
       "  <thead>\n",
       "    <tr style=\"text-align: right;\">\n",
       "      <th></th>\n",
       "      <th>event_time</th>\n",
       "      <th>event_type</th>\n",
       "      <th>product_id</th>\n",
       "      <th>category_id</th>\n",
       "      <th>category_code</th>\n",
       "      <th>brand</th>\n",
       "      <th>price</th>\n",
       "      <th>user_id</th>\n",
       "      <th>user_session</th>\n",
       "    </tr>\n",
       "  </thead>\n",
       "  <tbody>\n",
       "    <tr>\n",
       "      <th>0</th>\n",
       "      <td>2019-10-01 00:09:33 UTC</td>\n",
       "      <td>cart</td>\n",
       "      <td>1002524</td>\n",
       "      <td>2053013555631882655</td>\n",
       "      <td>electronics.smartphone</td>\n",
       "      <td>apple</td>\n",
       "      <td>515.669983</td>\n",
       "      <td>524325294</td>\n",
       "      <td>0b74a829-f9d7-4654-b5b0-35bc9822c238</td>\n",
       "    </tr>\n",
       "    <tr>\n",
       "      <th>1</th>\n",
       "      <td>2019-10-01 00:11:00 UTC</td>\n",
       "      <td>cart</td>\n",
       "      <td>4804056</td>\n",
       "      <td>2053013554658804075</td>\n",
       "      <td>electronics.audio.headphone</td>\n",
       "      <td>apple</td>\n",
       "      <td>161.979996</td>\n",
       "      <td>533624186</td>\n",
       "      <td>e5ac3caa-e6d5-4d6b-ae06-2c18cd9ca683</td>\n",
       "    </tr>\n",
       "    <tr>\n",
       "      <th>2</th>\n",
       "      <td>2019-10-01 02:17:59 UTC</td>\n",
       "      <td>cart</td>\n",
       "      <td>1004833</td>\n",
       "      <td>2053013555631882655</td>\n",
       "      <td>electronics.smartphone</td>\n",
       "      <td>samsung</td>\n",
       "      <td>174.759995</td>\n",
       "      <td>536415846</td>\n",
       "      <td>685b5b42-f597-4a69-ab4c-ef96a30bc454</td>\n",
       "    </tr>\n",
       "    <tr>\n",
       "      <th>3</th>\n",
       "      <td>2019-10-01 02:19:36 UTC</td>\n",
       "      <td>cart</td>\n",
       "      <td>1005003</td>\n",
       "      <td>2053013555631882655</td>\n",
       "      <td>electronics.smartphone</td>\n",
       "      <td>huawei</td>\n",
       "      <td>258.209991</td>\n",
       "      <td>513632293</td>\n",
       "      <td>f2cc68f7-39d1-4a50-9dcf-f2a0921bdfda</td>\n",
       "    </tr>\n",
       "    <tr>\n",
       "      <th>4</th>\n",
       "      <td>2019-10-01 02:19:43 UTC</td>\n",
       "      <td>cart</td>\n",
       "      <td>1004750</td>\n",
       "      <td>2053013555631882655</td>\n",
       "      <td>electronics.smartphone</td>\n",
       "      <td>samsung</td>\n",
       "      <td>197.429993</td>\n",
       "      <td>555110488</td>\n",
       "      <td>ce885079-4d92-4fe6-92a3-377c5a2d8291</td>\n",
       "    </tr>\n",
       "  </tbody>\n",
       "</table>\n",
       "</div>"
      ],
      "text/plain": [
       "                event_time event_type  product_id          category_id  \\\n",
       "0  2019-10-01 00:09:33 UTC       cart     1002524  2053013555631882655   \n",
       "1  2019-10-01 00:11:00 UTC       cart     4804056  2053013554658804075   \n",
       "2  2019-10-01 02:17:59 UTC       cart     1004833  2053013555631882655   \n",
       "3  2019-10-01 02:19:36 UTC       cart     1005003  2053013555631882655   \n",
       "4  2019-10-01 02:19:43 UTC       cart     1004750  2053013555631882655   \n",
       "\n",
       "                 category_code    brand       price    user_id  \\\n",
       "0       electronics.smartphone    apple  515.669983  524325294   \n",
       "1  electronics.audio.headphone    apple  161.979996  533624186   \n",
       "2       electronics.smartphone  samsung  174.759995  536415846   \n",
       "3       electronics.smartphone   huawei  258.209991  513632293   \n",
       "4       electronics.smartphone  samsung  197.429993  555110488   \n",
       "\n",
       "                           user_session  \n",
       "0  0b74a829-f9d7-4654-b5b0-35bc9822c238  \n",
       "1  e5ac3caa-e6d5-4d6b-ae06-2c18cd9ca683  \n",
       "2  685b5b42-f597-4a69-ab4c-ef96a30bc454  \n",
       "3  f2cc68f7-39d1-4a50-9dcf-f2a0921bdfda  \n",
       "4  ce885079-4d92-4fe6-92a3-377c5a2d8291  "
      ]
     },
     "execution_count": 6,
     "metadata": {},
     "output_type": "execute_result"
    }
   ],
   "source": [
    "data.drop_duplicates(subset=['event_type','product_id','price','user_id','user_session'],inplace=True)\n",
    "data.head()"
   ]
  },
  {
   "cell_type": "code",
   "execution_count": 7,
   "metadata": {},
   "outputs": [
    {
     "data": {
      "text/plain": [
       "purchase    507566\n",
       "cart        369036\n",
       "Name: event_type, dtype: int64"
      ]
     },
     "execution_count": 7,
     "metadata": {},
     "output_type": "execute_result"
    }
   ],
   "source": [
    "data.event_type.value_counts()"
   ]
  },
  {
   "cell_type": "code",
   "execution_count": 8,
   "metadata": {},
   "outputs": [],
   "source": [
    "data['is_purchased'] = data['event_type']\n",
    "data['is_purchased'] = data['is_purchased'].map({'purchase':1,'cart':0})\n",
    "data['is_purchased'] = data.groupby(['user_session','product_id'])['is_purchased'].transform('max')\n",
    "# add week day of the record\n",
    "data['event_weekday'] = data['event_time'].apply(lambda x:str(datetime.strptime(str(x)[:10],'%Y-%m-%d').weekday()))\n",
    "data['hour'] = data['event_time'].apply(lambda x:str(datetime.strptime(str(x)[:-4],'%Y-%m-%d %H:%M:%S').hour))\n",
    "data['day'] = data['event_time'].apply(lambda x:str(datetime.strptime(str(x)[:-4],'%Y-%m-%d %H:%M:%S').day))\n",
    "\n",
    "# add level 1 and 2 category\n",
    "data[\"category_code_level1\"] = data[\"category_code\"].str.split(\".\",expand=True)[0]\n",
    "data[\"category_code_level2\"] = data[\"category_code\"].str.split(\".\",expand=True)[1]\n",
    "data['event_time'] = data['event_time'].apply(lambda x:datetime.strptime(str(x)[:-4],'%Y-%m-%d %H:%M:%S'))"
   ]
  },
  {
   "cell_type": "code",
   "execution_count": 7,
   "metadata": {},
   "outputs": [
    {
     "data": {
      "text/plain": [
       "1    692208\n",
       "0    184394\n",
       "Name: is_purchased, dtype: int64"
      ]
     },
     "execution_count": 7,
     "metadata": {},
     "output_type": "execute_result"
    }
   ],
   "source": [
    "data.is_purchased.value_counts()"
   ]
  },
  {
   "cell_type": "code",
   "execution_count": 8,
   "metadata": {},
   "outputs": [
    {
     "data": {
      "text/plain": [
       "event_time              0\n",
       "event_type              0\n",
       "product_id              0\n",
       "category_id             0\n",
       "category_code           0\n",
       "brand                   0\n",
       "price                   0\n",
       "user_id                 0\n",
       "user_session            0\n",
       "is_purchased            0\n",
       "event_weekday           0\n",
       "hour                    0\n",
       "day                     0\n",
       "category_code_level1    0\n",
       "category_code_level2    0\n",
       "dtype: int64"
      ]
     },
     "execution_count": 8,
     "metadata": {},
     "output_type": "execute_result"
    }
   ],
   "source": [
    "data.isna().sum()"
   ]
  },
  {
   "cell_type": "code",
   "execution_count": 9,
   "metadata": {},
   "outputs": [
    {
     "data": {
      "text/html": [
       "<div>\n",
       "<style scoped>\n",
       "    .dataframe tbody tr th:only-of-type {\n",
       "        vertical-align: middle;\n",
       "    }\n",
       "\n",
       "    .dataframe tbody tr th {\n",
       "        vertical-align: top;\n",
       "    }\n",
       "\n",
       "    .dataframe thead th {\n",
       "        text-align: right;\n",
       "    }\n",
       "</style>\n",
       "<table border=\"1\" class=\"dataframe\">\n",
       "  <thead>\n",
       "    <tr style=\"text-align: right;\">\n",
       "      <th></th>\n",
       "      <th>event_time</th>\n",
       "      <th>event_type</th>\n",
       "      <th>product_id</th>\n",
       "      <th>category_id</th>\n",
       "      <th>category_code</th>\n",
       "      <th>brand</th>\n",
       "      <th>price</th>\n",
       "      <th>user_id</th>\n",
       "      <th>user_session</th>\n",
       "      <th>day</th>\n",
       "      <th>is_purchased</th>\n",
       "      <th>event_weekday</th>\n",
       "      <th>hour</th>\n",
       "      <th>category_code_level1</th>\n",
       "      <th>category_code_level2</th>\n",
       "    </tr>\n",
       "  </thead>\n",
       "  <tbody>\n",
       "    <tr>\n",
       "      <th>0</th>\n",
       "      <td>2019-10-01 00:09:33</td>\n",
       "      <td>cart</td>\n",
       "      <td>1002524</td>\n",
       "      <td>2053013555631882655</td>\n",
       "      <td>electronics.smartphone</td>\n",
       "      <td>apple</td>\n",
       "      <td>515.669983</td>\n",
       "      <td>524325294</td>\n",
       "      <td>0b74a829-f9d7-4654-b5b0-35bc9822c238</td>\n",
       "      <td>1</td>\n",
       "      <td>1</td>\n",
       "      <td>1</td>\n",
       "      <td>0</td>\n",
       "      <td>electronics</td>\n",
       "      <td>smartphone</td>\n",
       "    </tr>\n",
       "    <tr>\n",
       "      <th>1</th>\n",
       "      <td>2019-10-01 00:11:00</td>\n",
       "      <td>cart</td>\n",
       "      <td>4804056</td>\n",
       "      <td>2053013554658804075</td>\n",
       "      <td>electronics.audio.headphone</td>\n",
       "      <td>apple</td>\n",
       "      <td>161.979996</td>\n",
       "      <td>533624186</td>\n",
       "      <td>e5ac3caa-e6d5-4d6b-ae06-2c18cd9ca683</td>\n",
       "      <td>1</td>\n",
       "      <td>0</td>\n",
       "      <td>1</td>\n",
       "      <td>0</td>\n",
       "      <td>electronics</td>\n",
       "      <td>audio</td>\n",
       "    </tr>\n",
       "    <tr>\n",
       "      <th>2</th>\n",
       "      <td>2019-10-01 02:17:59</td>\n",
       "      <td>cart</td>\n",
       "      <td>1004833</td>\n",
       "      <td>2053013555631882655</td>\n",
       "      <td>electronics.smartphone</td>\n",
       "      <td>samsung</td>\n",
       "      <td>174.759995</td>\n",
       "      <td>536415846</td>\n",
       "      <td>685b5b42-f597-4a69-ab4c-ef96a30bc454</td>\n",
       "      <td>1</td>\n",
       "      <td>0</td>\n",
       "      <td>1</td>\n",
       "      <td>2</td>\n",
       "      <td>electronics</td>\n",
       "      <td>smartphone</td>\n",
       "    </tr>\n",
       "    <tr>\n",
       "      <th>3</th>\n",
       "      <td>2019-10-01 02:19:36</td>\n",
       "      <td>cart</td>\n",
       "      <td>1005003</td>\n",
       "      <td>2053013555631882655</td>\n",
       "      <td>electronics.smartphone</td>\n",
       "      <td>huawei</td>\n",
       "      <td>258.209991</td>\n",
       "      <td>513632293</td>\n",
       "      <td>f2cc68f7-39d1-4a50-9dcf-f2a0921bdfda</td>\n",
       "      <td>1</td>\n",
       "      <td>1</td>\n",
       "      <td>1</td>\n",
       "      <td>2</td>\n",
       "      <td>electronics</td>\n",
       "      <td>smartphone</td>\n",
       "    </tr>\n",
       "    <tr>\n",
       "      <th>4</th>\n",
       "      <td>2019-10-01 02:19:43</td>\n",
       "      <td>cart</td>\n",
       "      <td>1004750</td>\n",
       "      <td>2053013555631882655</td>\n",
       "      <td>electronics.smartphone</td>\n",
       "      <td>samsung</td>\n",
       "      <td>197.429993</td>\n",
       "      <td>555110488</td>\n",
       "      <td>ce885079-4d92-4fe6-92a3-377c5a2d8291</td>\n",
       "      <td>1</td>\n",
       "      <td>1</td>\n",
       "      <td>1</td>\n",
       "      <td>2</td>\n",
       "      <td>electronics</td>\n",
       "      <td>smartphone</td>\n",
       "    </tr>\n",
       "  </tbody>\n",
       "</table>\n",
       "</div>"
      ],
      "text/plain": [
       "           event_time event_type  product_id          category_id  \\\n",
       "0 2019-10-01 00:09:33       cart     1002524  2053013555631882655   \n",
       "1 2019-10-01 00:11:00       cart     4804056  2053013554658804075   \n",
       "2 2019-10-01 02:17:59       cart     1004833  2053013555631882655   \n",
       "3 2019-10-01 02:19:36       cart     1005003  2053013555631882655   \n",
       "4 2019-10-01 02:19:43       cart     1004750  2053013555631882655   \n",
       "\n",
       "                 category_code    brand       price    user_id  \\\n",
       "0       electronics.smartphone    apple  515.669983  524325294   \n",
       "1  electronics.audio.headphone    apple  161.979996  533624186   \n",
       "2       electronics.smartphone  samsung  174.759995  536415846   \n",
       "3       electronics.smartphone   huawei  258.209991  513632293   \n",
       "4       electronics.smartphone  samsung  197.429993  555110488   \n",
       "\n",
       "                           user_session day  is_purchased event_weekday hour  \\\n",
       "0  0b74a829-f9d7-4654-b5b0-35bc9822c238   1             1             1    0   \n",
       "1  e5ac3caa-e6d5-4d6b-ae06-2c18cd9ca683   1             0             1    0   \n",
       "2  685b5b42-f597-4a69-ab4c-ef96a30bc454   1             0             1    2   \n",
       "3  f2cc68f7-39d1-4a50-9dcf-f2a0921bdfda   1             1             1    2   \n",
       "4  ce885079-4d92-4fe6-92a3-377c5a2d8291   1             1             1    2   \n",
       "\n",
       "  category_code_level1 category_code_level2  \n",
       "0          electronics           smartphone  \n",
       "1          electronics                audio  \n",
       "2          electronics           smartphone  \n",
       "3          electronics           smartphone  \n",
       "4          electronics           smartphone  "
      ]
     },
     "execution_count": 9,
     "metadata": {},
     "output_type": "execute_result"
    }
   ],
   "source": [
    "data.head()"
   ]
  },
  {
   "cell_type": "markdown",
   "metadata": {},
   "source": [
    "## User activity in session"
   ]
  },
  {
   "cell_type": "code",
   "execution_count": 9,
   "metadata": {},
   "outputs": [],
   "source": [
    "user = data.groupby(['user_session'])['event_type'].count().reset_index()\n",
    "user.rename(columns={'event_type':'activity_count'},inplace=True)"
   ]
  },
  {
   "cell_type": "code",
   "execution_count": 10,
   "metadata": {},
   "outputs": [
    {
     "data": {
      "text/html": [
       "<div>\n",
       "<style scoped>\n",
       "    .dataframe tbody tr th:only-of-type {\n",
       "        vertical-align: middle;\n",
       "    }\n",
       "\n",
       "    .dataframe tbody tr th {\n",
       "        vertical-align: top;\n",
       "    }\n",
       "\n",
       "    .dataframe thead th {\n",
       "        text-align: right;\n",
       "    }\n",
       "</style>\n",
       "<table border=\"1\" class=\"dataframe\">\n",
       "  <thead>\n",
       "    <tr style=\"text-align: right;\">\n",
       "      <th></th>\n",
       "      <th>user_session</th>\n",
       "      <th>activity_count</th>\n",
       "    </tr>\n",
       "  </thead>\n",
       "  <tbody>\n",
       "    <tr>\n",
       "      <th>0</th>\n",
       "      <td>00000083-8816-4d58-a9b8-f52f54186edc</td>\n",
       "      <td>2</td>\n",
       "    </tr>\n",
       "    <tr>\n",
       "      <th>1</th>\n",
       "      <td>000001fd-1f89-45e8-a3ce-fe3218cabfad</td>\n",
       "      <td>1</td>\n",
       "    </tr>\n",
       "    <tr>\n",
       "      <th>2</th>\n",
       "      <td>00004ada-8f93-49a6-956d-4ed71ae94791</td>\n",
       "      <td>1</td>\n",
       "    </tr>\n",
       "    <tr>\n",
       "      <th>3</th>\n",
       "      <td>00005026-a9d1-4e2b-8290-3cc14e4bad89</td>\n",
       "      <td>3</td>\n",
       "    </tr>\n",
       "    <tr>\n",
       "      <th>4</th>\n",
       "      <td>00005b76-13ba-4afe-b80d-2f2b337d3e92</td>\n",
       "      <td>2</td>\n",
       "    </tr>\n",
       "  </tbody>\n",
       "</table>\n",
       "</div>"
      ],
      "text/plain": [
       "                           user_session  activity_count\n",
       "0  00000083-8816-4d58-a9b8-f52f54186edc               2\n",
       "1  000001fd-1f89-45e8-a3ce-fe3218cabfad               1\n",
       "2  00004ada-8f93-49a6-956d-4ed71ae94791               1\n",
       "3  00005026-a9d1-4e2b-8290-3cc14e4bad89               3\n",
       "4  00005b76-13ba-4afe-b80d-2f2b337d3e92               2"
      ]
     },
     "execution_count": 10,
     "metadata": {},
     "output_type": "execute_result"
    }
   ],
   "source": [
    "user.head()"
   ]
  },
  {
   "cell_type": "code",
   "execution_count": 11,
   "metadata": {},
   "outputs": [
    {
     "data": {
      "text/html": [
       "<div>\n",
       "<style scoped>\n",
       "    .dataframe tbody tr th:only-of-type {\n",
       "        vertical-align: middle;\n",
       "    }\n",
       "\n",
       "    .dataframe tbody tr th {\n",
       "        vertical-align: top;\n",
       "    }\n",
       "\n",
       "    .dataframe thead th {\n",
       "        text-align: right;\n",
       "    }\n",
       "</style>\n",
       "<table border=\"1\" class=\"dataframe\">\n",
       "  <thead>\n",
       "    <tr style=\"text-align: right;\">\n",
       "      <th></th>\n",
       "      <th>event_time</th>\n",
       "      <th>event_type</th>\n",
       "      <th>product_id</th>\n",
       "      <th>category_id</th>\n",
       "      <th>category_code</th>\n",
       "      <th>brand</th>\n",
       "      <th>price</th>\n",
       "      <th>user_id</th>\n",
       "      <th>user_session</th>\n",
       "      <th>is_purchased</th>\n",
       "      <th>event_weekday</th>\n",
       "      <th>hour</th>\n",
       "      <th>day</th>\n",
       "      <th>category_code_level1</th>\n",
       "      <th>category_code_level2</th>\n",
       "      <th>activity_count</th>\n",
       "    </tr>\n",
       "  </thead>\n",
       "  <tbody>\n",
       "    <tr>\n",
       "      <th>0</th>\n",
       "      <td>2019-10-01 00:09:33</td>\n",
       "      <td>cart</td>\n",
       "      <td>1002524</td>\n",
       "      <td>2053013555631882655</td>\n",
       "      <td>electronics.smartphone</td>\n",
       "      <td>apple</td>\n",
       "      <td>515.669983</td>\n",
       "      <td>524325294</td>\n",
       "      <td>0b74a829-f9d7-4654-b5b0-35bc9822c238</td>\n",
       "      <td>1</td>\n",
       "      <td>1</td>\n",
       "      <td>0</td>\n",
       "      <td>1</td>\n",
       "      <td>electronics</td>\n",
       "      <td>smartphone</td>\n",
       "      <td>2</td>\n",
       "    </tr>\n",
       "    <tr>\n",
       "      <th>1</th>\n",
       "      <td>2019-10-01 00:11:00</td>\n",
       "      <td>cart</td>\n",
       "      <td>4804056</td>\n",
       "      <td>2053013554658804075</td>\n",
       "      <td>electronics.audio.headphone</td>\n",
       "      <td>apple</td>\n",
       "      <td>161.979996</td>\n",
       "      <td>533624186</td>\n",
       "      <td>e5ac3caa-e6d5-4d6b-ae06-2c18cd9ca683</td>\n",
       "      <td>0</td>\n",
       "      <td>1</td>\n",
       "      <td>0</td>\n",
       "      <td>1</td>\n",
       "      <td>electronics</td>\n",
       "      <td>audio</td>\n",
       "      <td>2</td>\n",
       "    </tr>\n",
       "    <tr>\n",
       "      <th>2</th>\n",
       "      <td>2019-10-01 02:17:59</td>\n",
       "      <td>cart</td>\n",
       "      <td>1004833</td>\n",
       "      <td>2053013555631882655</td>\n",
       "      <td>electronics.smartphone</td>\n",
       "      <td>samsung</td>\n",
       "      <td>174.759995</td>\n",
       "      <td>536415846</td>\n",
       "      <td>685b5b42-f597-4a69-ab4c-ef96a30bc454</td>\n",
       "      <td>0</td>\n",
       "      <td>1</td>\n",
       "      <td>2</td>\n",
       "      <td>1</td>\n",
       "      <td>electronics</td>\n",
       "      <td>smartphone</td>\n",
       "      <td>1</td>\n",
       "    </tr>\n",
       "    <tr>\n",
       "      <th>3</th>\n",
       "      <td>2019-10-01 02:19:36</td>\n",
       "      <td>cart</td>\n",
       "      <td>1005003</td>\n",
       "      <td>2053013555631882655</td>\n",
       "      <td>electronics.smartphone</td>\n",
       "      <td>huawei</td>\n",
       "      <td>258.209991</td>\n",
       "      <td>513632293</td>\n",
       "      <td>f2cc68f7-39d1-4a50-9dcf-f2a0921bdfda</td>\n",
       "      <td>1</td>\n",
       "      <td>1</td>\n",
       "      <td>2</td>\n",
       "      <td>1</td>\n",
       "      <td>electronics</td>\n",
       "      <td>smartphone</td>\n",
       "      <td>4</td>\n",
       "    </tr>\n",
       "    <tr>\n",
       "      <th>4</th>\n",
       "      <td>2019-10-01 02:19:43</td>\n",
       "      <td>cart</td>\n",
       "      <td>1004750</td>\n",
       "      <td>2053013555631882655</td>\n",
       "      <td>electronics.smartphone</td>\n",
       "      <td>samsung</td>\n",
       "      <td>197.429993</td>\n",
       "      <td>555110488</td>\n",
       "      <td>ce885079-4d92-4fe6-92a3-377c5a2d8291</td>\n",
       "      <td>1</td>\n",
       "      <td>1</td>\n",
       "      <td>2</td>\n",
       "      <td>1</td>\n",
       "      <td>electronics</td>\n",
       "      <td>smartphone</td>\n",
       "      <td>4</td>\n",
       "    </tr>\n",
       "  </tbody>\n",
       "</table>\n",
       "</div>"
      ],
      "text/plain": [
       "           event_time event_type  product_id          category_id  \\\n",
       "0 2019-10-01 00:09:33       cart     1002524  2053013555631882655   \n",
       "1 2019-10-01 00:11:00       cart     4804056  2053013554658804075   \n",
       "2 2019-10-01 02:17:59       cart     1004833  2053013555631882655   \n",
       "3 2019-10-01 02:19:36       cart     1005003  2053013555631882655   \n",
       "4 2019-10-01 02:19:43       cart     1004750  2053013555631882655   \n",
       "\n",
       "                 category_code    brand       price    user_id  \\\n",
       "0       electronics.smartphone    apple  515.669983  524325294   \n",
       "1  electronics.audio.headphone    apple  161.979996  533624186   \n",
       "2       electronics.smartphone  samsung  174.759995  536415846   \n",
       "3       electronics.smartphone   huawei  258.209991  513632293   \n",
       "4       electronics.smartphone  samsung  197.429993  555110488   \n",
       "\n",
       "                           user_session  is_purchased event_weekday hour day  \\\n",
       "0  0b74a829-f9d7-4654-b5b0-35bc9822c238             1             1    0   1   \n",
       "1  e5ac3caa-e6d5-4d6b-ae06-2c18cd9ca683             0             1    0   1   \n",
       "2  685b5b42-f597-4a69-ab4c-ef96a30bc454             0             1    2   1   \n",
       "3  f2cc68f7-39d1-4a50-9dcf-f2a0921bdfda             1             1    2   1   \n",
       "4  ce885079-4d92-4fe6-92a3-377c5a2d8291             1             1    2   1   \n",
       "\n",
       "  category_code_level1 category_code_level2  activity_count  \n",
       "0          electronics           smartphone               2  \n",
       "1          electronics                audio               2  \n",
       "2          electronics           smartphone               1  \n",
       "3          electronics           smartphone               4  \n",
       "4          electronics           smartphone               4  "
      ]
     },
     "execution_count": 11,
     "metadata": {},
     "output_type": "execute_result"
    }
   ],
   "source": [
    "data = data.merge(user, on='user_session', how='left')\n",
    "data['activity_count'] = data['activity_count'].fillna(0)\n",
    "data.head()"
   ]
  },
  {
   "cell_type": "code",
   "execution_count": 12,
   "metadata": {},
   "outputs": [],
   "source": [
    "price = data.groupby(['user_id','user_session'])['price'].agg(['mean','min','max']).reset_index()\n",
    "data = data.merge(price, on=['user_id','user_session'], how='left')"
   ]
  },
  {
   "cell_type": "code",
   "execution_count": 13,
   "metadata": {},
   "outputs": [
    {
     "data": {
      "text/html": [
       "<div>\n",
       "<style scoped>\n",
       "    .dataframe tbody tr th:only-of-type {\n",
       "        vertical-align: middle;\n",
       "    }\n",
       "\n",
       "    .dataframe tbody tr th {\n",
       "        vertical-align: top;\n",
       "    }\n",
       "\n",
       "    .dataframe thead th {\n",
       "        text-align: right;\n",
       "    }\n",
       "</style>\n",
       "<table border=\"1\" class=\"dataframe\">\n",
       "  <thead>\n",
       "    <tr style=\"text-align: right;\">\n",
       "      <th></th>\n",
       "      <th>user_id</th>\n",
       "      <th>user_session</th>\n",
       "      <th>mean</th>\n",
       "      <th>min</th>\n",
       "      <th>max</th>\n",
       "    </tr>\n",
       "  </thead>\n",
       "  <tbody>\n",
       "    <tr>\n",
       "      <th>0</th>\n",
       "      <td>284344819</td>\n",
       "      <td>19d0e430-c732-4e3a-9bfd-369de705b314</td>\n",
       "      <td>1055.060059</td>\n",
       "      <td>1055.060059</td>\n",
       "      <td>1055.060059</td>\n",
       "    </tr>\n",
       "    <tr>\n",
       "      <th>1</th>\n",
       "      <td>293957954</td>\n",
       "      <td>ef4f8622-b955-45d8-891e-21cf96540b97</td>\n",
       "      <td>191.770004</td>\n",
       "      <td>191.770004</td>\n",
       "      <td>191.770004</td>\n",
       "    </tr>\n",
       "    <tr>\n",
       "      <th>2</th>\n",
       "      <td>303160429</td>\n",
       "      <td>8957377b-66b3-4661-ae91-5c2b5e29fd0e</td>\n",
       "      <td>340.589996</td>\n",
       "      <td>340.589996</td>\n",
       "      <td>340.589996</td>\n",
       "    </tr>\n",
       "    <tr>\n",
       "      <th>3</th>\n",
       "      <td>318611205</td>\n",
       "      <td>69ae0c1f-fbcb-4aec-9533-aba774488f25</td>\n",
       "      <td>54.799999</td>\n",
       "      <td>54.799999</td>\n",
       "      <td>54.799999</td>\n",
       "    </tr>\n",
       "    <tr>\n",
       "      <th>4</th>\n",
       "      <td>318611205</td>\n",
       "      <td>d11b8a6f-d2d2-4fff-9e07-c7c930d5c493</td>\n",
       "      <td>252.639999</td>\n",
       "      <td>252.639999</td>\n",
       "      <td>252.639999</td>\n",
       "    </tr>\n",
       "  </tbody>\n",
       "</table>\n",
       "</div>"
      ],
      "text/plain": [
       "     user_id                          user_session         mean          min  \\\n",
       "0  284344819  19d0e430-c732-4e3a-9bfd-369de705b314  1055.060059  1055.060059   \n",
       "1  293957954  ef4f8622-b955-45d8-891e-21cf96540b97   191.770004   191.770004   \n",
       "2  303160429  8957377b-66b3-4661-ae91-5c2b5e29fd0e   340.589996   340.589996   \n",
       "3  318611205  69ae0c1f-fbcb-4aec-9533-aba774488f25    54.799999    54.799999   \n",
       "4  318611205  d11b8a6f-d2d2-4fff-9e07-c7c930d5c493   252.639999   252.639999   \n",
       "\n",
       "           max  \n",
       "0  1055.060059  \n",
       "1   191.770004  \n",
       "2   340.589996  \n",
       "3    54.799999  \n",
       "4   252.639999  "
      ]
     },
     "execution_count": 13,
     "metadata": {},
     "output_type": "execute_result"
    }
   ],
   "source": [
    "price.head()"
   ]
  },
  {
   "cell_type": "code",
   "execution_count": 14,
   "metadata": {},
   "outputs": [],
   "source": [
    "brand = data.groupby(['user_id','user_session'])['brand'].agg(lambda x:stats.mode(x)[0]).reset_index()\n",
    "data = data.merge(brand, on=['user_id','user_session'], how='left',suffixes=('','_most'))"
   ]
  },
  {
   "cell_type": "code",
   "execution_count": 76,
   "metadata": {},
   "outputs": [],
   "source": [
    "cat = data.groupby(['user_id','user_session'])[['category_code_level1','category_code_level2']].agg(lambda x:stats.mode(x)[0]).reset_index()\n",
    "data = data.merge(cat, on=['user_id','user_session'], how='left',suffixes=('','_most'))"
   ]
  },
  {
   "cell_type": "code",
   "execution_count": 77,
   "metadata": {},
   "outputs": [
    {
     "data": {
      "text/plain": [
       "event_time                   datetime64[ns]\n",
       "event_type                           object\n",
       "product_id                            int64\n",
       "category_id                           int64\n",
       "category_code                        object\n",
       "brand                                object\n",
       "price                               float64\n",
       "user_id                               int64\n",
       "user_session                         object\n",
       "is_purchased                          int64\n",
       "event_weekday                        object\n",
       "hour                                 object\n",
       "day                                  object\n",
       "category_code_level1                 object\n",
       "category_code_level2                 object\n",
       "activity_count                        int64\n",
       "mean                                float64\n",
       "min                                 float64\n",
       "max                                 float64\n",
       "brand_most                           object\n",
       "category_code_level1_most            object\n",
       "category_code_level2_most            object\n",
       "dtype: object"
      ]
     },
     "execution_count": 77,
     "metadata": {},
     "output_type": "execute_result"
    }
   ],
   "source": [
    "data.dtypes"
   ]
  },
  {
   "cell_type": "markdown",
   "metadata": {},
   "source": [
    "## Add similarity features"
   ]
  },
  {
   "cell_type": "code",
   "execution_count": 81,
   "metadata": {},
   "outputs": [],
   "source": [
    "%timeit\n",
    "data[['prev_activity_count','prev_is_purchased','prev_mean','prev_min','prev_max','prev_brand_most','freq_cat1','freq_cat2']] =\\\n",
    "data.groupby(['user_id','user_session'])[['activity_count','is_purchased','mean','min','max','brand_most','category_code_level1_most','category_code_level2_most']].shift(1)"
   ]
  },
  {
   "cell_type": "code",
   "execution_count": 101,
   "metadata": {},
   "outputs": [],
   "source": [
    "from sklearn.model_selection import train_test_split\n",
    "train,test = train_test_split(data,test_size=0.3)"
   ]
  },
  {
   "cell_type": "code",
   "execution_count": 102,
   "metadata": {},
   "outputs": [
    {
     "name": "stderr",
     "output_type": "stream",
     "text": [
      "/home/csvankhede/anaconda3/lib/python3.7/site-packages/pandas/core/frame.py:4133: SettingWithCopyWarning: \n",
      "A value is trying to be set on a copy of a slice from a DataFrame\n",
      "\n",
      "See the caveats in the documentation: https://pandas.pydata.org/pandas-docs/stable/user_guide/indexing.html#returning-a-view-versus-a-copy\n",
      "  errors=errors,\n"
     ]
    }
   ],
   "source": [
    "train.rename(columns={'mean':'price_mean','min':'price_min','max':'price_max'},inplace=True)"
   ]
  },
  {
   "cell_type": "code",
   "execution_count": 103,
   "metadata": {},
   "outputs": [
    {
     "name": "stderr",
     "output_type": "stream",
     "text": [
      "/home/csvankhede/anaconda3/lib/python3.7/site-packages/ipykernel_launcher.py:1: SettingWithCopyWarning: \n",
      "A value is trying to be set on a copy of a slice from a DataFrame.\n",
      "Try using .loc[row_indexer,col_indexer] = value instead\n",
      "\n",
      "See the caveats in the documentation: https://pandas.pydata.org/pandas-docs/stable/user_guide/indexing.html#returning-a-view-versus-a-copy\n",
      "  \"\"\"Entry point for launching an IPython kernel.\n"
     ]
    }
   ],
   "source": [
    "train['brand_count'] = train.groupby('brand')['brand'].transform('count')"
   ]
  },
  {
   "cell_type": "code",
   "execution_count": 104,
   "metadata": {},
   "outputs": [
    {
     "data": {
      "text/html": [
       "<div>\n",
       "<style scoped>\n",
       "    .dataframe tbody tr th:only-of-type {\n",
       "        vertical-align: middle;\n",
       "    }\n",
       "\n",
       "    .dataframe tbody tr th {\n",
       "        vertical-align: top;\n",
       "    }\n",
       "\n",
       "    .dataframe thead th {\n",
       "        text-align: right;\n",
       "    }\n",
       "</style>\n",
       "<table border=\"1\" class=\"dataframe\">\n",
       "  <thead>\n",
       "    <tr style=\"text-align: right;\">\n",
       "      <th></th>\n",
       "      <th>event_time</th>\n",
       "      <th>event_type</th>\n",
       "      <th>product_id</th>\n",
       "      <th>category_id</th>\n",
       "      <th>category_code</th>\n",
       "      <th>brand</th>\n",
       "      <th>price</th>\n",
       "      <th>user_id</th>\n",
       "      <th>user_session</th>\n",
       "      <th>is_purchased</th>\n",
       "      <th>...</th>\n",
       "      <th>prev_activity_count</th>\n",
       "      <th>prev_is_purchased</th>\n",
       "      <th>prev_mean</th>\n",
       "      <th>prev_min</th>\n",
       "      <th>prev_max</th>\n",
       "      <th>prev_brand_most</th>\n",
       "      <th>freq_cat1</th>\n",
       "      <th>freq_cat2</th>\n",
       "      <th>brand_count</th>\n",
       "      <th>purchase_ratio</th>\n",
       "    </tr>\n",
       "  </thead>\n",
       "  <tbody>\n",
       "    <tr>\n",
       "      <th>442700</th>\n",
       "      <td>2019-10-05 16:39:38</td>\n",
       "      <td>purchase</td>\n",
       "      <td>21404711</td>\n",
       "      <td>2053013561579406073</td>\n",
       "      <td>electronics.clocks</td>\n",
       "      <td>orient</td>\n",
       "      <td>75.680000</td>\n",
       "      <td>544881812</td>\n",
       "      <td>915fff3d-82cf-4a0b-92e8-86589e332532</td>\n",
       "      <td>1</td>\n",
       "      <td>...</td>\n",
       "      <td>0.0</td>\n",
       "      <td>0.0</td>\n",
       "      <td>0.000000</td>\n",
       "      <td>0.000000</td>\n",
       "      <td>0.000000</td>\n",
       "      <td>0</td>\n",
       "      <td>0</td>\n",
       "      <td>0</td>\n",
       "      <td>174</td>\n",
       "      <td>0.000000</td>\n",
       "    </tr>\n",
       "    <tr>\n",
       "      <th>498750</th>\n",
       "      <td>2019-10-09 12:11:59</td>\n",
       "      <td>purchase</td>\n",
       "      <td>1004873</td>\n",
       "      <td>2053013555631882655</td>\n",
       "      <td>electronics.smartphone</td>\n",
       "      <td>samsung</td>\n",
       "      <td>379.570007</td>\n",
       "      <td>538661929</td>\n",
       "      <td>77e25ffa-f123-4485-80eb-a3f2d69a1f79</td>\n",
       "      <td>1</td>\n",
       "      <td>...</td>\n",
       "      <td>4.0</td>\n",
       "      <td>1.0</td>\n",
       "      <td>325.820007</td>\n",
       "      <td>272.070007</td>\n",
       "      <td>379.570007</td>\n",
       "      <td>huawei</td>\n",
       "      <td>electronics</td>\n",
       "      <td>smartphone</td>\n",
       "      <td>203938</td>\n",
       "      <td>0.857143</td>\n",
       "    </tr>\n",
       "    <tr>\n",
       "      <th>324897</th>\n",
       "      <td>2019-10-19 13:13:58</td>\n",
       "      <td>cart</td>\n",
       "      <td>1004767</td>\n",
       "      <td>2053013555631882655</td>\n",
       "      <td>electronics.smartphone</td>\n",
       "      <td>samsung</td>\n",
       "      <td>249.860001</td>\n",
       "      <td>561914405</td>\n",
       "      <td>27a6261b-6545-481a-a0b1-7f98edf007b2</td>\n",
       "      <td>1</td>\n",
       "      <td>...</td>\n",
       "      <td>4.0</td>\n",
       "      <td>1.0</td>\n",
       "      <td>190.695000</td>\n",
       "      <td>131.529999</td>\n",
       "      <td>249.860001</td>\n",
       "      <td>samsung</td>\n",
       "      <td>electronics</td>\n",
       "      <td>smartphone</td>\n",
       "      <td>203938</td>\n",
       "      <td>1.000000</td>\n",
       "    </tr>\n",
       "    <tr>\n",
       "      <th>464982</th>\n",
       "      <td>2019-10-07 07:53:47</td>\n",
       "      <td>purchase</td>\n",
       "      <td>1004833</td>\n",
       "      <td>2053013555631882655</td>\n",
       "      <td>electronics.smartphone</td>\n",
       "      <td>samsung</td>\n",
       "      <td>173.880005</td>\n",
       "      <td>555549773</td>\n",
       "      <td>db5e50b3-5437-4e0a-8cd7-041ff32564dc</td>\n",
       "      <td>1</td>\n",
       "      <td>...</td>\n",
       "      <td>2.0</td>\n",
       "      <td>1.0</td>\n",
       "      <td>173.880005</td>\n",
       "      <td>173.880005</td>\n",
       "      <td>173.880005</td>\n",
       "      <td>samsung</td>\n",
       "      <td>electronics</td>\n",
       "      <td>smartphone</td>\n",
       "      <td>203938</td>\n",
       "      <td>1.000000</td>\n",
       "    </tr>\n",
       "    <tr>\n",
       "      <th>36520</th>\n",
       "      <td>2019-10-04 06:14:19</td>\n",
       "      <td>cart</td>\n",
       "      <td>1004767</td>\n",
       "      <td>2053013555631882655</td>\n",
       "      <td>electronics.smartphone</td>\n",
       "      <td>samsung</td>\n",
       "      <td>252.850006</td>\n",
       "      <td>553412356</td>\n",
       "      <td>aea8ea6e-fc13-4458-a141-fb37dec4bd8d</td>\n",
       "      <td>0</td>\n",
       "      <td>...</td>\n",
       "      <td>0.0</td>\n",
       "      <td>0.0</td>\n",
       "      <td>0.000000</td>\n",
       "      <td>0.000000</td>\n",
       "      <td>0.000000</td>\n",
       "      <td>0</td>\n",
       "      <td>0</td>\n",
       "      <td>0</td>\n",
       "      <td>203938</td>\n",
       "      <td>0.000000</td>\n",
       "    </tr>\n",
       "  </tbody>\n",
       "</table>\n",
       "<p>5 rows × 32 columns</p>\n",
       "</div>"
      ],
      "text/plain": [
       "                event_time event_type  product_id          category_id  \\\n",
       "442700 2019-10-05 16:39:38   purchase    21404711  2053013561579406073   \n",
       "498750 2019-10-09 12:11:59   purchase     1004873  2053013555631882655   \n",
       "324897 2019-10-19 13:13:58       cart     1004767  2053013555631882655   \n",
       "464982 2019-10-07 07:53:47   purchase     1004833  2053013555631882655   \n",
       "36520  2019-10-04 06:14:19       cart     1004767  2053013555631882655   \n",
       "\n",
       "                 category_code    brand       price    user_id  \\\n",
       "442700      electronics.clocks   orient   75.680000  544881812   \n",
       "498750  electronics.smartphone  samsung  379.570007  538661929   \n",
       "324897  electronics.smartphone  samsung  249.860001  561914405   \n",
       "464982  electronics.smartphone  samsung  173.880005  555549773   \n",
       "36520   electronics.smartphone  samsung  252.850006  553412356   \n",
       "\n",
       "                                user_session  is_purchased  ...  \\\n",
       "442700  915fff3d-82cf-4a0b-92e8-86589e332532             1  ...   \n",
       "498750  77e25ffa-f123-4485-80eb-a3f2d69a1f79             1  ...   \n",
       "324897  27a6261b-6545-481a-a0b1-7f98edf007b2             1  ...   \n",
       "464982  db5e50b3-5437-4e0a-8cd7-041ff32564dc             1  ...   \n",
       "36520   aea8ea6e-fc13-4458-a141-fb37dec4bd8d             0  ...   \n",
       "\n",
       "       prev_activity_count prev_is_purchased   prev_mean    prev_min  \\\n",
       "442700                 0.0               0.0    0.000000    0.000000   \n",
       "498750                 4.0               1.0  325.820007  272.070007   \n",
       "324897                 4.0               1.0  190.695000  131.529999   \n",
       "464982                 2.0               1.0  173.880005  173.880005   \n",
       "36520                  0.0               0.0    0.000000    0.000000   \n",
       "\n",
       "          prev_max  prev_brand_most    freq_cat1   freq_cat2  brand_count  \\\n",
       "442700    0.000000                0            0           0          174   \n",
       "498750  379.570007           huawei  electronics  smartphone       203938   \n",
       "324897  249.860001          samsung  electronics  smartphone       203938   \n",
       "464982  173.880005          samsung  electronics  smartphone       203938   \n",
       "36520     0.000000                0            0           0       203938   \n",
       "\n",
       "       purchase_ratio  \n",
       "442700       0.000000  \n",
       "498750       0.857143  \n",
       "324897       1.000000  \n",
       "464982       1.000000  \n",
       "36520        0.000000  \n",
       "\n",
       "[5 rows x 32 columns]"
      ]
     },
     "execution_count": 104,
     "metadata": {},
     "output_type": "execute_result"
    }
   ],
   "source": [
    "train = train.join(train.groupby('user_id')['prev_is_purchased'].agg(purchase_ratio='mean'),on='user_id',how='left')\n",
    "train.fillna(0,inplace=True)\n",
    "train.head()"
   ]
  },
  {
   "cell_type": "code",
   "execution_count": 105,
   "metadata": {},
   "outputs": [
    {
     "data": {
      "text/plain": [
       "Index(['event_time', 'event_type', 'product_id', 'category_id',\n",
       "       'category_code', 'brand', 'price', 'user_id', 'user_session',\n",
       "       'is_purchased', 'event_weekday', 'hour', 'day', 'category_code_level1',\n",
       "       'category_code_level2', 'activity_count', 'price_mean', 'price_min',\n",
       "       'price_max', 'brand_most', 'category_code_level1_most',\n",
       "       'category_code_level2_most', 'prev_activity_count', 'prev_is_purchased',\n",
       "       'prev_mean', 'prev_min', 'prev_max', 'prev_brand_most', 'freq_cat1',\n",
       "       'freq_cat2', 'brand_count', 'purchase_ratio'],\n",
       "      dtype='object')"
      ]
     },
     "execution_count": 105,
     "metadata": {},
     "output_type": "execute_result"
    }
   ],
   "source": [
    "train.columns"
   ]
  },
  {
   "cell_type": "code",
   "execution_count": 99,
   "metadata": {},
   "outputs": [],
   "source": [
    "train.to_csv('Data/train.csv')"
   ]
  },
  {
   "cell_type": "code",
   "execution_count": 106,
   "metadata": {},
   "outputs": [],
   "source": [
    "x_train = train[['brand','price','event_weekday','hour','day','category_code_level1',\n",
    "       'category_code_level2', 'activity_count', 'price_mean', 'price_min',\n",
    "       'price_max', 'brand_most', 'category_code_level1_most',\n",
    "       'category_code_level2_most', 'prev_activity_count', 'prev_is_purchased',\n",
    "       'prev_mean', 'prev_min', 'prev_max', 'prev_brand_most', 'freq_cat1',\n",
    "       'freq_cat2', 'purchase_ratio', 'brand_count']]"
   ]
  },
  {
   "cell_type": "code",
   "execution_count": 107,
   "metadata": {},
   "outputs": [],
   "source": [
    "y_train = train['is_purchased']"
   ]
  },
  {
   "cell_type": "code",
   "execution_count": 108,
   "metadata": {},
   "outputs": [
    {
     "data": {
      "text/html": [
       "<div>\n",
       "<style scoped>\n",
       "    .dataframe tbody tr th:only-of-type {\n",
       "        vertical-align: middle;\n",
       "    }\n",
       "\n",
       "    .dataframe tbody tr th {\n",
       "        vertical-align: top;\n",
       "    }\n",
       "\n",
       "    .dataframe thead th {\n",
       "        text-align: right;\n",
       "    }\n",
       "</style>\n",
       "<table border=\"1\" class=\"dataframe\">\n",
       "  <thead>\n",
       "    <tr style=\"text-align: right;\">\n",
       "      <th></th>\n",
       "      <th>brand</th>\n",
       "      <th>price</th>\n",
       "      <th>event_weekday</th>\n",
       "      <th>hour</th>\n",
       "      <th>day</th>\n",
       "      <th>category_code_level1</th>\n",
       "      <th>category_code_level2</th>\n",
       "      <th>activity_count</th>\n",
       "      <th>price_mean</th>\n",
       "      <th>price_min</th>\n",
       "      <th>...</th>\n",
       "      <th>prev_activity_count</th>\n",
       "      <th>prev_is_purchased</th>\n",
       "      <th>prev_mean</th>\n",
       "      <th>prev_min</th>\n",
       "      <th>prev_max</th>\n",
       "      <th>prev_brand_most</th>\n",
       "      <th>freq_cat1</th>\n",
       "      <th>freq_cat2</th>\n",
       "      <th>purchase_ratio</th>\n",
       "      <th>brand_count</th>\n",
       "    </tr>\n",
       "  </thead>\n",
       "  <tbody>\n",
       "    <tr>\n",
       "      <th>442700</th>\n",
       "      <td>orient</td>\n",
       "      <td>75.680000</td>\n",
       "      <td>5</td>\n",
       "      <td>16</td>\n",
       "      <td>5</td>\n",
       "      <td>electronics</td>\n",
       "      <td>clocks</td>\n",
       "      <td>1</td>\n",
       "      <td>75.680000</td>\n",
       "      <td>75.680000</td>\n",
       "      <td>...</td>\n",
       "      <td>0.0</td>\n",
       "      <td>0.0</td>\n",
       "      <td>0.000000</td>\n",
       "      <td>0.000000</td>\n",
       "      <td>0.000000</td>\n",
       "      <td>0</td>\n",
       "      <td>0</td>\n",
       "      <td>0</td>\n",
       "      <td>0.000000</td>\n",
       "      <td>174</td>\n",
       "    </tr>\n",
       "    <tr>\n",
       "      <th>498750</th>\n",
       "      <td>samsung</td>\n",
       "      <td>379.570007</td>\n",
       "      <td>2</td>\n",
       "      <td>12</td>\n",
       "      <td>9</td>\n",
       "      <td>electronics</td>\n",
       "      <td>smartphone</td>\n",
       "      <td>4</td>\n",
       "      <td>325.820007</td>\n",
       "      <td>272.070007</td>\n",
       "      <td>...</td>\n",
       "      <td>4.0</td>\n",
       "      <td>1.0</td>\n",
       "      <td>325.820007</td>\n",
       "      <td>272.070007</td>\n",
       "      <td>379.570007</td>\n",
       "      <td>huawei</td>\n",
       "      <td>electronics</td>\n",
       "      <td>smartphone</td>\n",
       "      <td>0.857143</td>\n",
       "      <td>203938</td>\n",
       "    </tr>\n",
       "    <tr>\n",
       "      <th>324897</th>\n",
       "      <td>samsung</td>\n",
       "      <td>249.860001</td>\n",
       "      <td>5</td>\n",
       "      <td>13</td>\n",
       "      <td>19</td>\n",
       "      <td>electronics</td>\n",
       "      <td>smartphone</td>\n",
       "      <td>4</td>\n",
       "      <td>190.695000</td>\n",
       "      <td>131.529999</td>\n",
       "      <td>...</td>\n",
       "      <td>4.0</td>\n",
       "      <td>1.0</td>\n",
       "      <td>190.695000</td>\n",
       "      <td>131.529999</td>\n",
       "      <td>249.860001</td>\n",
       "      <td>samsung</td>\n",
       "      <td>electronics</td>\n",
       "      <td>smartphone</td>\n",
       "      <td>1.000000</td>\n",
       "      <td>203938</td>\n",
       "    </tr>\n",
       "    <tr>\n",
       "      <th>464982</th>\n",
       "      <td>samsung</td>\n",
       "      <td>173.880005</td>\n",
       "      <td>0</td>\n",
       "      <td>7</td>\n",
       "      <td>7</td>\n",
       "      <td>electronics</td>\n",
       "      <td>smartphone</td>\n",
       "      <td>2</td>\n",
       "      <td>173.880005</td>\n",
       "      <td>173.880005</td>\n",
       "      <td>...</td>\n",
       "      <td>2.0</td>\n",
       "      <td>1.0</td>\n",
       "      <td>173.880005</td>\n",
       "      <td>173.880005</td>\n",
       "      <td>173.880005</td>\n",
       "      <td>samsung</td>\n",
       "      <td>electronics</td>\n",
       "      <td>smartphone</td>\n",
       "      <td>1.000000</td>\n",
       "      <td>203938</td>\n",
       "    </tr>\n",
       "    <tr>\n",
       "      <th>36520</th>\n",
       "      <td>samsung</td>\n",
       "      <td>252.850006</td>\n",
       "      <td>4</td>\n",
       "      <td>6</td>\n",
       "      <td>4</td>\n",
       "      <td>electronics</td>\n",
       "      <td>smartphone</td>\n",
       "      <td>1</td>\n",
       "      <td>252.850006</td>\n",
       "      <td>252.850006</td>\n",
       "      <td>...</td>\n",
       "      <td>0.0</td>\n",
       "      <td>0.0</td>\n",
       "      <td>0.000000</td>\n",
       "      <td>0.000000</td>\n",
       "      <td>0.000000</td>\n",
       "      <td>0</td>\n",
       "      <td>0</td>\n",
       "      <td>0</td>\n",
       "      <td>0.000000</td>\n",
       "      <td>203938</td>\n",
       "    </tr>\n",
       "  </tbody>\n",
       "</table>\n",
       "<p>5 rows × 24 columns</p>\n",
       "</div>"
      ],
      "text/plain": [
       "          brand       price event_weekday hour day category_code_level1  \\\n",
       "442700   orient   75.680000             5   16   5          electronics   \n",
       "498750  samsung  379.570007             2   12   9          electronics   \n",
       "324897  samsung  249.860001             5   13  19          electronics   \n",
       "464982  samsung  173.880005             0    7   7          electronics   \n",
       "36520   samsung  252.850006             4    6   4          electronics   \n",
       "\n",
       "       category_code_level2  activity_count  price_mean   price_min  ...  \\\n",
       "442700               clocks               1   75.680000   75.680000  ...   \n",
       "498750           smartphone               4  325.820007  272.070007  ...   \n",
       "324897           smartphone               4  190.695000  131.529999  ...   \n",
       "464982           smartphone               2  173.880005  173.880005  ...   \n",
       "36520            smartphone               1  252.850006  252.850006  ...   \n",
       "\n",
       "        prev_activity_count prev_is_purchased   prev_mean    prev_min  \\\n",
       "442700                  0.0               0.0    0.000000    0.000000   \n",
       "498750                  4.0               1.0  325.820007  272.070007   \n",
       "324897                  4.0               1.0  190.695000  131.529999   \n",
       "464982                  2.0               1.0  173.880005  173.880005   \n",
       "36520                   0.0               0.0    0.000000    0.000000   \n",
       "\n",
       "          prev_max  prev_brand_most    freq_cat1   freq_cat2  purchase_ratio  \\\n",
       "442700    0.000000                0            0           0        0.000000   \n",
       "498750  379.570007           huawei  electronics  smartphone        0.857143   \n",
       "324897  249.860001          samsung  electronics  smartphone        1.000000   \n",
       "464982  173.880005          samsung  electronics  smartphone        1.000000   \n",
       "36520     0.000000                0            0           0        0.000000   \n",
       "\n",
       "       brand_count  \n",
       "442700         174  \n",
       "498750      203938  \n",
       "324897      203938  \n",
       "464982      203938  \n",
       "36520       203938  \n",
       "\n",
       "[5 rows x 24 columns]"
      ]
     },
     "execution_count": 108,
     "metadata": {},
     "output_type": "execute_result"
    }
   ],
   "source": [
    "x_train.head()"
   ]
  },
  {
   "cell_type": "code",
   "execution_count": 116,
   "metadata": {},
   "outputs": [
    {
     "name": "stderr",
     "output_type": "stream",
     "text": [
      "/home/csvankhede/anaconda3/lib/python3.7/site-packages/pandas/core/frame.py:2963: SettingWithCopyWarning: \n",
      "A value is trying to be set on a copy of a slice from a DataFrame.\n",
      "Try using .loc[row_indexer,col_indexer] = value instead\n",
      "\n",
      "See the caveats in the documentation: https://pandas.pydata.org/pandas-docs/stable/user_guide/indexing.html#returning-a-view-versus-a-copy\n",
      "  self[k1] = value[k2]\n"
     ]
    }
   ],
   "source": [
    "x_train[['event_weekday','hour','day']]=x_train[['event_weekday','hour','day']].apply(pd.to_numeric)"
   ]
  },
  {
   "cell_type": "code",
   "execution_count": 117,
   "metadata": {},
   "outputs": [
    {
     "data": {
      "text/plain": [
       "brand                         object\n",
       "price                        float64\n",
       "event_weekday                  int64\n",
       "hour                           int64\n",
       "day                            int64\n",
       "category_code_level1          object\n",
       "category_code_level2          object\n",
       "activity_count                 int64\n",
       "price_mean                   float64\n",
       "price_min                    float64\n",
       "price_max                    float64\n",
       "brand_most                    object\n",
       "category_code_level1_most     object\n",
       "category_code_level2_most     object\n",
       "prev_activity_count          float64\n",
       "prev_is_purchased            float64\n",
       "prev_mean                    float64\n",
       "prev_min                     float64\n",
       "prev_max                     float64\n",
       "prev_brand_most               object\n",
       "freq_cat1                     object\n",
       "freq_cat2                     object\n",
       "purchase_ratio               float64\n",
       "brand_count                    int64\n",
       "dtype: object"
      ]
     },
     "execution_count": 117,
     "metadata": {},
     "output_type": "execute_result"
    }
   ],
   "source": [
    "x_train.dtypes"
   ]
  },
  {
   "cell_type": "code",
   "execution_count": 136,
   "metadata": {},
   "outputs": [
    {
     "name": "stderr",
     "output_type": "stream",
     "text": [
      "/home/csvankhede/anaconda3/lib/python3.7/site-packages/pandas/core/frame.py:2963: SettingWithCopyWarning: \n",
      "A value is trying to be set on a copy of a slice from a DataFrame.\n",
      "Try using .loc[row_indexer,col_indexer] = value instead\n",
      "\n",
      "See the caveats in the documentation: https://pandas.pydata.org/pandas-docs/stable/user_guide/indexing.html#returning-a-view-versus-a-copy\n",
      "  self[k1] = value[k2]\n"
     ]
    }
   ],
   "source": [
    "x_train[['prev_brand_most','freq_cat1','freq_cat2']] = x_train[['prev_brand_most','freq_cat1','freq_cat2']].astype(str)"
   ]
  },
  {
   "cell_type": "code",
   "execution_count": 137,
   "metadata": {},
   "outputs": [
    {
     "data": {
      "text/plain": [
       "Index(['brand', 'category_code_level1', 'category_code_level2', 'brand_most',\n",
       "       'category_code_level1_most', 'category_code_level2_most',\n",
       "       'prev_brand_most', 'freq_cat1', 'freq_cat2'],\n",
       "      dtype='object')"
      ]
     },
     "execution_count": 137,
     "metadata": {},
     "output_type": "execute_result"
    }
   ],
   "source": [
    "x_train.select_dtypes(['object']).columns"
   ]
  },
  {
   "cell_type": "code",
   "execution_count": 147,
   "metadata": {},
   "outputs": [],
   "source": [
    "from sklearn.preprocessing import LabelEncoder,StandardScaler\n",
    "from collections import defaultdict\n",
    "d = defaultdict(LabelEncoder)"
   ]
  },
  {
   "cell_type": "code",
   "execution_count": 144,
   "metadata": {},
   "outputs": [
    {
     "name": "stderr",
     "output_type": "stream",
     "text": [
      "/home/csvankhede/anaconda3/lib/python3.7/site-packages/pandas/core/frame.py:2963: SettingWithCopyWarning: \n",
      "A value is trying to be set on a copy of a slice from a DataFrame.\n",
      "Try using .loc[row_indexer,col_indexer] = value instead\n",
      "\n",
      "See the caveats in the documentation: https://pandas.pydata.org/pandas-docs/stable/user_guide/indexing.html#returning-a-view-versus-a-copy\n",
      "  self[k1] = value[k2]\n"
     ]
    }
   ],
   "source": [
    "x_train[x_train.select_dtypes(['object']).columns] = x_train.select_dtypes(['object']).apply(lambda x: d[x.name].fit_transform(x))"
   ]
  },
  {
   "cell_type": "code",
   "execution_count": 146,
   "metadata": {},
   "outputs": [],
   "source": [
    "import pickle\n",
    "pickle.dump(d,open('PickledObjects/encoders.pkl','wb'))"
   ]
  },
  {
   "cell_type": "code",
   "execution_count": 145,
   "metadata": {},
   "outputs": [
    {
     "data": {
      "text/html": [
       "<div>\n",
       "<style scoped>\n",
       "    .dataframe tbody tr th:only-of-type {\n",
       "        vertical-align: middle;\n",
       "    }\n",
       "\n",
       "    .dataframe tbody tr th {\n",
       "        vertical-align: top;\n",
       "    }\n",
       "\n",
       "    .dataframe thead th {\n",
       "        text-align: right;\n",
       "    }\n",
       "</style>\n",
       "<table border=\"1\" class=\"dataframe\">\n",
       "  <thead>\n",
       "    <tr style=\"text-align: right;\">\n",
       "      <th></th>\n",
       "      <th>brand</th>\n",
       "      <th>price</th>\n",
       "      <th>event_weekday</th>\n",
       "      <th>hour</th>\n",
       "      <th>day</th>\n",
       "      <th>category_code_level1</th>\n",
       "      <th>category_code_level2</th>\n",
       "      <th>activity_count</th>\n",
       "      <th>price_mean</th>\n",
       "      <th>price_min</th>\n",
       "      <th>...</th>\n",
       "      <th>prev_activity_count</th>\n",
       "      <th>prev_is_purchased</th>\n",
       "      <th>prev_mean</th>\n",
       "      <th>prev_min</th>\n",
       "      <th>prev_max</th>\n",
       "      <th>prev_brand_most</th>\n",
       "      <th>freq_cat1</th>\n",
       "      <th>freq_cat2</th>\n",
       "      <th>purchase_ratio</th>\n",
       "      <th>brand_count</th>\n",
       "    </tr>\n",
       "  </thead>\n",
       "  <tbody>\n",
       "    <tr>\n",
       "      <th>442700</th>\n",
       "      <td>674</td>\n",
       "      <td>75.680000</td>\n",
       "      <td>5</td>\n",
       "      <td>16</td>\n",
       "      <td>5</td>\n",
       "      <td>7</td>\n",
       "      <td>10</td>\n",
       "      <td>1</td>\n",
       "      <td>75.680000</td>\n",
       "      <td>75.680000</td>\n",
       "      <td>...</td>\n",
       "      <td>0.0</td>\n",
       "      <td>0.0</td>\n",
       "      <td>0.000000</td>\n",
       "      <td>0.000000</td>\n",
       "      <td>0.000000</td>\n",
       "      <td>0</td>\n",
       "      <td>0</td>\n",
       "      <td>0</td>\n",
       "      <td>0.000000</td>\n",
       "      <td>174</td>\n",
       "    </tr>\n",
       "    <tr>\n",
       "      <th>498750</th>\n",
       "      <td>792</td>\n",
       "      <td>379.570007</td>\n",
       "      <td>2</td>\n",
       "      <td>12</td>\n",
       "      <td>9</td>\n",
       "      <td>7</td>\n",
       "      <td>37</td>\n",
       "      <td>4</td>\n",
       "      <td>325.820007</td>\n",
       "      <td>272.070007</td>\n",
       "      <td>...</td>\n",
       "      <td>4.0</td>\n",
       "      <td>1.0</td>\n",
       "      <td>325.820007</td>\n",
       "      <td>272.070007</td>\n",
       "      <td>379.570007</td>\n",
       "      <td>229</td>\n",
       "      <td>8</td>\n",
       "      <td>33</td>\n",
       "      <td>0.857143</td>\n",
       "      <td>203938</td>\n",
       "    </tr>\n",
       "    <tr>\n",
       "      <th>324897</th>\n",
       "      <td>792</td>\n",
       "      <td>249.860001</td>\n",
       "      <td>5</td>\n",
       "      <td>13</td>\n",
       "      <td>19</td>\n",
       "      <td>7</td>\n",
       "      <td>37</td>\n",
       "      <td>4</td>\n",
       "      <td>190.695000</td>\n",
       "      <td>131.529999</td>\n",
       "      <td>...</td>\n",
       "      <td>4.0</td>\n",
       "      <td>1.0</td>\n",
       "      <td>190.695000</td>\n",
       "      <td>131.529999</td>\n",
       "      <td>249.860001</td>\n",
       "      <td>403</td>\n",
       "      <td>8</td>\n",
       "      <td>33</td>\n",
       "      <td>1.000000</td>\n",
       "      <td>203938</td>\n",
       "    </tr>\n",
       "    <tr>\n",
       "      <th>464982</th>\n",
       "      <td>792</td>\n",
       "      <td>173.880005</td>\n",
       "      <td>0</td>\n",
       "      <td>7</td>\n",
       "      <td>7</td>\n",
       "      <td>7</td>\n",
       "      <td>37</td>\n",
       "      <td>2</td>\n",
       "      <td>173.880005</td>\n",
       "      <td>173.880005</td>\n",
       "      <td>...</td>\n",
       "      <td>2.0</td>\n",
       "      <td>1.0</td>\n",
       "      <td>173.880005</td>\n",
       "      <td>173.880005</td>\n",
       "      <td>173.880005</td>\n",
       "      <td>403</td>\n",
       "      <td>8</td>\n",
       "      <td>33</td>\n",
       "      <td>1.000000</td>\n",
       "      <td>203938</td>\n",
       "    </tr>\n",
       "    <tr>\n",
       "      <th>36520</th>\n",
       "      <td>792</td>\n",
       "      <td>252.850006</td>\n",
       "      <td>4</td>\n",
       "      <td>6</td>\n",
       "      <td>4</td>\n",
       "      <td>7</td>\n",
       "      <td>37</td>\n",
       "      <td>1</td>\n",
       "      <td>252.850006</td>\n",
       "      <td>252.850006</td>\n",
       "      <td>...</td>\n",
       "      <td>0.0</td>\n",
       "      <td>0.0</td>\n",
       "      <td>0.000000</td>\n",
       "      <td>0.000000</td>\n",
       "      <td>0.000000</td>\n",
       "      <td>0</td>\n",
       "      <td>0</td>\n",
       "      <td>0</td>\n",
       "      <td>0.000000</td>\n",
       "      <td>203938</td>\n",
       "    </tr>\n",
       "  </tbody>\n",
       "</table>\n",
       "<p>5 rows × 24 columns</p>\n",
       "</div>"
      ],
      "text/plain": [
       "        brand       price  event_weekday  hour  day  category_code_level1  \\\n",
       "442700    674   75.680000              5    16    5                     7   \n",
       "498750    792  379.570007              2    12    9                     7   \n",
       "324897    792  249.860001              5    13   19                     7   \n",
       "464982    792  173.880005              0     7    7                     7   \n",
       "36520     792  252.850006              4     6    4                     7   \n",
       "\n",
       "        category_code_level2  activity_count  price_mean   price_min  ...  \\\n",
       "442700                    10               1   75.680000   75.680000  ...   \n",
       "498750                    37               4  325.820007  272.070007  ...   \n",
       "324897                    37               4  190.695000  131.529999  ...   \n",
       "464982                    37               2  173.880005  173.880005  ...   \n",
       "36520                     37               1  252.850006  252.850006  ...   \n",
       "\n",
       "        prev_activity_count  prev_is_purchased   prev_mean    prev_min  \\\n",
       "442700                  0.0                0.0    0.000000    0.000000   \n",
       "498750                  4.0                1.0  325.820007  272.070007   \n",
       "324897                  4.0                1.0  190.695000  131.529999   \n",
       "464982                  2.0                1.0  173.880005  173.880005   \n",
       "36520                   0.0                0.0    0.000000    0.000000   \n",
       "\n",
       "          prev_max  prev_brand_most  freq_cat1  freq_cat2  purchase_ratio  \\\n",
       "442700    0.000000                0          0          0        0.000000   \n",
       "498750  379.570007              229          8         33        0.857143   \n",
       "324897  249.860001              403          8         33        1.000000   \n",
       "464982  173.880005              403          8         33        1.000000   \n",
       "36520     0.000000                0          0          0        0.000000   \n",
       "\n",
       "        brand_count  \n",
       "442700          174  \n",
       "498750       203938  \n",
       "324897       203938  \n",
       "464982       203938  \n",
       "36520        203938  \n",
       "\n",
       "[5 rows x 24 columns]"
      ]
     },
     "execution_count": 145,
     "metadata": {},
     "output_type": "execute_result"
    }
   ],
   "source": [
    "x_train.head()"
   ]
  },
  {
   "cell_type": "code",
   "execution_count": 148,
   "metadata": {},
   "outputs": [
    {
     "data": {
      "text/plain": [
       "brand                          int64\n",
       "price                        float64\n",
       "event_weekday                  int64\n",
       "hour                           int64\n",
       "day                            int64\n",
       "category_code_level1           int64\n",
       "category_code_level2           int64\n",
       "activity_count                 int64\n",
       "price_mean                   float64\n",
       "price_min                    float64\n",
       "price_max                    float64\n",
       "brand_most                     int64\n",
       "category_code_level1_most      int64\n",
       "category_code_level2_most      int64\n",
       "prev_activity_count          float64\n",
       "prev_is_purchased            float64\n",
       "prev_mean                    float64\n",
       "prev_min                     float64\n",
       "prev_max                     float64\n",
       "prev_brand_most                int64\n",
       "freq_cat1                      int64\n",
       "freq_cat2                      int64\n",
       "purchase_ratio               float64\n",
       "brand_count                    int64\n",
       "dtype: object"
      ]
     },
     "execution_count": 148,
     "metadata": {},
     "output_type": "execute_result"
    }
   ],
   "source": [
    "x_train.dtypes"
   ]
  },
  {
   "cell_type": "code",
   "execution_count": 151,
   "metadata": {},
   "outputs": [],
   "source": [
    "scaler = StandardScaler()\n",
    "scaled_data = scaler.fit_transform(x_train)"
   ]
  },
  {
   "cell_type": "code",
   "execution_count": 152,
   "metadata": {},
   "outputs": [
    {
     "ename": "AttributeError",
     "evalue": "'numpy.ndarray' object has no attribute 'head'",
     "output_type": "error",
     "traceback": [
      "\u001b[0;31m---------------------------------------------------------------------------\u001b[0m",
      "\u001b[0;31mAttributeError\u001b[0m                            Traceback (most recent call last)",
      "\u001b[0;32m<ipython-input-152-aa13a54b4e43>\u001b[0m in \u001b[0;36m<module>\u001b[0;34m\u001b[0m\n\u001b[0;32m----> 1\u001b[0;31m \u001b[0mscaled_data\u001b[0m\u001b[0;34m.\u001b[0m\u001b[0mhead\u001b[0m\u001b[0;34m\u001b[0m\u001b[0;34m\u001b[0m\u001b[0m\n\u001b[0m",
      "\u001b[0;31mAttributeError\u001b[0m: 'numpy.ndarray' object has no attribute 'head'"
     ]
    }
   ],
   "source": []
  },
  {
   "cell_type": "code",
   "execution_count": 312,
   "metadata": {},
   "outputs": [],
   "source": [
    "from xgboost import XGBClassifier\n",
    "from sklearn.model_selection import GridSearchCV\n",
    "import random\n",
    "\n",
    "param = {\n",
    "    'n_estimators':random.sample(range(50,150),3),\n",
    "    'max_depth':random.sample(range(5,15),2),\n",
    "    'max_leaf_node':random.sample(range(5,10),2),\n",
    "    'min_child_weight':random.sample(range(1,5),2),\n",
    "    'subsample':[random.uniform(0,1)],\n",
    "    'reg_alpha ':random.sample(range(1,5),2),\n",
    "    'learning_rate':[random.uniform(0.01,0.09) for i in range(2)]\n",
    "}\n",
    "\n",
    "model = XGBClassifier(n_jobs=-1,verbosity=1,eval_metric='auc')"
   ]
  },
  {
   "cell_type": "code",
   "execution_count": null,
   "metadata": {},
   "outputs": [
    {
     "name": "stdout",
     "output_type": "stream",
     "text": [
      "Fitting 5 folds for each of 96 candidates, totalling 480 fits\n"
     ]
    },
    {
     "name": "stderr",
     "output_type": "stream",
     "text": [
      "[Parallel(n_jobs=-1)]: Using backend LokyBackend with 8 concurrent workers.\n"
     ]
    }
   ],
   "source": [
    "clf = GridSearchCV(estimator=model,param_grid=param,n_jobs=-1,cv=5,verbose=1,return_train_score=True)\n",
    "clf.fit(x_train,y_train)"
   ]
  },
  {
   "cell_type": "code",
   "execution_count": null,
   "metadata": {},
   "outputs": [],
   "source": [
    "clf.best_score_,clf.best_params_"
   ]
  },
  {
   "cell_type": "code",
   "execution_count": 86,
   "metadata": {
    "collapsed": true,
    "jupyter": {
     "outputs_hidden": true
    }
   },
   "outputs": [
    {
     "data": {
      "text/plain": [
       "XGBClassifier(base_score=0.5, booster=None, colsample_bylevel=1,\n",
       "              colsample_bynode=1, colsample_bytree=1, gamma=0, gpu_id=-1,\n",
       "              importance_type='gain', interaction_constraints=None,\n",
       "              learning_rate=0.01, max_delta_step=0, max_depth=8,\n",
       "              max_leaf_node=3, min_child_weight=2, missing=nan,\n",
       "              monotone_constraints=None, n_estimators=50, n_jobs=0,\n",
       "              num_parallel_tree=1, objective='binary:logistic', random_state=0,\n",
       "              reg_alpha=0.93, reg_lambda=1, scale_pos_weight=1, subsample=0.75,\n",
       "              tree_method=None, validate_parameters=False, verbosity=None)"
      ]
     },
     "execution_count": 86,
     "metadata": {},
     "output_type": "execute_result"
    }
   ],
   "source": [
    "model = XGBClassifier(learning_rate=0.01,max_depth=8,max_leaf_node=3,min_child_weight=2,n_estimators=50,reg_alpha=0.93,subsample=0.75)\n",
    "model.fit(x_train,y_train)"
   ]
  },
  {
   "cell_type": "code",
   "execution_count": 88,
   "metadata": {},
   "outputs": [
    {
     "name": "stdout",
     "output_type": "stream",
     "text": [
      "Accuracy: 0.6669092894186153\n",
      "Precision: 0.6172644856129287\n",
      "Recall: 0.8626514873301506\n",
      "f1 score: 0.7196140001531746\n"
     ]
    }
   ],
   "source": [
    "y_pred = model.predict(x_test)\n",
    "print(\"Accuracy:\",metrics.accuracy_score(y_test, y_pred))\n",
    "print(\"Precision:\",metrics.precision_score(y_test, y_pred))\n",
    "print(\"Recall:\",metrics.recall_score(y_test, y_pred))\n",
    "print(\"f1 score:\",metrics.f1_score(y_test, y_pred))"
   ]
  },
  {
   "cell_type": "code",
   "execution_count": 267,
   "metadata": {},
   "outputs": [
    {
     "data": {
      "image/png": "[encoded data removed]",
      "text/plain": [
       "<Figure size 2880x720 with 1 Axes>"
      ]
     },
     "metadata": {
      "needs_background": "light"
     },
     "output_type": "display_data"
    }
   ],
   "source": [
    "plot_importance(model, max_num_features=10, importance_type ='gain',height=0.5)\n",
    "plt.rcParams['figure.figsize'] = (40, 10) \n",
    "plt.rcParams['font.size'] = 25\n",
    "plt.show()"
   ]
  },
  {
   "cell_type": "code",
   "execution_count": 206,
   "metadata": {},
   "outputs": [
    {
     "data": {
      "text/plain": [
       "[0.0004322994838245749, 2.043853083048015, 0.008490159289418497]"
      ]
     },
     "execution_count": 206,
     "metadata": {},
     "output_type": "execute_result"
    }
   ],
   "source": [
    "\n",
    "[random.(np.log(0.01), np.log(0.02)) for i in range(3)]"
   ]
  },
  {
   "cell_type": "code",
   "execution_count": 309,
   "metadata": {},
   "outputs": [],
   "source": [
    "param = {\n",
    "    'n_estimators':random.sample(range(50,150),3),\n",
    "    'max_depth':random.sample(range(5,15),2),\n",
    "    'max_leaf_node':random.sample(range(5,10),2),\n",
    "    'min_child_weight':random.sample(range(1,5),2),\n",
    "    'subsample':random.uniform(0,1),\n",
    "    'reg_alpha ':random.sample(range(1,5),2),\n",
    "    'learning_rate':[random.uniform(0.01,0.001) for i in range(2)]\n",
    "}"
   ]
  },
  {
   "cell_type": "code",
   "execution_count": 310,
   "metadata": {},
   "outputs": [
    {
     "data": {
      "text/plain": [
       "{'n_estimators': [135, 99, 87],\n",
       " 'max_depth': [13, 12],\n",
       " 'max_leaf_node': [5, 7],\n",
       " 'min_child_weight': [4, 2],\n",
       " 'subsample': 0.018092983640471738,\n",
       " 'reg_alpha ': [2, 4],\n",
       " 'learning_rate': [0.0026997484424453417, 0.004929935179320697]}"
      ]
     },
     "execution_count": 310,
     "metadata": {},
     "output_type": "execute_result"
    }
   ],
   "source": [
    "param"
   ]
  },
  {
   "cell_type": "code",
   "execution_count": null,
   "metadata": {},
   "outputs": [],
   "source": []
  },
  {
   "cell_type": "code",
   "execution_count": null,
   "metadata": {},
   "outputs": [],
   "source": []
  }
 ],
 "metadata": {
  "kernelspec": {
   "display_name": "Python 3.7.6 64-bit ('anaconda3': virtualenv)",
   "language": "python",
   "name": "python37664bitanaconda3virtualenvc1d28240486b4ea5b350e77ecdbe9c46"
  },
  "language_info": {
   "codemirror_mode": {
    "name": "ipython",
    "version": 3
   },
   "file_extension": ".py",
   "mimetype": "text/x-python",
   "name": "python",
   "nbconvert_exporter": "python",
   "pygments_lexer": "ipython3",
   "version": "3.7.6"
  }
 },
 "nbformat": 4,
 "nbformat_minor": 4
}
