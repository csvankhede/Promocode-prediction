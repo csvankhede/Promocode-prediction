{
 "cells": [
  {
   "cell_type": "code",
   "execution_count": 24,
   "metadata": {},
   "outputs": [],
   "source": [
    "import pandas as pd\n",
    "import numpy as np\n",
    "import matplotlib.pyplot as plt\n",
    "import seaborn as sbn\n",
    "import os\n",
    "from datetime import datetime\n",
    "import random\n",
    "import gc\n",
    "import pickle"
   ]
  },
  {
   "cell_type": "code",
   "execution_count": 25,
   "metadata": {},
   "outputs": [],
   "source": [
    "import findspark\n",
    "findspark.init()\n",
    "from pyspark.sql import SparkSession\n",
    "from pyspark.sql.types import StructType,IntegerType,StringType,DateType,FloatType,StructField,TimestampType\n",
    "from pyspark.sql.functions import *\n",
    "import pyspark_jobs"
   ]
  },
  {
   "cell_type": "code",
   "execution_count": 26,
   "metadata": {},
   "outputs": [],
   "source": [
    "spark = SparkSession \\\n",
    "        .builder \\\n",
    "        .appName(\"Predict promo\") \\\n",
    "        .config(\"spark.driver.memory\", \"2g\") \\\n",
    "        .config(\"spark.executor.memory\",\"4g\") \\\n",
    "        .config(\"spark.ui.showConsoleProgress\",\"True\")\\\n",
    "        .getOrCreate()"
   ]
  },
  {
   "cell_type": "code",
   "execution_count": 27,
   "metadata": {},
   "outputs": [],
   "source": [
    "schema = StructType([\n",
    "   StructField(\"event_time\", StringType(), True),\n",
    "   StructField(\"event_type\", StringType(), True),\n",
    "   StructField(\"product_id\", IntegerType(), True),\n",
    "   StructField(\"category_id\", StringType(), True),\n",
    "   StructField(\"category_code\", StringType(), True),\n",
    "   StructField(\"brand\", StringType(), True),\n",
    "   StructField(\"price\", FloatType(), True),\n",
    "   StructField(\"user_id\", IntegerType(), True),\n",
    "   StructField(\"user_session\", StringType(), True)])"
   ]
  },
  {
   "cell_type": "code",
   "execution_count": 28,
   "metadata": {},
   "outputs": [],
   "source": [
    "df = spark.read.format('csv').load('Data/2019-Oct.csv',header=True,schema=schema)"
   ]
  },
  {
   "cell_type": "code",
   "execution_count": 29,
   "metadata": {},
   "outputs": [],
   "source": [
    "train,test = df.randomSplit([0.7,0.3],45)"
   ]
  },
  {
   "cell_type": "code",
   "execution_count": 30,
   "metadata": {},
   "outputs": [],
   "source": [
    "train = train.na.drop()\n",
    "test = test.na.drop()"
   ]
  },
  {
   "cell_type": "code",
   "execution_count": 31,
   "metadata": {},
   "outputs": [
    {
     "name": "stdout",
     "output_type": "stream",
     "text": [
      "+--------------------+----------+----------+-------------------+--------------------+--------+-------+---------+--------------------+\n",
      "|          event_time|event_type|product_id|        category_id|       category_code|   brand|  price|  user_id|        user_session|\n",
      "+--------------------+----------+----------+-------------------+--------------------+--------+-------+---------+--------------------+\n",
      "|2019-10-01 00:00:...|      view|   1004237|2053013555631882655|electronics.smart...|   apple|1081.98|535871217|c6bd7419-2748-4c5...|\n",
      "|2019-10-01 00:00:...|      view|   1480613|2053013561092866779|   computers.desktop|  pulser| 908.62|512742880|0d0d91c2-c9c2-4e8...|\n",
      "|2019-10-01 00:00:...|      view|   1004545|2053013555631882655|electronics.smart...|  huawei| 566.01|537918940|406c46ed-90a4-478...|\n",
      "|2019-10-01 00:00:...|      view|   1005011|2053013555631882655|electronics.smart...| samsung| 900.64|530282093|50a293fb-5940-41b...|\n",
      "|2019-10-01 00:00:...|      view|   2900536|2053013554776244595|appliances.kitche...|elenberg|  51.46|555158050|b5bdd0b3-4ca2-4c5...|\n",
      "+--------------------+----------+----------+-------------------+--------------------+--------+-------+---------+--------------------+\n",
      "only showing top 5 rows\n",
      "\n",
      "+--------------------+----------+----------+-------------------+--------------------+------+------+---------+--------------------+\n",
      "|          event_time|event_type|product_id|        category_id|       category_code| brand| price|  user_id|        user_session|\n",
      "+--------------------+----------+----------+-------------------+--------------------+------+------+---------+--------------------+\n",
      "|2019-10-01 00:00:...|      view|   3900821|2053013552326770905|appliances.enviro...|  aqua|  33.2|554748717|9333dfbd-b87a-470...|\n",
      "|2019-10-01 00:00:...|      view|   1307067|2053013558920217191|  computers.notebook|lenovo|251.74|550050854|7c90fc70-0e80-459...|\n",
      "|2019-10-01 00:00:...|      view|  28719074|2053013565480109009|  apparel.shoes.keds| baden|102.71|520571932|ac1cd4e5-a3ce-422...|\n",
      "|2019-10-01 00:00:...|      view|   1480714|2053013561092866779|   computers.desktop|pulser|921.49|512742880|0d0d91c2-c9c2-4e8...|\n",
      "|2019-10-01 00:00:...|      view|   1004739|2053013555631882655|electronics.smart...|xiaomi|197.55|519530528|9882d21f-2c5f-496...|\n",
      "+--------------------+----------+----------+-------------------+--------------------+------+------+---------+--------------------+\n",
      "only showing top 5 rows\n",
      "\n"
     ]
    }
   ],
   "source": [
    "train.show(5)\n",
    "test.show(5)"
   ]
  },
  {
   "cell_type": "code",
   "execution_count": 34,
   "metadata": {},
   "outputs": [],
   "source": [
    "from pyspark.sql import Window\n",
    "from itertools import chain\n",
    "from pyspark.ml.feature import StringIndexer\n",
    "import pyspark_jobs\n",
    "from pyspark.ml.feature import StandardScaler,VectorAssembler\n",
    "\n",
    "def transform_data(df):\n",
    "    df = df.withColumn('event_time',df.event_time.substr(1,19).cast(TimestampType()))\n",
    "    df = df.withColumn('hour',hour(df.event_time))\\\n",
    "        .withColumn('day_of_week',dayofweek(df.event_time))\\\n",
    "        .withColumn('day_of_month',dayofmonth(df.event_time))\\\n",
    "        .withColumn('month',month(df.event_time))\\\n",
    "        .withColumn('year',year(df.event_time))\\\n",
    "        .withColumn('category',split(df.category_code,\"\\.\").getItem(0))\\\n",
    "        .withColumn('subcategory',split(df.category_code,\"\\.\").getItem(1))\n",
    "    df = df.drop('category_code')\n",
    "    cnt = df.groupBy(['user_session','user_id']).count().select('user_session','user_id', col('count').alias('activity_count'))\n",
    "    df = df.join(cnt, ['user_session','user_id'])\n",
    "    \n",
    "    window = Window.partitionBy('user_session','user_id').orderBy('event_time')\n",
    "    df = df.withColumn('prev_activity',lag('activity_count',1).over(window))\n",
    "    \n",
    "    d = {'purchase':1,'view':0,'cart':0}\n",
    "    mapping = create_map([lit(x) for x in chain(*d.items())])\n",
    "    df = df.withColumn('is_purchased',coalesce(mapping[df['event_type']],df['event_type']).alias('is_purchased'))\n",
    "    \n",
    "    df = df.withColumn('prev_purchase',lag('is_purchased',1).over(window))\n",
    "\n",
    "    indexer = StringIndexer(inputCols=['brand','category','subcategory'],outputCols=['brand_tr','category_tr','subcategory_tr']).fit(df)\n",
    "    \n",
    "    indexed = indexer.transform(df)\n",
    "    \n",
    "    schema = {'prev_activity':'int','prev_purchase':'int','is_purchased':'int'}\n",
    "    indexed = pyspark_jobs.change_col_type(indexed,schema)\n",
    "    \n",
    "    indexed = indexed.drop('event_type','brand','category','subcategory')\n",
    "    indexed = indexed.fillna(0)\n",
    "\n",
    "    cols = ['price','hour','day_of_week','day_of_month','month','year','activity_count','brand_tr','category_tr','subcategory_tr','prev_activity','prev_purchase']\n",
    "    assembler = VectorAssembler().setInputCols(cols).setOutputCol('features')\n",
    "    transformed = assembler.transform(indexed)\n",
    "\n",
    "    scaler = StandardScaler(inputCol='features',outputCol='scaledFeatures')\n",
    "    model  = scaler.fit(transformed.select('features'))\n",
    "    scaled_features = model.transform(transformed)\n",
    "      \n",
    "    \n",
    "    scaled_features = scaled_features.drop('features')\n",
    "    model.save('PickledObjects/scaler_v0.3')    \n",
    "    assembler.save('PickledObjects/assembler_v0.3')  \n",
    "    indexer.save('PickledObjects/indexer_v0.3')\n",
    "    return scaled_features"
   ]
  },
  {
   "cell_type": "code",
   "execution_count": 35,
   "metadata": {},
   "outputs": [],
   "source": [
    "transformed_train = transform_data(train)"
   ]
  },
  {
   "cell_type": "code",
   "execution_count": 36,
   "metadata": {},
   "outputs": [
    {
     "name": "stdout",
     "output_type": "stream",
     "text": [
      "+--------------------+---------+-------------------+----------+-------------------+------+----+-----------+------------+-----+----+--------------+-------------+------------+-------------+--------+-----------+--------------+--------------------+\n",
      "|        user_session|  user_id|         event_time|product_id|        category_id| price|hour|day_of_week|day_of_month|month|year|activity_count|prev_activity|is_purchased|prev_purchase|brand_tr|category_tr|subcategory_tr|      scaledFeatures|\n",
      "+--------------------+---------+-------------------+----------+-------------------+------+----+-----------+------------+-----+----+--------------+-------------+------------+-------------+--------+-----------+--------------+--------------------+\n",
      "|0003726c-81ad-49c...|515826621|2019-10-26 13:27:02|   5000556|2053013566100866035|780.53|  13|          7|          26|   10|2019|             2|            0|           1|            0|   186.0|        1.0|          20.0|[2.04809407735095...|\n",
      "|0003726c-81ad-49c...|515826621|2019-10-26 13:27:28|   5000556|2053013566100866035|780.53|  13|          7|          26|   10|2019|             2|            2|           0|            1|   186.0|        1.0|          20.0|[2.04809407735095...|\n",
      "|00050a0a-8c43-4c3...|533688356|2019-10-22 07:13:42|  28716983|2053013565069067197| 71.82|   7|          3|          22|   10|2019|             4|            0|           0|            0|    11.0|        3.0|           7.0|[0.18845414076230...|\n",
      "|00050a0a-8c43-4c3...|533688356|2019-10-22 07:13:54|  28716983|2053013565069067197| 71.82|   7|          3|          22|   10|2019|             4|            4|           0|            0|    11.0|        3.0|           7.0|[0.18845414076230...|\n",
      "|00050a0a-8c43-4c3...|533688356|2019-10-22 07:14:47|  28716984|2053013565069067197| 71.82|   7|          3|          22|   10|2019|             4|            4|           0|            0|    11.0|        3.0|           7.0|[0.18845414076230...|\n",
      "+--------------------+---------+-------------------+----------+-------------------+------+----+-----------+------------+-----+----+--------------+-------------+------------+-------------+--------+-----------+--------------+--------------------+\n",
      "only showing top 5 rows\n",
      "\n"
     ]
    }
   ],
   "source": [
    "transformed_train.show(5)"
   ]
  },
  {
   "cell_type": "code",
   "execution_count": 37,
   "metadata": {},
   "outputs": [],
   "source": [
    "from pyspark.ml.classification import LogisticRegression\n",
    "\n",
    "model = LogisticRegression(featuresCol='scaledFeatures', labelCol='is_purchased', predictionCol='prediction',\\\n",
    "                           maxIter=500, regParam=0.001, elasticNetParam=0.0, tol=1e-06, fitIntercept=True,\\\n",
    "                           threshold=0.5,aggregationDepth=2, family='auto').fit(transformed_train)\n"
   ]
  },
  {
   "cell_type": "code",
   "execution_count": 38,
   "metadata": {},
   "outputs": [
    {
     "data": {
      "image/png": "[encoded data removed]",
      "text/plain": [
       "<Figure size 432x288 with 1 Axes>"
      ]
     },
     "metadata": {
      "needs_background": "light"
     },
     "output_type": "display_data"
    },
    {
     "name": "stdout",
     "output_type": "stream",
     "text": [
      "Training set ROC: 0.6684086773799041\n"
     ]
    }
   ],
   "source": [
    "import matplotlib.pyplot as plt\n",
    "\n",
    "trainingSummary = model.summary\n",
    "\n",
    "roc = trainingSummary.roc.toPandas()\n",
    "plt.plot(roc['FPR'],roc['TPR'])\n",
    "plt.ylabel('False Positive Rate')\n",
    "plt.xlabel('True Positive Rate')\n",
    "plt.title('ROC Curve')\n",
    "plt.show()\n",
    "print('Training set ROC: ' + str(trainingSummary.areaUnderROC))"
   ]
  },
  {
   "cell_type": "code",
   "execution_count": 39,
   "metadata": {},
   "outputs": [
    {
     "data": {
      "text/plain": [
       "0.9793295783213756"
      ]
     },
     "execution_count": 39,
     "metadata": {},
     "output_type": "execute_result"
    }
   ],
   "source": [
    "trainingSummary.accuracy"
   ]
  },
  {
   "cell_type": "code",
   "execution_count": 24,
   "metadata": {},
   "outputs": [
    {
     "name": "stdout",
     "output_type": "stream",
     "text": [
      "+------------+--------+\n",
      "|is_purchased|   count|\n",
      "+------------+--------+\n",
      "|           1|  384331|\n",
      "|           0|18208952|\n",
      "+------------+--------+\n",
      "\n"
     ]
    }
   ],
   "source": [
    "transformed_train.groupBy('is_purchased').count().show()"
   ]
  },
  {
   "cell_type": "code",
   "execution_count": 40,
   "metadata": {},
   "outputs": [],
   "source": [
    "from pyspark.sql import Window\n",
    "from itertools import chain\n",
    "from pyspark.ml.feature import StringIndexerModel\n",
    "import pyspark_jobs\n",
    "from pyspark.ml.feature import StandardScalerModel,VectorAssembler\n",
    "\n",
    "def transform_data_model(df):\n",
    "    df = df.withColumn('event_time',df.event_time.substr(1,19).cast(TimestampType()))\n",
    "    df = df.withColumn('hour',hour(df.event_time))\\\n",
    "        .withColumn('day_of_week',dayofweek(df.event_time))\\\n",
    "        .withColumn('day_of_month',dayofmonth(df.event_time))\\\n",
    "        .withColumn('month',month(df.event_time))\\\n",
    "        .withColumn('year',year(df.event_time))\\\n",
    "        .withColumn('category',split(df.category_code,\"\\.\").getItem(0))\\\n",
    "        .withColumn('subcategory',split(df.category_code,\"\\.\").getItem(1))\n",
    "    df = df.drop('category_code')\n",
    "    cnt = df.groupBy(['user_session','user_id']).count().select('user_session','user_id', col('count').alias('activity_count'))\n",
    "    df = df.join(cnt, ['user_session','user_id'])\n",
    "    \n",
    "    window = Window.partitionBy('user_session','user_id').orderBy('event_time')\n",
    "    df = df.withColumn('prev_activity',lag('activity_count',1).over(window))\n",
    "    \n",
    "    d = {'purchase':1,'view':0,'cart':0}\n",
    "    mapping = create_map([lit(x) for x in chain(*d.items())])\n",
    "    df = df.withColumn('is_purchased',coalesce(mapping[df['event_type']],df['event_type']).alias('is_purchased'))\n",
    "    \n",
    "    df = df.withColumn('prev_purchase',lag('is_purchased',1).over(window))\n",
    "\n",
    "    indexer = StringIndexerModel.load('PickledObjects/indexer_v0.3').setHandleInvalid(\"keep\")\n",
    "    \n",
    "    indexed = indexer.transform(df)\n",
    "    \n",
    "    schema = {'prev_activity':'int','prev_purchase':'int','is_purchased':'int'}\n",
    "    indexed = pyspark_jobs.change_col_type(indexed,schema)\n",
    "    \n",
    "    indexed = indexed.drop('event_type','brand','category','subcategory')\n",
    "    indexed = indexed.fillna(0)\n",
    "\n",
    "    cols = ['price','hour','day_of_week','day_of_month','month','year','activity_count','brand_tr','category_tr','subcategory_tr','prev_activity','prev_purchase']\n",
    "    assembler = VectorAssembler.load('PickledObjects/assembler_v0.3')\n",
    "    transformed = assembler.transform(indexed)\n",
    "\n",
    "    scaler = StandardScalerModel.load('PickledObjects/scaler_v0.3')\n",
    "    scaled_features = scaler.transform(transformed)\n",
    "      \n",
    "    \n",
    "    scaled_features = scaled_features.drop('features')\n",
    "#     model.save('PickledObjects/scaler_v0.3')    \n",
    "#     assembler.save('PickledObjects/assembler_v0.3')  \n",
    "#     indexer.save('PickledObjects/indexer_v0.3')\n",
    "    return scaled_features"
   ]
  },
  {
   "cell_type": "code",
   "execution_count": 41,
   "metadata": {},
   "outputs": [],
   "source": [
    "transformed_test = transform_data_model(test)"
   ]
  },
  {
   "cell_type": "code",
   "execution_count": 42,
   "metadata": {},
   "outputs": [
    {
     "name": "stdout",
     "output_type": "stream",
     "text": [
      "+--------------------+---------+-------------------+----------+-------------------+------+----+-----------+------------+-----+----+--------------+-------------+------------+-------------+--------+-----------+--------------+--------------------+\n",
      "|        user_session|  user_id|         event_time|product_id|        category_id| price|hour|day_of_week|day_of_month|month|year|activity_count|prev_activity|is_purchased|prev_purchase|brand_tr|category_tr|subcategory_tr|      scaledFeatures|\n",
      "+--------------------+---------+-------------------+----------+-------------------+------+----+-----------+------------+-----+----+--------------+-------------+------------+-------------+--------+-----------+--------------+--------------------+\n",
      "|0003726c-81ad-49c...|515826621|2019-10-26 13:26:06|   5000556|2053013566100866035|780.53|  13|          7|          26|   10|2019|             1|            0|           0|            0|   186.0|        1.0|          20.0|[2.04809407735095...|\n",
      "|000729f8-7f6c-43f...|533784978|2019-10-12 18:16:54|   5100719|2053013553341792533|151.61|  18|          7|          12|   10|2019|             1|            0|           0|            0|     0.0|        0.0|           3.0|[0.39782139400447...|\n",
      "|00090265-b348-494...|534798873|2019-10-06 11:34:24|  21400503|2053013561579406073|  76.7|  11|          1|           6|   10|2019|             2|            0|           0|            0|    12.0|        0.0|           3.0|[0.20125914902216...|\n",
      "|00090265-b348-494...|534798873|2019-10-06 11:34:44|  21403660|2053013561579406073| 34.98|  11|          1|           6|   10|2019|             2|            2|           0|            0|    12.0|        0.0|           3.0|[0.09178676950165...|\n",
      "|001870a2-7f85-45a...|564681869|2019-10-27 14:06:59|   5100857|2053013553341792533|559.24|  14|          1|          27|   10|2019|             2|            0|           0|            0|     1.0|        0.0|           3.0|[1.46743375504542...|\n",
      "+--------------------+---------+-------------------+----------+-------------------+------+----+-----------+------------+-----+----+--------------+-------------+------------+-------------+--------+-----------+--------------+--------------------+\n",
      "only showing top 5 rows\n",
      "\n"
     ]
    }
   ],
   "source": [
    "transformed_test.show(5)"
   ]
  },
  {
   "cell_type": "code",
   "execution_count": 43,
   "metadata": {},
   "outputs": [],
   "source": [
    "pred = model.transform(transformed_test)"
   ]
  },
  {
   "cell_type": "code",
   "execution_count": 44,
   "metadata": {},
   "outputs": [
    {
     "name": "stdout",
     "output_type": "stream",
     "text": [
      "Test_SET (Area Under ROC): 0.6572401566343665\n"
     ]
    }
   ],
   "source": [
    "from pyspark.ml.evaluation import BinaryClassificationEvaluator\n",
    "evaluator = BinaryClassificationEvaluator(labelCol='is_purchased')\n",
    "print(\"Test_SET (Area Under ROC): \" + str(evaluator.evaluate(pred, {evaluator.metricName: \"areaUnderROC\"})))"
   ]
  },
  {
   "cell_type": "code",
   "execution_count": 45,
   "metadata": {},
   "outputs": [
    {
     "data": {
      "text/plain": [
       "[0.9895568570767509, 0.0]"
      ]
     },
     "execution_count": 45,
     "metadata": {},
     "output_type": "execute_result"
    }
   ],
   "source": [
    "trainingSummary.fMeasureByLabel()"
   ]
  },
  {
   "cell_type": "code",
   "execution_count": 46,
   "metadata": {},
   "outputs": [
    {
     "data": {
      "text/plain": [
       "[0.9793295783213756, 0.0]"
      ]
     },
     "execution_count": 46,
     "metadata": {},
     "output_type": "execute_result"
    }
   ],
   "source": [
    "trainingSummary.precisionByLabel"
   ]
  },
  {
   "cell_type": "code",
   "execution_count": 62,
   "metadata": {},
   "outputs": [],
   "source": [
    "from pyspark.ml.classification import GBTClassifier\n",
    "\n",
    "model = GBTClassifier(featuresCol='scaledFeatures', labelCol='is_purchased',\\\n",
    "                      predictionCol='prediction', maxDepth=8, maxBins=32, \\\n",
    "                      minInstancesPerNode=1, minInfoGain=0.1, maxMemoryInMB=256,\\\n",
    "                      cacheNodeIds=False, checkpointInterval=10, lossType=\"logistic\",\\\n",
    "                      maxIter=10, stepSize=0.1).fit(transformed_train)\n"
   ]
  },
  {
   "cell_type": "code",
   "execution_count": 64,
   "metadata": {},
   "outputs": [
    {
     "name": "stdout",
     "output_type": "stream",
     "text": [
      "Test_SET (Area Under ROC): 0.5\n"
     ]
    }
   ],
   "source": [
    "from pyspark.ml.evaluation import BinaryClassificationEvaluator\n",
    "# Make predictions.\n",
    "predictions = model.transform(transformed_train)\n",
    "\n",
    "\n",
    "from pyspark.ml.evaluation import BinaryClassificationEvaluator\n",
    "evaluator = BinaryClassificationEvaluator(labelCol='is_purchased')\n",
    "print(\"Test_SET (Area Under ROC): \" + str(evaluator.evaluate(predictions, {evaluator.metricName: \"areaUnderROC\"})))"
   ]
  },
  {
   "cell_type": "code",
   "execution_count": 66,
   "metadata": {},
   "outputs": [
    {
     "ename": "KeyboardInterrupt",
     "evalue": "",
     "output_type": "error",
     "traceback": [
      "\u001b[0;31m---------------------------------------------------------------------------\u001b[0m",
      "\u001b[0;31mKeyboardInterrupt\u001b[0m                         Traceback (most recent call last)",
      "\u001b[0;32m<ipython-input-66-95221a39b1ae>\u001b[0m in \u001b[0;36m<module>\u001b[0;34m\u001b[0m\n\u001b[1;32m      1\u001b[0m \u001b[0;32mfrom\u001b[0m \u001b[0mpyspark\u001b[0m\u001b[0;34m.\u001b[0m\u001b[0mml\u001b[0m\u001b[0;34m.\u001b[0m\u001b[0mclassification\u001b[0m \u001b[0;32mimport\u001b[0m \u001b[0mLinearSVC\u001b[0m\u001b[0;34m\u001b[0m\u001b[0;34m\u001b[0m\u001b[0m\n\u001b[1;32m      2\u001b[0m \u001b[0;34m\u001b[0m\u001b[0m\n\u001b[0;32m----> 3\u001b[0;31m \u001b[0mmodel\u001b[0m \u001b[0;34m=\u001b[0m \u001b[0mLinearSVC\u001b[0m\u001b[0;34m(\u001b[0m\u001b[0mfeaturesCol\u001b[0m\u001b[0;34m=\u001b[0m\u001b[0;34m'scaledFeatures'\u001b[0m\u001b[0;34m,\u001b[0m \u001b[0mlabelCol\u001b[0m\u001b[0;34m=\u001b[0m\u001b[0;34m'is_purchased'\u001b[0m\u001b[0;34m)\u001b[0m\u001b[0;34m.\u001b[0m\u001b[0mfit\u001b[0m\u001b[0;34m(\u001b[0m\u001b[0mtransformed_train\u001b[0m\u001b[0;34m)\u001b[0m\u001b[0;34m\u001b[0m\u001b[0;34m\u001b[0m\u001b[0m\n\u001b[0m",
      "\u001b[0;32m~/spark/python/pyspark/ml/base.py\u001b[0m in \u001b[0;36mfit\u001b[0;34m(self, dataset, params)\u001b[0m\n\u001b[1;32m    129\u001b[0m                 \u001b[0;32mreturn\u001b[0m \u001b[0mself\u001b[0m\u001b[0;34m.\u001b[0m\u001b[0mcopy\u001b[0m\u001b[0;34m(\u001b[0m\u001b[0mparams\u001b[0m\u001b[0;34m)\u001b[0m\u001b[0;34m.\u001b[0m\u001b[0m_fit\u001b[0m\u001b[0;34m(\u001b[0m\u001b[0mdataset\u001b[0m\u001b[0;34m)\u001b[0m\u001b[0;34m\u001b[0m\u001b[0;34m\u001b[0m\u001b[0m\n\u001b[1;32m    130\u001b[0m             \u001b[0;32melse\u001b[0m\u001b[0;34m:\u001b[0m\u001b[0;34m\u001b[0m\u001b[0;34m\u001b[0m\u001b[0m\n\u001b[0;32m--> 131\u001b[0;31m                 \u001b[0;32mreturn\u001b[0m \u001b[0mself\u001b[0m\u001b[0;34m.\u001b[0m\u001b[0m_fit\u001b[0m\u001b[0;34m(\u001b[0m\u001b[0mdataset\u001b[0m\u001b[0;34m)\u001b[0m\u001b[0;34m\u001b[0m\u001b[0;34m\u001b[0m\u001b[0m\n\u001b[0m\u001b[1;32m    132\u001b[0m         \u001b[0;32melse\u001b[0m\u001b[0;34m:\u001b[0m\u001b[0;34m\u001b[0m\u001b[0;34m\u001b[0m\u001b[0m\n\u001b[1;32m    133\u001b[0m             raise ValueError(\"Params must be either a param map or a list/tuple of param maps, \"\n",
      "\u001b[0;32m~/spark/python/pyspark/ml/wrapper.py\u001b[0m in \u001b[0;36m_fit\u001b[0;34m(self, dataset)\u001b[0m\n\u001b[1;32m    319\u001b[0m \u001b[0;34m\u001b[0m\u001b[0m\n\u001b[1;32m    320\u001b[0m     \u001b[0;32mdef\u001b[0m \u001b[0m_fit\u001b[0m\u001b[0;34m(\u001b[0m\u001b[0mself\u001b[0m\u001b[0;34m,\u001b[0m \u001b[0mdataset\u001b[0m\u001b[0;34m)\u001b[0m\u001b[0;34m:\u001b[0m\u001b[0;34m\u001b[0m\u001b[0;34m\u001b[0m\u001b[0m\n\u001b[0;32m--> 321\u001b[0;31m         \u001b[0mjava_model\u001b[0m \u001b[0;34m=\u001b[0m \u001b[0mself\u001b[0m\u001b[0;34m.\u001b[0m\u001b[0m_fit_java\u001b[0m\u001b[0;34m(\u001b[0m\u001b[0mdataset\u001b[0m\u001b[0;34m)\u001b[0m\u001b[0;34m\u001b[0m\u001b[0;34m\u001b[0m\u001b[0m\n\u001b[0m\u001b[1;32m    322\u001b[0m         \u001b[0mmodel\u001b[0m \u001b[0;34m=\u001b[0m \u001b[0mself\u001b[0m\u001b[0;34m.\u001b[0m\u001b[0m_create_model\u001b[0m\u001b[0;34m(\u001b[0m\u001b[0mjava_model\u001b[0m\u001b[0;34m)\u001b[0m\u001b[0;34m\u001b[0m\u001b[0;34m\u001b[0m\u001b[0m\n\u001b[1;32m    323\u001b[0m         \u001b[0;32mreturn\u001b[0m \u001b[0mself\u001b[0m\u001b[0;34m.\u001b[0m\u001b[0m_copyValues\u001b[0m\u001b[0;34m(\u001b[0m\u001b[0mmodel\u001b[0m\u001b[0;34m)\u001b[0m\u001b[0;34m\u001b[0m\u001b[0;34m\u001b[0m\u001b[0m\n",
      "\u001b[0;32m~/spark/python/pyspark/ml/wrapper.py\u001b[0m in \u001b[0;36m_fit_java\u001b[0;34m(self, dataset)\u001b[0m\n\u001b[1;32m    316\u001b[0m         \"\"\"\n\u001b[1;32m    317\u001b[0m         \u001b[0mself\u001b[0m\u001b[0;34m.\u001b[0m\u001b[0m_transfer_params_to_java\u001b[0m\u001b[0;34m(\u001b[0m\u001b[0;34m)\u001b[0m\u001b[0;34m\u001b[0m\u001b[0;34m\u001b[0m\u001b[0m\n\u001b[0;32m--> 318\u001b[0;31m         \u001b[0;32mreturn\u001b[0m \u001b[0mself\u001b[0m\u001b[0;34m.\u001b[0m\u001b[0m_java_obj\u001b[0m\u001b[0;34m.\u001b[0m\u001b[0mfit\u001b[0m\u001b[0;34m(\u001b[0m\u001b[0mdataset\u001b[0m\u001b[0;34m.\u001b[0m\u001b[0m_jdf\u001b[0m\u001b[0;34m)\u001b[0m\u001b[0;34m\u001b[0m\u001b[0;34m\u001b[0m\u001b[0m\n\u001b[0m\u001b[1;32m    319\u001b[0m \u001b[0;34m\u001b[0m\u001b[0m\n\u001b[1;32m    320\u001b[0m     \u001b[0;32mdef\u001b[0m \u001b[0m_fit\u001b[0m\u001b[0;34m(\u001b[0m\u001b[0mself\u001b[0m\u001b[0;34m,\u001b[0m \u001b[0mdataset\u001b[0m\u001b[0;34m)\u001b[0m\u001b[0;34m:\u001b[0m\u001b[0;34m\u001b[0m\u001b[0;34m\u001b[0m\u001b[0m\n",
      "\u001b[0;32m~/spark/python/lib/py4j-0.10.8.1-src.zip/py4j/java_gateway.py\u001b[0m in \u001b[0;36m__call__\u001b[0;34m(self, *args)\u001b[0m\n\u001b[1;32m   1282\u001b[0m             \u001b[0mproto\u001b[0m\u001b[0;34m.\u001b[0m\u001b[0mEND_COMMAND_PART\u001b[0m\u001b[0;34m\u001b[0m\u001b[0;34m\u001b[0m\u001b[0m\n\u001b[1;32m   1283\u001b[0m \u001b[0;34m\u001b[0m\u001b[0m\n\u001b[0;32m-> 1284\u001b[0;31m         \u001b[0manswer\u001b[0m \u001b[0;34m=\u001b[0m \u001b[0mself\u001b[0m\u001b[0;34m.\u001b[0m\u001b[0mgateway_client\u001b[0m\u001b[0;34m.\u001b[0m\u001b[0msend_command\u001b[0m\u001b[0;34m(\u001b[0m\u001b[0mcommand\u001b[0m\u001b[0;34m)\u001b[0m\u001b[0;34m\u001b[0m\u001b[0;34m\u001b[0m\u001b[0m\n\u001b[0m\u001b[1;32m   1285\u001b[0m         return_value = get_return_value(\n\u001b[1;32m   1286\u001b[0m             answer, self.gateway_client, self.target_id, self.name)\n",
      "\u001b[0;32m~/spark/python/lib/py4j-0.10.8.1-src.zip/py4j/java_gateway.py\u001b[0m in \u001b[0;36msend_command\u001b[0;34m(self, command, retry, binary)\u001b[0m\n\u001b[1;32m   1012\u001b[0m         \u001b[0mconnection\u001b[0m \u001b[0;34m=\u001b[0m \u001b[0mself\u001b[0m\u001b[0;34m.\u001b[0m\u001b[0m_get_connection\u001b[0m\u001b[0;34m(\u001b[0m\u001b[0;34m)\u001b[0m\u001b[0;34m\u001b[0m\u001b[0;34m\u001b[0m\u001b[0m\n\u001b[1;32m   1013\u001b[0m         \u001b[0;32mtry\u001b[0m\u001b[0;34m:\u001b[0m\u001b[0;34m\u001b[0m\u001b[0;34m\u001b[0m\u001b[0m\n\u001b[0;32m-> 1014\u001b[0;31m             \u001b[0mresponse\u001b[0m \u001b[0;34m=\u001b[0m \u001b[0mconnection\u001b[0m\u001b[0;34m.\u001b[0m\u001b[0msend_command\u001b[0m\u001b[0;34m(\u001b[0m\u001b[0mcommand\u001b[0m\u001b[0;34m)\u001b[0m\u001b[0;34m\u001b[0m\u001b[0;34m\u001b[0m\u001b[0m\n\u001b[0m\u001b[1;32m   1015\u001b[0m             \u001b[0;32mif\u001b[0m \u001b[0mbinary\u001b[0m\u001b[0;34m:\u001b[0m\u001b[0;34m\u001b[0m\u001b[0;34m\u001b[0m\u001b[0m\n\u001b[1;32m   1016\u001b[0m                 \u001b[0;32mreturn\u001b[0m \u001b[0mresponse\u001b[0m\u001b[0;34m,\u001b[0m \u001b[0mself\u001b[0m\u001b[0;34m.\u001b[0m\u001b[0m_create_connection_guard\u001b[0m\u001b[0;34m(\u001b[0m\u001b[0mconnection\u001b[0m\u001b[0;34m)\u001b[0m\u001b[0;34m\u001b[0m\u001b[0;34m\u001b[0m\u001b[0m\n",
      "\u001b[0;32m~/spark/python/lib/py4j-0.10.8.1-src.zip/py4j/java_gateway.py\u001b[0m in \u001b[0;36msend_command\u001b[0;34m(self, command)\u001b[0m\n\u001b[1;32m   1179\u001b[0m \u001b[0;34m\u001b[0m\u001b[0m\n\u001b[1;32m   1180\u001b[0m         \u001b[0;32mtry\u001b[0m\u001b[0;34m:\u001b[0m\u001b[0;34m\u001b[0m\u001b[0;34m\u001b[0m\u001b[0m\n\u001b[0;32m-> 1181\u001b[0;31m             \u001b[0manswer\u001b[0m \u001b[0;34m=\u001b[0m \u001b[0msmart_decode\u001b[0m\u001b[0;34m(\u001b[0m\u001b[0mself\u001b[0m\u001b[0;34m.\u001b[0m\u001b[0mstream\u001b[0m\u001b[0;34m.\u001b[0m\u001b[0mreadline\u001b[0m\u001b[0;34m(\u001b[0m\u001b[0;34m)\u001b[0m\u001b[0;34m[\u001b[0m\u001b[0;34m:\u001b[0m\u001b[0;34m-\u001b[0m\u001b[0;36m1\u001b[0m\u001b[0;34m]\u001b[0m\u001b[0;34m)\u001b[0m\u001b[0;34m\u001b[0m\u001b[0;34m\u001b[0m\u001b[0m\n\u001b[0m\u001b[1;32m   1182\u001b[0m             \u001b[0mlogger\u001b[0m\u001b[0;34m.\u001b[0m\u001b[0mdebug\u001b[0m\u001b[0;34m(\u001b[0m\u001b[0;34m\"Answer received: {0}\"\u001b[0m\u001b[0;34m.\u001b[0m\u001b[0mformat\u001b[0m\u001b[0;34m(\u001b[0m\u001b[0manswer\u001b[0m\u001b[0;34m)\u001b[0m\u001b[0;34m)\u001b[0m\u001b[0;34m\u001b[0m\u001b[0;34m\u001b[0m\u001b[0m\n\u001b[1;32m   1183\u001b[0m             \u001b[0;32mif\u001b[0m \u001b[0manswer\u001b[0m\u001b[0;34m.\u001b[0m\u001b[0mstartswith\u001b[0m\u001b[0;34m(\u001b[0m\u001b[0mproto\u001b[0m\u001b[0;34m.\u001b[0m\u001b[0mRETURN_MESSAGE\u001b[0m\u001b[0;34m)\u001b[0m\u001b[0;34m:\u001b[0m\u001b[0;34m\u001b[0m\u001b[0;34m\u001b[0m\u001b[0m\n",
      "\u001b[0;32m~/anaconda3/lib/python3.7/socket.py\u001b[0m in \u001b[0;36mreadinto\u001b[0;34m(self, b)\u001b[0m\n\u001b[1;32m    587\u001b[0m         \u001b[0;32mwhile\u001b[0m \u001b[0;32mTrue\u001b[0m\u001b[0;34m:\u001b[0m\u001b[0;34m\u001b[0m\u001b[0;34m\u001b[0m\u001b[0m\n\u001b[1;32m    588\u001b[0m             \u001b[0;32mtry\u001b[0m\u001b[0;34m:\u001b[0m\u001b[0;34m\u001b[0m\u001b[0;34m\u001b[0m\u001b[0m\n\u001b[0;32m--> 589\u001b[0;31m                 \u001b[0;32mreturn\u001b[0m \u001b[0mself\u001b[0m\u001b[0;34m.\u001b[0m\u001b[0m_sock\u001b[0m\u001b[0;34m.\u001b[0m\u001b[0mrecv_into\u001b[0m\u001b[0;34m(\u001b[0m\u001b[0mb\u001b[0m\u001b[0;34m)\u001b[0m\u001b[0;34m\u001b[0m\u001b[0;34m\u001b[0m\u001b[0m\n\u001b[0m\u001b[1;32m    590\u001b[0m             \u001b[0;32mexcept\u001b[0m \u001b[0mtimeout\u001b[0m\u001b[0;34m:\u001b[0m\u001b[0;34m\u001b[0m\u001b[0;34m\u001b[0m\u001b[0m\n\u001b[1;32m    591\u001b[0m                 \u001b[0mself\u001b[0m\u001b[0;34m.\u001b[0m\u001b[0m_timeout_occurred\u001b[0m \u001b[0;34m=\u001b[0m \u001b[0;32mTrue\u001b[0m\u001b[0;34m\u001b[0m\u001b[0;34m\u001b[0m\u001b[0m\n",
      "\u001b[0;31mKeyboardInterrupt\u001b[0m: "
     ]
    }
   ],
   "source": [
    "from pyspark.ml.classification import LinearSVC\n",
    "\n",
    "model = LinearSVC(featuresCol='scaledFeatures', labelCol='is_purchased').fit(transformed_train)"
   ]
  },
  {
   "cell_type": "code",
   "execution_count": null,
   "metadata": {},
   "outputs": [],
   "source": [
    "from pyspark.ml.evaluation import BinaryClassificationEvaluator\n",
    "\n",
    "predictions = model.transform(transformed_train)\n",
    "\n",
    "evaluator = BinaryClassificationEvaluator(labelCol='is_purchased')\n",
    "print(\"Test_SET (Area Under ROC): \" + str(evaluator.evaluate(predictions, {evaluator.metricName: \"areaUnderROC\"})))"
   ]
  },
  {
   "cell_type": "code",
   "execution_count": 67,
   "metadata": {},
   "outputs": [],
   "source": [
    "spark.stop()"
   ]
  },
  {
   "cell_type": "code",
   "execution_count": null,
   "metadata": {},
   "outputs": [],
   "source": []
  }
 ],
 "metadata": {
  "kernelspec": {
   "display_name": "Python 3.7.6 64-bit ('anaconda3': virtualenv)",
   "language": "python",
   "name": "python37664bitanaconda3virtualenvc1d28240486b4ea5b350e77ecdbe9c46"
  },
  "language_info": {
   "codemirror_mode": {
    "name": "ipython",
    "version": 3
   },
   "file_extension": ".py",
   "mimetype": "text/x-python",
   "name": "python",
   "nbconvert_exporter": "python",
   "pygments_lexer": "ipython3",
   "version": "3.7.6"
  }
 },
 "nbformat": 4,
 "nbformat_minor": 4
}
