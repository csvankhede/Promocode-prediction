{
 "cells": [
  {
   "cell_type": "markdown",
   "metadata": {},
   "source": [
    "# Dependencies\n",
    "\n",
    "**Python 3.6.7**\n",
    "\n",
    "Below is the list of libraries and frameworks used in machine learning projects\n",
    "\n",
    "1. pandas (1.0.1) and pyspark (3.0.0.dev2)    \n",
    "    * Used to load and modify data\n",
    "2. sklearn (0.22)  \n",
    "    * Data Preprocessing and ML models\n",
    "3. scipy (1.4.1)  \n",
    "    * Matrix operations\n",
    "4. numpy (1.18.1)  \n",
    "    * Operations on array and matrix\n",
    "5. xgboost (1.0.2)      \n",
    "    * Gradient boosting ML algorithm\n",
    "6. matplotlib (3.1.3), seaborn (0.10.0)   \n",
    "    * Data visulization\n",
    "7. pickle   \n",
    "    * To save object in memory to use latter\n",
    "8. datetime  \n",
    "    * For operations on date \n",
    "9. keras (2.3.1), Tensorflow (2.1.0)     \n",
    "    * Deep learning library for designing neural networks\n",
    "\n",
    "\n"
   ]
  },
  {
   "cell_type": "code",
   "execution_count": null,
   "metadata": {},
   "outputs": [],
   "source": []
  }
 ],
 "metadata": {
  "language_info": {
   "codemirror_mode": {
    "name": "ipython",
    "version": 3
   },
   "file_extension": ".py",
   "mimetype": "text/x-python",
   "name": "python",
   "nbconvert_exporter": "python",
   "pygments_lexer": "ipython3",
   "version": 3
  },
  "orig_nbformat": 2
 },
 "nbformat": 4,
 "nbformat_minor": 2
}